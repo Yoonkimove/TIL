{
 "cells": [
  {
   "cell_type": "code",
   "execution_count": 2,
   "metadata": {},
   "outputs": [],
   "source": [
    "import pandas as pd"
   ]
  },
  {
   "cell_type": "code",
   "execution_count": 3,
   "metadata": {},
   "outputs": [],
   "source": [
    "# 곡 정보 파일 불러오기\n",
    "df = pd.read_csv('../SongTidy/FinalTidy/tidydata/song_tidy03.csv')"
   ]
  },
  {
   "cell_type": "code",
   "execution_count": 4,
   "metadata": {},
   "outputs": [],
   "source": [
    "# 가수 정보 파일 불러오기\n",
    "df2 = pd.read_csv('../Data/Data20180921/artist_info_combined_ver04.csv', encoding='euc-kr')"
   ]
  },
  {
   "cell_type": "code",
   "execution_count": 5,
   "metadata": {},
   "outputs": [],
   "source": [
    "# 곡 정보와 가수 정보를 머지해준다.\n",
    "song = pd.merge(df, df2, on='artist')"
   ]
  },
  {
   "cell_type": "code",
   "execution_count": 6,
   "metadata": {},
   "outputs": [],
   "source": [
    "# 가사 분석에 용이하도록 <br>을 공백으로 바꿔준다.\n",
    "song['lyrics'] = song['lyrics'].str.replace(r'<br>', ' ')"
   ]
  },
  {
   "cell_type": "code",
   "execution_count": 45,
   "metadata": {},
   "outputs": [
    {
     "data": {
      "text/plain": [
       "(3338, 20)"
      ]
     },
     "execution_count": 45,
     "metadata": {},
     "output_type": "execute_result"
    }
   ],
   "source": [
    "female = song[song['gender'] == '여']\n",
    "female.shape"
   ]
  },
  {
   "cell_type": "code",
   "execution_count": 46,
   "metadata": {},
   "outputs": [
    {
     "data": {
      "text/plain": [
       "(5869, 20)"
      ]
     },
     "execution_count": 46,
     "metadata": {},
     "output_type": "execute_result"
    }
   ],
   "source": [
    "male = song[song['gender'] == '남']\n",
    "male.shape"
   ]
  },
  {
   "cell_type": "code",
   "execution_count": 9,
   "metadata": {},
   "outputs": [
    {
     "data": {
      "text/plain": [
       "Dance                   5369\n",
       "Ballad                  2208\n",
       "Rap / Hip-hop            621\n",
       "Rock                     501\n",
       "R&B / Soul               432\n",
       "Drama                    210\n",
       "기타                        42\n",
       "Electronica               39\n",
       "Animation                 24\n",
       "Drama,Ballad              23\n",
       "Drama,Dance               18\n",
       "Pop                       16\n",
       "Korean Movie              14\n",
       "Folk                      10\n",
       "Musical                    8\n",
       "Game                       6\n",
       "Drama,Rock                 5\n",
       "Korean Movie,Ballad        3\n",
       "Animation,Dance            2\n",
       "Adult Contemporary         2\n",
       "Drama,Folk                 1\n",
       "Electronica,Dance          1\n",
       "Dance,Electronica          1\n",
       "국내CCM                      1\n",
       "Jazz                       1\n",
       "Korean Movie,Rock          1\n",
       "Ballad,Rap / Hip-hop       1\n",
       "Korean Traditional         1\n",
       "동요                         1\n",
       "Blues                      1\n",
       "Drama,Rap / Hip-hop        1\n",
       "Rap / Hip-hop,Dance        1\n",
       "Animation,Rock             1\n",
       "Name: song_genre, dtype: int64"
      ]
     },
     "execution_count": 9,
     "metadata": {},
     "output_type": "execute_result"
    }
   ],
   "source": [
    "# 전체 곡의 장르를 살펴본다.\n",
    "song.song_genre.value_counts()"
   ]
  },
  {
   "cell_type": "code",
   "execution_count": 10,
   "metadata": {},
   "outputs": [
    {
     "data": {
      "text/plain": [
       "Dance                   2256\n",
       "Ballad                   706\n",
       "Drama                    106\n",
       "R&B / Soul               100\n",
       "Rap / Hip-hop             57\n",
       "Rock                      23\n",
       "Electronica               22\n",
       "기타                        16\n",
       "Animation                 15\n",
       "Drama,Ballad               8\n",
       "Drama,Dance                7\n",
       "Game                       4\n",
       "Korean Movie               4\n",
       "Pop                        3\n",
       "Folk                       2\n",
       "Adult Contemporary         1\n",
       "Electronica,Dance          1\n",
       "Jazz                       1\n",
       "Blues                      1\n",
       "Korean Movie,Ballad        1\n",
       "Animation,Dance            1\n",
       "동요                         1\n",
       "Korean Traditional         1\n",
       "Ballad,Rap / Hip-hop       1\n",
       "Name: song_genre, dtype: int64"
      ]
     },
     "execution_count": 10,
     "metadata": {},
     "output_type": "execute_result"
    }
   ],
   "source": [
    "# 여자아이돌 곡의 장르를 살펴본다.\n",
    "genre_f = female.song_genre.value_counts()\n",
    "genre_f"
   ]
  },
  {
   "cell_type": "code",
   "execution_count": 11,
   "metadata": {},
   "outputs": [
    {
     "data": {
      "text/plain": [
       "Dance                  2890\n",
       "Ballad                 1371\n",
       "Rap / Hip-hop           564\n",
       "Rock                    478\n",
       "R&B / Soul              332\n",
       "Drama                   103\n",
       "기타                       26\n",
       "Electronica              17\n",
       "Drama,Ballad             15\n",
       "Pop                      13\n",
       "Drama,Dance              11\n",
       "Korean Movie             10\n",
       "Animation                 9\n",
       "Musical                   8\n",
       "Folk                      7\n",
       "Drama,Rock                5\n",
       "Korean Movie,Ballad       2\n",
       "Drama,Rap / Hip-hop       1\n",
       "Animation,Rock            1\n",
       "Korean Movie,Rock         1\n",
       "Animation,Dance           1\n",
       "Dance,Electronica         1\n",
       "Drama,Folk                1\n",
       "Adult Contemporary        1\n",
       "Rap / Hip-hop,Dance       1\n",
       "Name: song_genre, dtype: int64"
      ]
     },
     "execution_count": 11,
     "metadata": {},
     "output_type": "execute_result"
    }
   ],
   "source": [
    "genre_m = male.song_genre.value_counts()\n",
    "genre_m"
   ]
  },
  {
   "cell_type": "code",
   "execution_count": 12,
   "metadata": {},
   "outputs": [],
   "source": [
    "import matplotlib.pyplot as plt\n",
    "import numpy as np"
   ]
  },
  {
   "cell_type": "code",
   "execution_count": 34,
   "metadata": {},
   "outputs": [
    {
     "data": {
      "image/png": "[encoded data removed]",
      "text/plain": [
       "<Figure size 432x288 with 2 Axes>"
      ]
     },
     "metadata": {},
     "output_type": "display_data"
    },
    {
     "data": {
      "text/plain": [
       "<Figure size 2880x5760 with 0 Axes>"
      ]
     },
     "metadata": {},
     "output_type": "display_data"
    }
   ],
   "source": [
    "y = range(20)\n",
    "x1 = range(20)\n",
    "x2 = range(0, 200, 10)\n",
    "\n",
    "fig, axes = plt.subplots(ncols=2, sharey=True)\n",
    "axes[0].barh(y, x1, align='center', color='gray')\n",
    "axes[1].barh(y, x2, align='center', color='gray')\n",
    "axes[0].invert_xaxis()\n",
    "plt.figure(figsize=(40,80))\n",
    "plt.show()"
   ]
  },
  {
   "cell_type": "code",
   "execution_count": 49,
   "metadata": {},
   "outputs": [],
   "source": [
    "def percent(num1, num2):\n",
    "    num1 = float(num1)\n",
    "    num2 = float(num2)\n",
    "    percentage = '{0:.2f}'.format((num1 / num2 * 10))\n",
    "    return percentage"
   ]
  },
  {
   "cell_type": "code",
   "execution_count": 50,
   "metadata": {},
   "outputs": [
    {
     "data": {
      "text/plain": [
       "'6.76'"
      ]
     },
     "execution_count": 50,
     "metadata": {},
     "output_type": "execute_result"
    }
   ],
   "source": [
    "percent(2256, 3338)"
   ]
  },
  {
   "cell_type": "code",
   "execution_count": 51,
   "metadata": {},
   "outputs": [
    {
     "data": {
      "text/plain": [
       "'2.12'"
      ]
     },
     "execution_count": 51,
     "metadata": {},
     "output_type": "execute_result"
    }
   ],
   "source": [
    "percent(706, 3338)"
   ]
  },
  {
   "cell_type": "code",
   "execution_count": 52,
   "metadata": {},
   "outputs": [
    {
     "data": {
      "text/plain": [
       "'0.32'"
      ]
     },
     "execution_count": 52,
     "metadata": {},
     "output_type": "execute_result"
    }
   ],
   "source": [
    "percent(106, 3338)"
   ]
  },
  {
   "cell_type": "code",
   "execution_count": 53,
   "metadata": {},
   "outputs": [
    {
     "data": {
      "text/plain": [
       "'0.30'"
      ]
     },
     "execution_count": 53,
     "metadata": {},
     "output_type": "execute_result"
    }
   ],
   "source": [
    "percent(100, 3338)"
   ]
  },
  {
   "cell_type": "code",
   "execution_count": 54,
   "metadata": {},
   "outputs": [
    {
     "data": {
      "text/plain": [
       "'0.17'"
      ]
     },
     "execution_count": 54,
     "metadata": {},
     "output_type": "execute_result"
    }
   ],
   "source": [
    "percent(57, 3338)"
   ]
  },
  {
   "cell_type": "code",
   "execution_count": 55,
   "metadata": {},
   "outputs": [
    {
     "data": {
      "text/plain": [
       "'0.07'"
      ]
     },
     "execution_count": 55,
     "metadata": {},
     "output_type": "execute_result"
    }
   ],
   "source": [
    "percent(23, 3338)"
   ]
  },
  {
   "cell_type": "code",
   "execution_count": 56,
   "metadata": {},
   "outputs": [
    {
     "data": {
      "text/plain": [
       "'0.07'"
      ]
     },
     "execution_count": 56,
     "metadata": {},
     "output_type": "execute_result"
    }
   ],
   "source": [
    "percent(22, 3338)"
   ]
  },
  {
   "cell_type": "code",
   "execution_count": 57,
   "metadata": {},
   "outputs": [
    {
     "data": {
      "text/plain": [
       "'0.20'"
      ]
     },
     "execution_count": 57,
     "metadata": {},
     "output_type": "execute_result"
    }
   ],
   "source": [
    "percent(68, 3338)"
   ]
  },
  {
   "cell_type": "code",
   "execution_count": 59,
   "metadata": {
    "scrolled": true
   },
   "outputs": [
    {
     "data": {
      "text/plain": [
       "'4.92'"
      ]
     },
     "execution_count": 59,
     "metadata": {},
     "output_type": "execute_result"
    }
   ],
   "source": [
    "percent(2890, 5869)"
   ]
  },
  {
   "cell_type": "code",
   "execution_count": 60,
   "metadata": {},
   "outputs": [
    {
     "data": {
      "text/plain": [
       "'2.34'"
      ]
     },
     "execution_count": 60,
     "metadata": {},
     "output_type": "execute_result"
    }
   ],
   "source": [
    "percent(1371, 5869)"
   ]
  },
  {
   "cell_type": "code",
   "execution_count": 61,
   "metadata": {},
   "outputs": [
    {
     "data": {
      "text/plain": [
       "'0.96'"
      ]
     },
     "execution_count": 61,
     "metadata": {},
     "output_type": "execute_result"
    }
   ],
   "source": [
    "percent(564, 5869)"
   ]
  },
  {
   "cell_type": "code",
   "execution_count": 62,
   "metadata": {},
   "outputs": [
    {
     "data": {
      "text/plain": [
       "'0.81'"
      ]
     },
     "execution_count": 62,
     "metadata": {},
     "output_type": "execute_result"
    }
   ],
   "source": [
    "percent(478, 5869)"
   ]
  },
  {
   "cell_type": "code",
   "execution_count": 63,
   "metadata": {},
   "outputs": [
    {
     "data": {
      "text/plain": [
       "'0.57'"
      ]
     },
     "execution_count": 63,
     "metadata": {},
     "output_type": "execute_result"
    }
   ],
   "source": [
    "percent(332, 5869)"
   ]
  },
  {
   "cell_type": "code",
   "execution_count": 64,
   "metadata": {},
   "outputs": [
    {
     "data": {
      "text/plain": [
       "'0.18'"
      ]
     },
     "execution_count": 64,
     "metadata": {},
     "output_type": "execute_result"
    }
   ],
   "source": [
    "percent(103, 5869)"
   ]
  },
  {
   "cell_type": "code",
   "execution_count": 66,
   "metadata": {},
   "outputs": [
    {
     "data": {
      "text/plain": [
       "'0.03'"
      ]
     },
     "execution_count": 66,
     "metadata": {},
     "output_type": "execute_result"
    }
   ],
   "source": [
    "percent(17, 5869)"
   ]
  },
  {
   "cell_type": "code",
   "execution_count": 65,
   "metadata": {},
   "outputs": [
    {
     "data": {
      "text/plain": [
       "'0.19'"
      ]
     },
     "execution_count": 65,
     "metadata": {},
     "output_type": "execute_result"
    }
   ],
   "source": [
    "percent(114, 5869)"
   ]
  },
  {
   "cell_type": "code",
   "execution_count": 71,
   "metadata": {},
   "outputs": [
    {
     "data": {
      "image/png": "[encoded data removed]",
      "text/plain": [
       "<Figure size 432x288 with 2 Axes>"
      ]
     },
     "metadata": {},
     "output_type": "display_data"
    }
   ],
   "source": [
    "# Dance                   2256\n",
    "# Ballad                   706\n",
    "# Drama                    106\n",
    "# R&B / Soul               100\n",
    "# Rap / Hip-hop             57\n",
    "# Rock                      23\n",
    "# Electronica               22\n",
    "# 기타                        16\n",
    "\n",
    "# Dance                  2890\n",
    "# Ballad                 1371\n",
    "# Rap / Hip-hop           564\n",
    "# Rock                    478\n",
    "# R&B / Soul              332\n",
    "# Drama                   103\n",
    "# 기타                       26\n",
    "# Electronica              17\n",
    "\n",
    "# Data\n",
    "states = [\"Dance\", \"Ballad\", \"Rap / Hip-hop\", \"Rock\", \"R&B / Soul\", \"Drama\", \"Electronica\", \"기타\"]\n",
    "staff = np.array([6.76, 2.12, 0.32, 0.30, 0.17, 0.07, 0.07, 0.20])\n",
    "sales = np.array([4.92, 2.34, 0.96, 0.81, 0.57, 0.18, 0.03, 0.19])\n",
    "# sales = staff * (20 + 10 * np.random.random(staff.size))\n",
    "\n",
    "# Sort by number of sales staff\n",
    "idx = staff.argsort()\n",
    "states, staff, sales = [np.take(x, idx) for x in [states, staff, sales]]\n",
    "\n",
    "x = np.arange(staff.size)\n",
    "y = np.arange(sales.size)\n",
    "\n",
    "# matplotlib.colors.to_rgb(c)\n",
    "fig, axes = plt.subplots(ncols=2, sharey=True)\n",
    "axes[0].barh(x, staff, align='center', color='indigo', zorder=10)\n",
    "axes[0].set(title='Number of sales staff')\n",
    "axes[1].barh(y, sales, align='center', color='turquoise', zorder=10)\n",
    "axes[1].set(title='Sales (x $1000)')\n",
    "\n",
    "axes[0].invert_xaxis()\n",
    "# axes[0].set(yticks=y, yticklabels=states)\n",
    "axes[0].set(yticks=y, yticklabels=[])\n",
    "for yloc, state in zip(y, states):\n",
    "    axes[0].annotate(state, (0.5, yloc), xycoords=('figure fraction', 'data'),\n",
    "                     ha='center', va='center')\n",
    "axes[0].yaxis.tick_right()\n",
    "\n",
    "for ax in axes.flat:\n",
    "    ax.margins(0.03)\n",
    "    ax.grid(True)\n",
    "\n",
    "\n",
    "fig.tight_layout()\n",
    "fig.subplots_adjust(wspace=0.4)\n",
    "plt.show()"
   ]
  },
  {
   "cell_type": "code",
   "execution_count": 23,
   "metadata": {},
   "outputs": [],
   "source": [
    "ax?"
   ]
  },
  {
   "cell_type": "code",
   "execution_count": 15,
   "metadata": {},
   "outputs": [
    {
     "data": {
      "image/png": "[encoded data removed]",
      "text/plain": [
       "<Figure size 432x288 with 1 Axes>"
      ]
     },
     "metadata": {},
     "output_type": "display_data"
    }
   ],
   "source": [
    "import numpy as np\n",
    "import matplotlib.pyplot as plt\n",
    "\n",
    "women_pop = np.array([5., 30., 45., 22.])\n",
    "men_pop     = np.array( [5., 25., 50., 20.])\n",
    "X = np.arange(4)\n",
    "\n",
    "plt.barh(X, women_pop, color = 'r')\n",
    "plt.barh(X, -men_pop, color = 'b')\n",
    "plt.show()"
   ]
  },
  {
   "cell_type": "code",
   "execution_count": 12,
   "metadata": {},
   "outputs": [
    {
     "data": {
      "text/plain": [
       "<matplotlib.axes._subplots.AxesSubplot at 0x11157ffd0>"
      ]
     },
     "execution_count": 12,
     "metadata": {},
     "output_type": "execute_result"
    },
    {
     "data": {
      "image/png": "[encoded data removed]",
      "text/plain": [
       "<Figure size 432x288 with 1 Axes>"
      ]
     },
     "metadata": {},
     "output_type": "display_data"
    }
   ],
   "source": [
    "# 정렬 반대로 하고 싶다\n",
    "female['song_genre'].value_counts()[:10].plot(kind='barh')"
   ]
  },
  {
   "cell_type": "code",
   "execution_count": 13,
   "metadata": {},
   "outputs": [
    {
     "data": {
      "text/plain": [
       "<matplotlib.axes._subplots.AxesSubplot at 0x111a09ef0>"
      ]
     },
     "execution_count": 13,
     "metadata": {},
     "output_type": "execute_result"
    },
    {
     "data": {
      "image/png": "[encoded data removed]",
      "text/plain": [
       "<Figure size 432x288 with 1 Axes>"
      ]
     },
     "metadata": {},
     "output_type": "display_data"
    }
   ],
   "source": [
    "# 정렬 반대로 하고 싶다\n",
    "male['song_genre'].value_counts()[:10].plot(kind='barh')"
   ]
  },
  {
   "cell_type": "code",
   "execution_count": 14,
   "metadata": {},
   "outputs": [
    {
     "data": {
      "image/png": "[encoded data removed]",
      "text/plain": [
       "<Figure size 648x648 with 1 Axes>"
      ]
     },
     "metadata": {},
     "output_type": "display_data"
    }
   ],
   "source": [
    "# song['song_genre'].value_counts()[:8].plot(kind='pie')\n",
    "# # plt.axis(\"image\")\n",
    "# plt.axis('equal')\n",
    "# plt.rcParams.update({'font.size': 10})\n",
    "# fig = plt.gcf()\n",
    "# fig.set_size_inches(7,7)\n",
    "\n",
    "# Dance                      5363\n",
    "# Ballad                     2249\n",
    "# Rap / Hip-hop               588\n",
    "# Rock                        494\n",
    "# R&B / Soul                  402\n",
    "# Drama                       194\n",
    "# 기타                           39\n",
    "# Electronica                  39\n",
    "\n",
    "labels = 'Dance', 'Ballad', 'Rap / Hip-hop', 'Rock', 'R&B / Soul', 'Drama', '기타', 'Electronica', \n",
    "sizes = [5363, 2249, 588, 494, 402, 194, 39, 39]\n",
    "\n",
    "color=[\"darkred\", \"cornflowerblue\",\"yellow\",\"pink\",\"coral\",\"green\",\"darkorchid\",\"indigo\",]\n",
    "plt.title('전체 곡 장르')\n",
    "# Plot\n",
    "plt.pie(sizes, labels=labels, colors=color,\n",
    "       autopct='%1.1f%%', startangle=10)\n",
    "\n",
    "plt.rcParams.update({'font.size': 8})\n",
    "plt.axis('equal')\n",
    "fig = plt.gcf()\n",
    "fig.set_size_inches(9,9)\n",
    "plt.show()\n"
   ]
  },
  {
   "cell_type": "code",
   "execution_count": 119,
   "metadata": {},
   "outputs": [
    {
     "data": {
      "image/png": "[encoded data removed]",
      "text/plain": [
       "<Figure size 648x648 with 1 Axes>"
      ]
     },
     "metadata": {},
     "output_type": "display_data"
    }
   ],
   "source": [
    "labels = 'Dance', 'Ballad', 'R&B / Soul', 'Drama', 'Rap / Hip-hop', 'Rock', 'Electronica', '기타'\n",
    "sizes = [2256, 706, 106, 100, 57, 23, 22, 68]\n",
    "\n",
    "color=[\"#4032b3\", \"#7A37F5\",\"#6c02c0\",\"#242ce8\",\"#3a7cf0\",\"#56c7f5\",\"#76f8ef\",'#20C2AA']\n",
    "plt.title('여자아이돌 곡 장르')\n",
    "# Plot\n",
    "plt.pie(sizes, labels=labels, colors=color,\n",
    "       autopct='%1.1f%%', startangle=10)\n",
    "\n",
    "plt.rcParams.update({'font.size': 10})\n",
    "plt.axis('equal')\n",
    "fig = plt.gcf()\n",
    "fig.set_size_inches(9,9)\n",
    "plt.show()\n",
    "\n",
    "# Dance                   2256\n",
    "# Ballad                   706\n",
    "# Drama                    106\n",
    "# R&B / Soul               100\n",
    "# Rap / Hip-hop             57\n",
    "# Rock                      23\n",
    "# Electronica               22\n",
    "# 기타                        16  #2600a3    #3d08bc"
   ]
  },
  {
   "cell_type": "code",
   "execution_count": 121,
   "metadata": {},
   "outputs": [
    {
     "data": {
      "image/png": "[encoded data removed]",
      "text/plain": [
       "<Figure size 648x648 with 1 Axes>"
      ]
     },
     "metadata": {},
     "output_type": "display_data"
    }
   ],
   "source": [
    "labels = 'Dance', 'Ballad', 'Rap / Hip-hop', 'Rock', 'R&B / Soul', 'Drama', 'Electronica', '기타'\n",
    "sizes = [2890, 1371, 564, 478, 332, 103, 17, 114]\n",
    "\n",
    "color=[\"#4032b3\", \"#7A37F5\",\"#3a7cf0\",\"#56c7f5\",\"#6c02c0\",\"#242ce8\",\"#76f8ef\",'#20C2AA']\n",
    "# color=[\"darkred\", \"cornflowerblue\",\"yellow\",\"pink\",\"coral\",\"green\",\"darkorchid\",\"lightblue\"]\n",
    "plt.title('남자아이돌 곡 장르')\n",
    "# Plot\n",
    "plt.pie(sizes, labels=labels, colors=color,\n",
    "       autopct='%1.1f%%', startangle=10)\n",
    "\n",
    "\n",
    "plt.rcParams.update({'font.size': 10})\n",
    "plt.axis('equal')\n",
    "fig = plt.gcf()\n",
    "fig.set_size_inches(9,9)\n",
    "plt.show()\n",
    "\n",
    "# Dance                  2890\n",
    "# Ballad                 1371\n",
    "# Rap / Hip-hop           564\n",
    "# Rock                    478\n",
    "# R&B / Soul              332\n",
    "# Drama                   103\n",
    "# 기타                       26\n",
    "# Electronica              17"
   ]
  },
  {
   "cell_type": "code",
   "execution_count": null,
   "metadata": {},
   "outputs": [],
   "source": [
    "result_df = temp_df.div(temp_df.sum(axis=1), axis=0)"
   ]
  },
  {
   "cell_type": "code",
   "execution_count": 122,
   "metadata": {},
   "outputs": [
    {
     "data": {
      "text/html": [
       "<div>\n",
       "<style scoped>\n",
       "    .dataframe tbody tr th:only-of-type {\n",
       "        vertical-align: middle;\n",
       "    }\n",
       "\n",
       "    .dataframe tbody tr th {\n",
       "        vertical-align: top;\n",
       "    }\n",
       "\n",
       "    .dataframe thead th {\n",
       "        text-align: right;\n",
       "    }\n",
       "</style>\n",
       "<table border=\"1\" class=\"dataframe\">\n",
       "  <thead>\n",
       "    <tr style=\"text-align: right;\">\n",
       "      <th></th>\n",
       "      <th>generation</th>\n",
       "      <th>title</th>\n",
       "      <th>value</th>\n",
       "    </tr>\n",
       "  </thead>\n",
       "  <tbody>\n",
       "    <tr>\n",
       "      <th>0</th>\n",
       "      <td>1</td>\n",
       "      <td>oppa</td>\n",
       "      <td>0.081</td>\n",
       "    </tr>\n",
       "    <tr>\n",
       "      <th>1</th>\n",
       "      <td>1</td>\n",
       "      <td>nuna</td>\n",
       "      <td>0.037</td>\n",
       "    </tr>\n",
       "    <tr>\n",
       "      <th>2</th>\n",
       "      <td>2</td>\n",
       "      <td>oppa</td>\n",
       "      <td>0.081</td>\n",
       "    </tr>\n",
       "    <tr>\n",
       "      <th>3</th>\n",
       "      <td>2</td>\n",
       "      <td>nuna</td>\n",
       "      <td>0.065</td>\n",
       "    </tr>\n",
       "    <tr>\n",
       "      <th>4</th>\n",
       "      <td>3</td>\n",
       "      <td>oppa</td>\n",
       "      <td>0.194</td>\n",
       "    </tr>\n",
       "    <tr>\n",
       "      <th>5</th>\n",
       "      <td>3</td>\n",
       "      <td>nuna</td>\n",
       "      <td>0.050</td>\n",
       "    </tr>\n",
       "  </tbody>\n",
       "</table>\n",
       "</div>"
      ],
      "text/plain": [
       "  generation title  value\n",
       "0          1  oppa  0.081\n",
       "1          1  nuna  0.037\n",
       "2          2  oppa  0.081\n",
       "3          2  nuna  0.065\n",
       "4          3  oppa  0.194\n",
       "5          3  nuna  0.050"
      ]
     },
     "execution_count": 122,
     "metadata": {},
     "output_type": "execute_result"
    }
   ],
   "source": [
    "time_series = pd.DataFrame({\n",
    "    \"generation\" : [\"1\", \"1\", \"2\", \"2\", \"3\", \"3\"],\n",
    "    \"title\" : [\"oppa\", \"nuna\", \"oppa\", \"nuna\", \"oppa\", \"nuna\"],\n",
    "    \"value\" : [0.081, 0.037, 0.081, 0.065, 0.194, 0.050],\n",
    "})\n",
    "time_series"
   ]
  },
  {
   "cell_type": "code",
   "execution_count": 148,
   "metadata": {},
   "outputs": [
    {
     "data": {
      "text/html": [
       "<div>\n",
       "<style scoped>\n",
       "    .dataframe tbody tr th:only-of-type {\n",
       "        vertical-align: middle;\n",
       "    }\n",
       "\n",
       "    .dataframe tbody tr th {\n",
       "        vertical-align: top;\n",
       "    }\n",
       "\n",
       "    .dataframe thead th {\n",
       "        text-align: right;\n",
       "    }\n",
       "</style>\n",
       "<table border=\"1\" class=\"dataframe\">\n",
       "  <thead>\n",
       "    <tr style=\"text-align: right;\">\n",
       "      <th>song_genre</th>\n",
       "      <th>Adult Contemporary</th>\n",
       "      <th>Animation</th>\n",
       "      <th>Animation,Dance</th>\n",
       "      <th>Animation,Rock</th>\n",
       "      <th>Ballad</th>\n",
       "      <th>Ballad,Rap / Hip-hop</th>\n",
       "      <th>Blues</th>\n",
       "      <th>Dance</th>\n",
       "      <th>Dance,Electronica</th>\n",
       "      <th>Drama</th>\n",
       "      <th>...</th>\n",
       "      <th>Musical</th>\n",
       "      <th>Pop</th>\n",
       "      <th>R&amp;B / Soul</th>\n",
       "      <th>Rap / Hip-hop</th>\n",
       "      <th>Rap / Hip-hop,Dance</th>\n",
       "      <th>Rock</th>\n",
       "      <th>국내CCM</th>\n",
       "      <th>기타</th>\n",
       "      <th>동요</th>\n",
       "      <th>All</th>\n",
       "    </tr>\n",
       "    <tr>\n",
       "      <th>gender</th>\n",
       "      <th></th>\n",
       "      <th></th>\n",
       "      <th></th>\n",
       "      <th></th>\n",
       "      <th></th>\n",
       "      <th></th>\n",
       "      <th></th>\n",
       "      <th></th>\n",
       "      <th></th>\n",
       "      <th></th>\n",
       "      <th></th>\n",
       "      <th></th>\n",
       "      <th></th>\n",
       "      <th></th>\n",
       "      <th></th>\n",
       "      <th></th>\n",
       "      <th></th>\n",
       "      <th></th>\n",
       "      <th></th>\n",
       "      <th></th>\n",
       "      <th></th>\n",
       "    </tr>\n",
       "  </thead>\n",
       "  <tbody>\n",
       "    <tr>\n",
       "      <th>남</th>\n",
       "      <td>1</td>\n",
       "      <td>9</td>\n",
       "      <td>1</td>\n",
       "      <td>1</td>\n",
       "      <td>1371</td>\n",
       "      <td>0</td>\n",
       "      <td>0</td>\n",
       "      <td>2890</td>\n",
       "      <td>1</td>\n",
       "      <td>103</td>\n",
       "      <td>...</td>\n",
       "      <td>8</td>\n",
       "      <td>13</td>\n",
       "      <td>332</td>\n",
       "      <td>564</td>\n",
       "      <td>1</td>\n",
       "      <td>478</td>\n",
       "      <td>0</td>\n",
       "      <td>26</td>\n",
       "      <td>0</td>\n",
       "      <td>5869</td>\n",
       "    </tr>\n",
       "    <tr>\n",
       "      <th>여</th>\n",
       "      <td>1</td>\n",
       "      <td>15</td>\n",
       "      <td>1</td>\n",
       "      <td>0</td>\n",
       "      <td>706</td>\n",
       "      <td>1</td>\n",
       "      <td>1</td>\n",
       "      <td>2256</td>\n",
       "      <td>0</td>\n",
       "      <td>106</td>\n",
       "      <td>...</td>\n",
       "      <td>0</td>\n",
       "      <td>3</td>\n",
       "      <td>100</td>\n",
       "      <td>57</td>\n",
       "      <td>0</td>\n",
       "      <td>23</td>\n",
       "      <td>0</td>\n",
       "      <td>16</td>\n",
       "      <td>1</td>\n",
       "      <td>3338</td>\n",
       "    </tr>\n",
       "    <tr>\n",
       "      <th>혼</th>\n",
       "      <td>0</td>\n",
       "      <td>0</td>\n",
       "      <td>0</td>\n",
       "      <td>0</td>\n",
       "      <td>131</td>\n",
       "      <td>0</td>\n",
       "      <td>0</td>\n",
       "      <td>223</td>\n",
       "      <td>0</td>\n",
       "      <td>1</td>\n",
       "      <td>...</td>\n",
       "      <td>0</td>\n",
       "      <td>0</td>\n",
       "      <td>0</td>\n",
       "      <td>0</td>\n",
       "      <td>0</td>\n",
       "      <td>0</td>\n",
       "      <td>1</td>\n",
       "      <td>0</td>\n",
       "      <td>0</td>\n",
       "      <td>359</td>\n",
       "    </tr>\n",
       "    <tr>\n",
       "      <th>All</th>\n",
       "      <td>2</td>\n",
       "      <td>24</td>\n",
       "      <td>2</td>\n",
       "      <td>1</td>\n",
       "      <td>2208</td>\n",
       "      <td>1</td>\n",
       "      <td>1</td>\n",
       "      <td>5369</td>\n",
       "      <td>1</td>\n",
       "      <td>210</td>\n",
       "      <td>...</td>\n",
       "      <td>8</td>\n",
       "      <td>16</td>\n",
       "      <td>432</td>\n",
       "      <td>621</td>\n",
       "      <td>1</td>\n",
       "      <td>501</td>\n",
       "      <td>1</td>\n",
       "      <td>42</td>\n",
       "      <td>1</td>\n",
       "      <td>9566</td>\n",
       "    </tr>\n",
       "  </tbody>\n",
       "</table>\n",
       "<p>4 rows × 34 columns</p>\n",
       "</div>"
      ],
      "text/plain": [
       "song_genre  Adult Contemporary  Animation  Animation,Dance  Animation,Rock  \\\n",
       "gender                                                                       \n",
       "남                            1          9                1               1   \n",
       "여                            1         15                1               0   \n",
       "혼                            0          0                0               0   \n",
       "All                          2         24                2               1   \n",
       "\n",
       "song_genre  Ballad  Ballad,Rap / Hip-hop  Blues  Dance  Dance,Electronica  \\\n",
       "gender                                                                      \n",
       "남             1371                     0      0   2890                  1   \n",
       "여              706                     1      1   2256                  0   \n",
       "혼              131                     0      0    223                  0   \n",
       "All           2208                     1      1   5369                  1   \n",
       "\n",
       "song_genre  Drama  ...   Musical  Pop  R&B / Soul  Rap / Hip-hop  \\\n",
       "gender             ...                                             \n",
       "남             103  ...         8   13         332            564   \n",
       "여             106  ...         0    3         100             57   \n",
       "혼               1  ...         0    0           0              0   \n",
       "All           210  ...         8   16         432            621   \n",
       "\n",
       "song_genre  Rap / Hip-hop,Dance  Rock  국내CCM  기타  동요   All  \n",
       "gender                                                      \n",
       "남                             1   478      0  26   0  5869  \n",
       "여                             0    23      0  16   1  3338  \n",
       "혼                             0     0      1   0   0   359  \n",
       "All                           1   501      1  42   1  9566  \n",
       "\n",
       "[4 rows x 34 columns]"
      ]
     },
     "execution_count": 148,
     "metadata": {},
     "output_type": "execute_result"
    }
   ],
   "source": [
    "pd.crosstab(\n",
    "    song.gender,\n",
    "    song.song_genre,\n",
    "    margins=True,\n",
    ")"
   ]
  },
  {
   "cell_type": "code",
   "execution_count": 172,
   "metadata": {},
   "outputs": [],
   "source": [
    "genre = song.groupby([\"gender\", \"song_genre\"]).size().unstack(0)"
   ]
  },
  {
   "cell_type": "code",
   "execution_count": 156,
   "metadata": {},
   "outputs": [
    {
     "data": {
      "text/html": [
       "<div>\n",
       "<style scoped>\n",
       "    .dataframe tbody tr th:only-of-type {\n",
       "        vertical-align: middle;\n",
       "    }\n",
       "\n",
       "    .dataframe tbody tr th {\n",
       "        vertical-align: top;\n",
       "    }\n",
       "\n",
       "    .dataframe thead th {\n",
       "        text-align: right;\n",
       "    }\n",
       "</style>\n",
       "<table border=\"1\" class=\"dataframe\">\n",
       "  <thead>\n",
       "    <tr style=\"text-align: right;\">\n",
       "      <th>gender</th>\n",
       "      <th>남</th>\n",
       "      <th>여</th>\n",
       "      <th>혼</th>\n",
       "    </tr>\n",
       "    <tr>\n",
       "      <th>song_genre</th>\n",
       "      <th></th>\n",
       "      <th></th>\n",
       "      <th></th>\n",
       "    </tr>\n",
       "  </thead>\n",
       "  <tbody>\n",
       "    <tr>\n",
       "      <th>Adult Contemporary</th>\n",
       "      <td>0.500000</td>\n",
       "      <td>0.500000</td>\n",
       "      <td>NaN</td>\n",
       "    </tr>\n",
       "    <tr>\n",
       "      <th>Animation</th>\n",
       "      <td>0.375000</td>\n",
       "      <td>0.625000</td>\n",
       "      <td>NaN</td>\n",
       "    </tr>\n",
       "    <tr>\n",
       "      <th>Animation,Dance</th>\n",
       "      <td>0.500000</td>\n",
       "      <td>0.500000</td>\n",
       "      <td>NaN</td>\n",
       "    </tr>\n",
       "    <tr>\n",
       "      <th>Animation,Rock</th>\n",
       "      <td>1.000000</td>\n",
       "      <td>NaN</td>\n",
       "      <td>NaN</td>\n",
       "    </tr>\n",
       "    <tr>\n",
       "      <th>Ballad</th>\n",
       "      <td>0.620924</td>\n",
       "      <td>0.319746</td>\n",
       "      <td>0.059330</td>\n",
       "    </tr>\n",
       "    <tr>\n",
       "      <th>Ballad,Rap / Hip-hop</th>\n",
       "      <td>NaN</td>\n",
       "      <td>1.000000</td>\n",
       "      <td>NaN</td>\n",
       "    </tr>\n",
       "    <tr>\n",
       "      <th>Blues</th>\n",
       "      <td>NaN</td>\n",
       "      <td>1.000000</td>\n",
       "      <td>NaN</td>\n",
       "    </tr>\n",
       "    <tr>\n",
       "      <th>Dance</th>\n",
       "      <td>0.538275</td>\n",
       "      <td>0.420190</td>\n",
       "      <td>0.041535</td>\n",
       "    </tr>\n",
       "    <tr>\n",
       "      <th>Dance,Electronica</th>\n",
       "      <td>1.000000</td>\n",
       "      <td>NaN</td>\n",
       "      <td>NaN</td>\n",
       "    </tr>\n",
       "    <tr>\n",
       "      <th>Drama</th>\n",
       "      <td>0.490476</td>\n",
       "      <td>0.504762</td>\n",
       "      <td>0.004762</td>\n",
       "    </tr>\n",
       "    <tr>\n",
       "      <th>Drama,Ballad</th>\n",
       "      <td>0.652174</td>\n",
       "      <td>0.347826</td>\n",
       "      <td>NaN</td>\n",
       "    </tr>\n",
       "    <tr>\n",
       "      <th>Drama,Dance</th>\n",
       "      <td>0.611111</td>\n",
       "      <td>0.388889</td>\n",
       "      <td>NaN</td>\n",
       "    </tr>\n",
       "    <tr>\n",
       "      <th>Drama,Folk</th>\n",
       "      <td>1.000000</td>\n",
       "      <td>NaN</td>\n",
       "      <td>NaN</td>\n",
       "    </tr>\n",
       "    <tr>\n",
       "      <th>Drama,Rap / Hip-hop</th>\n",
       "      <td>1.000000</td>\n",
       "      <td>NaN</td>\n",
       "      <td>NaN</td>\n",
       "    </tr>\n",
       "    <tr>\n",
       "      <th>Drama,Rock</th>\n",
       "      <td>1.000000</td>\n",
       "      <td>NaN</td>\n",
       "      <td>NaN</td>\n",
       "    </tr>\n",
       "    <tr>\n",
       "      <th>Electronica</th>\n",
       "      <td>0.435897</td>\n",
       "      <td>0.564103</td>\n",
       "      <td>NaN</td>\n",
       "    </tr>\n",
       "    <tr>\n",
       "      <th>Electronica,Dance</th>\n",
       "      <td>NaN</td>\n",
       "      <td>1.000000</td>\n",
       "      <td>NaN</td>\n",
       "    </tr>\n",
       "    <tr>\n",
       "      <th>Folk</th>\n",
       "      <td>0.700000</td>\n",
       "      <td>0.200000</td>\n",
       "      <td>0.100000</td>\n",
       "    </tr>\n",
       "    <tr>\n",
       "      <th>Game</th>\n",
       "      <td>NaN</td>\n",
       "      <td>0.666667</td>\n",
       "      <td>0.333333</td>\n",
       "    </tr>\n",
       "    <tr>\n",
       "      <th>Jazz</th>\n",
       "      <td>NaN</td>\n",
       "      <td>1.000000</td>\n",
       "      <td>NaN</td>\n",
       "    </tr>\n",
       "    <tr>\n",
       "      <th>Korean Movie</th>\n",
       "      <td>0.714286</td>\n",
       "      <td>0.285714</td>\n",
       "      <td>NaN</td>\n",
       "    </tr>\n",
       "    <tr>\n",
       "      <th>Korean Movie,Ballad</th>\n",
       "      <td>0.666667</td>\n",
       "      <td>0.333333</td>\n",
       "      <td>NaN</td>\n",
       "    </tr>\n",
       "    <tr>\n",
       "      <th>Korean Movie,Rock</th>\n",
       "      <td>1.000000</td>\n",
       "      <td>NaN</td>\n",
       "      <td>NaN</td>\n",
       "    </tr>\n",
       "    <tr>\n",
       "      <th>Korean Traditional</th>\n",
       "      <td>NaN</td>\n",
       "      <td>1.000000</td>\n",
       "      <td>NaN</td>\n",
       "    </tr>\n",
       "    <tr>\n",
       "      <th>Musical</th>\n",
       "      <td>1.000000</td>\n",
       "      <td>NaN</td>\n",
       "      <td>NaN</td>\n",
       "    </tr>\n",
       "    <tr>\n",
       "      <th>Pop</th>\n",
       "      <td>0.812500</td>\n",
       "      <td>0.187500</td>\n",
       "      <td>NaN</td>\n",
       "    </tr>\n",
       "    <tr>\n",
       "      <th>R&amp;B / Soul</th>\n",
       "      <td>0.768519</td>\n",
       "      <td>0.231481</td>\n",
       "      <td>NaN</td>\n",
       "    </tr>\n",
       "    <tr>\n",
       "      <th>Rap / Hip-hop</th>\n",
       "      <td>0.908213</td>\n",
       "      <td>0.091787</td>\n",
       "      <td>NaN</td>\n",
       "    </tr>\n",
       "    <tr>\n",
       "      <th>Rap / Hip-hop,Dance</th>\n",
       "      <td>1.000000</td>\n",
       "      <td>NaN</td>\n",
       "      <td>NaN</td>\n",
       "    </tr>\n",
       "    <tr>\n",
       "      <th>Rock</th>\n",
       "      <td>0.954092</td>\n",
       "      <td>0.045908</td>\n",
       "      <td>NaN</td>\n",
       "    </tr>\n",
       "    <tr>\n",
       "      <th>국내CCM</th>\n",
       "      <td>NaN</td>\n",
       "      <td>NaN</td>\n",
       "      <td>1.000000</td>\n",
       "    </tr>\n",
       "    <tr>\n",
       "      <th>기타</th>\n",
       "      <td>0.619048</td>\n",
       "      <td>0.380952</td>\n",
       "      <td>NaN</td>\n",
       "    </tr>\n",
       "    <tr>\n",
       "      <th>동요</th>\n",
       "      <td>NaN</td>\n",
       "      <td>1.000000</td>\n",
       "      <td>NaN</td>\n",
       "    </tr>\n",
       "  </tbody>\n",
       "</table>\n",
       "</div>"
      ],
      "text/plain": [
       "gender                       남         여         혼\n",
       "song_genre                                        \n",
       "Adult Contemporary    0.500000  0.500000       NaN\n",
       "Animation             0.375000  0.625000       NaN\n",
       "Animation,Dance       0.500000  0.500000       NaN\n",
       "Animation,Rock        1.000000       NaN       NaN\n",
       "Ballad                0.620924  0.319746  0.059330\n",
       "Ballad,Rap / Hip-hop       NaN  1.000000       NaN\n",
       "Blues                      NaN  1.000000       NaN\n",
       "Dance                 0.538275  0.420190  0.041535\n",
       "Dance,Electronica     1.000000       NaN       NaN\n",
       "Drama                 0.490476  0.504762  0.004762\n",
       "Drama,Ballad          0.652174  0.347826       NaN\n",
       "Drama,Dance           0.611111  0.388889       NaN\n",
       "Drama,Folk            1.000000       NaN       NaN\n",
       "Drama,Rap / Hip-hop   1.000000       NaN       NaN\n",
       "Drama,Rock            1.000000       NaN       NaN\n",
       "Electronica           0.435897  0.564103       NaN\n",
       "Electronica,Dance          NaN  1.000000       NaN\n",
       "Folk                  0.700000  0.200000  0.100000\n",
       "Game                       NaN  0.666667  0.333333\n",
       "Jazz                       NaN  1.000000       NaN\n",
       "Korean Movie          0.714286  0.285714       NaN\n",
       "Korean Movie,Ballad   0.666667  0.333333       NaN\n",
       "Korean Movie,Rock     1.000000       NaN       NaN\n",
       "Korean Traditional         NaN  1.000000       NaN\n",
       "Musical               1.000000       NaN       NaN\n",
       "Pop                   0.812500  0.187500       NaN\n",
       "R&B / Soul            0.768519  0.231481       NaN\n",
       "Rap / Hip-hop         0.908213  0.091787       NaN\n",
       "Rap / Hip-hop,Dance   1.000000       NaN       NaN\n",
       "Rock                  0.954092  0.045908       NaN\n",
       "국내CCM                      NaN       NaN  1.000000\n",
       "기타                    0.619048  0.380952       NaN\n",
       "동요                         NaN  1.000000       NaN"
      ]
     },
     "execution_count": 156,
     "metadata": {},
     "output_type": "execute_result"
    }
   ],
   "source": [
    "genre_result = genre.div(genre.sum(axis=1), axis=0)\n",
    "genre_result"
   ]
  },
  {
   "cell_type": "code",
   "execution_count": 157,
   "metadata": {},
   "outputs": [
    {
     "data": {
      "text/html": [
       "<div>\n",
       "<style scoped>\n",
       "    .dataframe tbody tr th:only-of-type {\n",
       "        vertical-align: middle;\n",
       "    }\n",
       "\n",
       "    .dataframe tbody tr th {\n",
       "        vertical-align: top;\n",
       "    }\n",
       "\n",
       "    .dataframe thead th {\n",
       "        text-align: right;\n",
       "    }\n",
       "</style>\n",
       "<table border=\"1\" class=\"dataframe\">\n",
       "  <thead>\n",
       "    <tr style=\"text-align: right;\">\n",
       "      <th>gender</th>\n",
       "      <th>남</th>\n",
       "      <th>여</th>\n",
       "    </tr>\n",
       "    <tr>\n",
       "      <th>song_genre</th>\n",
       "      <th></th>\n",
       "      <th></th>\n",
       "    </tr>\n",
       "  </thead>\n",
       "  <tbody>\n",
       "    <tr>\n",
       "      <th>Adult Contemporary</th>\n",
       "      <td>0.500000</td>\n",
       "      <td>0.500000</td>\n",
       "    </tr>\n",
       "    <tr>\n",
       "      <th>Animation</th>\n",
       "      <td>0.375000</td>\n",
       "      <td>0.625000</td>\n",
       "    </tr>\n",
       "    <tr>\n",
       "      <th>Animation,Dance</th>\n",
       "      <td>0.500000</td>\n",
       "      <td>0.500000</td>\n",
       "    </tr>\n",
       "    <tr>\n",
       "      <th>Animation,Rock</th>\n",
       "      <td>1.000000</td>\n",
       "      <td>NaN</td>\n",
       "    </tr>\n",
       "    <tr>\n",
       "      <th>Ballad</th>\n",
       "      <td>0.620924</td>\n",
       "      <td>0.319746</td>\n",
       "    </tr>\n",
       "    <tr>\n",
       "      <th>Ballad,Rap / Hip-hop</th>\n",
       "      <td>NaN</td>\n",
       "      <td>1.000000</td>\n",
       "    </tr>\n",
       "    <tr>\n",
       "      <th>Blues</th>\n",
       "      <td>NaN</td>\n",
       "      <td>1.000000</td>\n",
       "    </tr>\n",
       "    <tr>\n",
       "      <th>Dance</th>\n",
       "      <td>0.538275</td>\n",
       "      <td>0.420190</td>\n",
       "    </tr>\n",
       "    <tr>\n",
       "      <th>Dance,Electronica</th>\n",
       "      <td>1.000000</td>\n",
       "      <td>NaN</td>\n",
       "    </tr>\n",
       "    <tr>\n",
       "      <th>Drama</th>\n",
       "      <td>0.490476</td>\n",
       "      <td>0.504762</td>\n",
       "    </tr>\n",
       "    <tr>\n",
       "      <th>Drama,Ballad</th>\n",
       "      <td>0.652174</td>\n",
       "      <td>0.347826</td>\n",
       "    </tr>\n",
       "    <tr>\n",
       "      <th>Drama,Dance</th>\n",
       "      <td>0.611111</td>\n",
       "      <td>0.388889</td>\n",
       "    </tr>\n",
       "    <tr>\n",
       "      <th>Drama,Folk</th>\n",
       "      <td>1.000000</td>\n",
       "      <td>NaN</td>\n",
       "    </tr>\n",
       "    <tr>\n",
       "      <th>Drama,Rap / Hip-hop</th>\n",
       "      <td>1.000000</td>\n",
       "      <td>NaN</td>\n",
       "    </tr>\n",
       "    <tr>\n",
       "      <th>Drama,Rock</th>\n",
       "      <td>1.000000</td>\n",
       "      <td>NaN</td>\n",
       "    </tr>\n",
       "    <tr>\n",
       "      <th>Electronica</th>\n",
       "      <td>0.435897</td>\n",
       "      <td>0.564103</td>\n",
       "    </tr>\n",
       "    <tr>\n",
       "      <th>Electronica,Dance</th>\n",
       "      <td>NaN</td>\n",
       "      <td>1.000000</td>\n",
       "    </tr>\n",
       "    <tr>\n",
       "      <th>Folk</th>\n",
       "      <td>0.700000</td>\n",
       "      <td>0.200000</td>\n",
       "    </tr>\n",
       "    <tr>\n",
       "      <th>Game</th>\n",
       "      <td>NaN</td>\n",
       "      <td>0.666667</td>\n",
       "    </tr>\n",
       "    <tr>\n",
       "      <th>Jazz</th>\n",
       "      <td>NaN</td>\n",
       "      <td>1.000000</td>\n",
       "    </tr>\n",
       "    <tr>\n",
       "      <th>Korean Movie</th>\n",
       "      <td>0.714286</td>\n",
       "      <td>0.285714</td>\n",
       "    </tr>\n",
       "    <tr>\n",
       "      <th>Korean Movie,Ballad</th>\n",
       "      <td>0.666667</td>\n",
       "      <td>0.333333</td>\n",
       "    </tr>\n",
       "    <tr>\n",
       "      <th>Korean Movie,Rock</th>\n",
       "      <td>1.000000</td>\n",
       "      <td>NaN</td>\n",
       "    </tr>\n",
       "    <tr>\n",
       "      <th>Korean Traditional</th>\n",
       "      <td>NaN</td>\n",
       "      <td>1.000000</td>\n",
       "    </tr>\n",
       "    <tr>\n",
       "      <th>Musical</th>\n",
       "      <td>1.000000</td>\n",
       "      <td>NaN</td>\n",
       "    </tr>\n",
       "    <tr>\n",
       "      <th>Pop</th>\n",
       "      <td>0.812500</td>\n",
       "      <td>0.187500</td>\n",
       "    </tr>\n",
       "    <tr>\n",
       "      <th>R&amp;B / Soul</th>\n",
       "      <td>0.768519</td>\n",
       "      <td>0.231481</td>\n",
       "    </tr>\n",
       "    <tr>\n",
       "      <th>Rap / Hip-hop</th>\n",
       "      <td>0.908213</td>\n",
       "      <td>0.091787</td>\n",
       "    </tr>\n",
       "    <tr>\n",
       "      <th>Rap / Hip-hop,Dance</th>\n",
       "      <td>1.000000</td>\n",
       "      <td>NaN</td>\n",
       "    </tr>\n",
       "    <tr>\n",
       "      <th>Rock</th>\n",
       "      <td>0.954092</td>\n",
       "      <td>0.045908</td>\n",
       "    </tr>\n",
       "    <tr>\n",
       "      <th>국내CCM</th>\n",
       "      <td>NaN</td>\n",
       "      <td>NaN</td>\n",
       "    </tr>\n",
       "    <tr>\n",
       "      <th>기타</th>\n",
       "      <td>0.619048</td>\n",
       "      <td>0.380952</td>\n",
       "    </tr>\n",
       "    <tr>\n",
       "      <th>동요</th>\n",
       "      <td>NaN</td>\n",
       "      <td>1.000000</td>\n",
       "    </tr>\n",
       "  </tbody>\n",
       "</table>\n",
       "</div>"
      ],
      "text/plain": [
       "gender                       남         여\n",
       "song_genre                              \n",
       "Adult Contemporary    0.500000  0.500000\n",
       "Animation             0.375000  0.625000\n",
       "Animation,Dance       0.500000  0.500000\n",
       "Animation,Rock        1.000000       NaN\n",
       "Ballad                0.620924  0.319746\n",
       "Ballad,Rap / Hip-hop       NaN  1.000000\n",
       "Blues                      NaN  1.000000\n",
       "Dance                 0.538275  0.420190\n",
       "Dance,Electronica     1.000000       NaN\n",
       "Drama                 0.490476  0.504762\n",
       "Drama,Ballad          0.652174  0.347826\n",
       "Drama,Dance           0.611111  0.388889\n",
       "Drama,Folk            1.000000       NaN\n",
       "Drama,Rap / Hip-hop   1.000000       NaN\n",
       "Drama,Rock            1.000000       NaN\n",
       "Electronica           0.435897  0.564103\n",
       "Electronica,Dance          NaN  1.000000\n",
       "Folk                  0.700000  0.200000\n",
       "Game                       NaN  0.666667\n",
       "Jazz                       NaN  1.000000\n",
       "Korean Movie          0.714286  0.285714\n",
       "Korean Movie,Ballad   0.666667  0.333333\n",
       "Korean Movie,Rock     1.000000       NaN\n",
       "Korean Traditional         NaN  1.000000\n",
       "Musical               1.000000       NaN\n",
       "Pop                   0.812500  0.187500\n",
       "R&B / Soul            0.768519  0.231481\n",
       "Rap / Hip-hop         0.908213  0.091787\n",
       "Rap / Hip-hop,Dance   1.000000       NaN\n",
       "Rock                  0.954092  0.045908\n",
       "국내CCM                      NaN       NaN\n",
       "기타                    0.619048  0.380952\n",
       "동요                         NaN  1.000000"
      ]
     },
     "execution_count": 157,
     "metadata": {},
     "output_type": "execute_result"
    }
   ],
   "source": [
    "genre_result = genre_result.drop(columns=['혼'])\n",
    "genre_result"
   ]
  },
  {
   "cell_type": "code",
   "execution_count": 158,
   "metadata": {},
   "outputs": [
    {
     "data": {
      "text/html": [
       "<div>\n",
       "<style scoped>\n",
       "    .dataframe tbody tr th:only-of-type {\n",
       "        vertical-align: middle;\n",
       "    }\n",
       "\n",
       "    .dataframe tbody tr th {\n",
       "        vertical-align: top;\n",
       "    }\n",
       "\n",
       "    .dataframe thead th {\n",
       "        text-align: right;\n",
       "    }\n",
       "</style>\n",
       "<table border=\"1\" class=\"dataframe\">\n",
       "  <thead>\n",
       "    <tr style=\"text-align: right;\">\n",
       "      <th>gender</th>\n",
       "      <th>남</th>\n",
       "      <th>여</th>\n",
       "    </tr>\n",
       "    <tr>\n",
       "      <th>song_genre</th>\n",
       "      <th></th>\n",
       "      <th></th>\n",
       "    </tr>\n",
       "  </thead>\n",
       "  <tbody>\n",
       "    <tr>\n",
       "      <th>Adult Contemporary</th>\n",
       "      <td>0.500000</td>\n",
       "      <td>0.500000</td>\n",
       "    </tr>\n",
       "    <tr>\n",
       "      <th>Animation</th>\n",
       "      <td>0.375000</td>\n",
       "      <td>0.625000</td>\n",
       "    </tr>\n",
       "    <tr>\n",
       "      <th>Animation,Dance</th>\n",
       "      <td>0.500000</td>\n",
       "      <td>0.500000</td>\n",
       "    </tr>\n",
       "    <tr>\n",
       "      <th>Ballad</th>\n",
       "      <td>0.620924</td>\n",
       "      <td>0.319746</td>\n",
       "    </tr>\n",
       "    <tr>\n",
       "      <th>Dance</th>\n",
       "      <td>0.538275</td>\n",
       "      <td>0.420190</td>\n",
       "    </tr>\n",
       "    <tr>\n",
       "      <th>Drama</th>\n",
       "      <td>0.490476</td>\n",
       "      <td>0.504762</td>\n",
       "    </tr>\n",
       "    <tr>\n",
       "      <th>Drama,Ballad</th>\n",
       "      <td>0.652174</td>\n",
       "      <td>0.347826</td>\n",
       "    </tr>\n",
       "    <tr>\n",
       "      <th>Drama,Dance</th>\n",
       "      <td>0.611111</td>\n",
       "      <td>0.388889</td>\n",
       "    </tr>\n",
       "    <tr>\n",
       "      <th>Electronica</th>\n",
       "      <td>0.435897</td>\n",
       "      <td>0.564103</td>\n",
       "    </tr>\n",
       "    <tr>\n",
       "      <th>Folk</th>\n",
       "      <td>0.700000</td>\n",
       "      <td>0.200000</td>\n",
       "    </tr>\n",
       "    <tr>\n",
       "      <th>Korean Movie</th>\n",
       "      <td>0.714286</td>\n",
       "      <td>0.285714</td>\n",
       "    </tr>\n",
       "    <tr>\n",
       "      <th>Korean Movie,Ballad</th>\n",
       "      <td>0.666667</td>\n",
       "      <td>0.333333</td>\n",
       "    </tr>\n",
       "    <tr>\n",
       "      <th>Pop</th>\n",
       "      <td>0.812500</td>\n",
       "      <td>0.187500</td>\n",
       "    </tr>\n",
       "    <tr>\n",
       "      <th>R&amp;B / Soul</th>\n",
       "      <td>0.768519</td>\n",
       "      <td>0.231481</td>\n",
       "    </tr>\n",
       "    <tr>\n",
       "      <th>Rap / Hip-hop</th>\n",
       "      <td>0.908213</td>\n",
       "      <td>0.091787</td>\n",
       "    </tr>\n",
       "    <tr>\n",
       "      <th>Rock</th>\n",
       "      <td>0.954092</td>\n",
       "      <td>0.045908</td>\n",
       "    </tr>\n",
       "    <tr>\n",
       "      <th>기타</th>\n",
       "      <td>0.619048</td>\n",
       "      <td>0.380952</td>\n",
       "    </tr>\n",
       "  </tbody>\n",
       "</table>\n",
       "</div>"
      ],
      "text/plain": [
       "gender                      남         여\n",
       "song_genre                             \n",
       "Adult Contemporary   0.500000  0.500000\n",
       "Animation            0.375000  0.625000\n",
       "Animation,Dance      0.500000  0.500000\n",
       "Ballad               0.620924  0.319746\n",
       "Dance                0.538275  0.420190\n",
       "Drama                0.490476  0.504762\n",
       "Drama,Ballad         0.652174  0.347826\n",
       "Drama,Dance          0.611111  0.388889\n",
       "Electronica          0.435897  0.564103\n",
       "Folk                 0.700000  0.200000\n",
       "Korean Movie         0.714286  0.285714\n",
       "Korean Movie,Ballad  0.666667  0.333333\n",
       "Pop                  0.812500  0.187500\n",
       "R&B / Soul           0.768519  0.231481\n",
       "Rap / Hip-hop        0.908213  0.091787\n",
       "Rock                 0.954092  0.045908\n",
       "기타                   0.619048  0.380952"
      ]
     },
     "execution_count": 158,
     "metadata": {},
     "output_type": "execute_result"
    }
   ],
   "source": [
    "genre_result = genre_result.dropna()\n",
    "genre_result"
   ]
  },
  {
   "cell_type": "code",
   "execution_count": 160,
   "metadata": {},
   "outputs": [
    {
     "data": {
      "text/plain": [
       "['남', '여']"
      ]
     },
     "execution_count": 160,
     "metadata": {},
     "output_type": "execute_result"
    }
   ],
   "source": [
    "order = genre_result.columns.tolist()\n",
    "order"
   ]
  },
  {
   "cell_type": "code",
   "execution_count": 161,
   "metadata": {},
   "outputs": [
    {
     "data": {
      "text/plain": [
       "['여', '남']"
      ]
     },
     "execution_count": 161,
     "metadata": {},
     "output_type": "execute_result"
    }
   ],
   "source": [
    "order = order[-1:] + order[:-1]\n",
    "order"
   ]
  },
  {
   "cell_type": "code",
   "execution_count": 163,
   "metadata": {},
   "outputs": [
    {
     "data": {
      "text/html": [
       "<div>\n",
       "<style scoped>\n",
       "    .dataframe tbody tr th:only-of-type {\n",
       "        vertical-align: middle;\n",
       "    }\n",
       "\n",
       "    .dataframe tbody tr th {\n",
       "        vertical-align: top;\n",
       "    }\n",
       "\n",
       "    .dataframe thead th {\n",
       "        text-align: right;\n",
       "    }\n",
       "</style>\n",
       "<table border=\"1\" class=\"dataframe\">\n",
       "  <thead>\n",
       "    <tr style=\"text-align: right;\">\n",
       "      <th>gender</th>\n",
       "      <th>여</th>\n",
       "      <th>남</th>\n",
       "    </tr>\n",
       "    <tr>\n",
       "      <th>song_genre</th>\n",
       "      <th></th>\n",
       "      <th></th>\n",
       "    </tr>\n",
       "  </thead>\n",
       "  <tbody>\n",
       "    <tr>\n",
       "      <th>Adult Contemporary</th>\n",
       "      <td>0.500000</td>\n",
       "      <td>0.500000</td>\n",
       "    </tr>\n",
       "    <tr>\n",
       "      <th>Animation</th>\n",
       "      <td>0.625000</td>\n",
       "      <td>0.375000</td>\n",
       "    </tr>\n",
       "    <tr>\n",
       "      <th>Animation,Dance</th>\n",
       "      <td>0.500000</td>\n",
       "      <td>0.500000</td>\n",
       "    </tr>\n",
       "    <tr>\n",
       "      <th>Ballad</th>\n",
       "      <td>0.319746</td>\n",
       "      <td>0.620924</td>\n",
       "    </tr>\n",
       "    <tr>\n",
       "      <th>Dance</th>\n",
       "      <td>0.420190</td>\n",
       "      <td>0.538275</td>\n",
       "    </tr>\n",
       "    <tr>\n",
       "      <th>Drama</th>\n",
       "      <td>0.504762</td>\n",
       "      <td>0.490476</td>\n",
       "    </tr>\n",
       "    <tr>\n",
       "      <th>Drama,Ballad</th>\n",
       "      <td>0.347826</td>\n",
       "      <td>0.652174</td>\n",
       "    </tr>\n",
       "    <tr>\n",
       "      <th>Drama,Dance</th>\n",
       "      <td>0.388889</td>\n",
       "      <td>0.611111</td>\n",
       "    </tr>\n",
       "    <tr>\n",
       "      <th>Electronica</th>\n",
       "      <td>0.564103</td>\n",
       "      <td>0.435897</td>\n",
       "    </tr>\n",
       "    <tr>\n",
       "      <th>Folk</th>\n",
       "      <td>0.200000</td>\n",
       "      <td>0.700000</td>\n",
       "    </tr>\n",
       "    <tr>\n",
       "      <th>Korean Movie</th>\n",
       "      <td>0.285714</td>\n",
       "      <td>0.714286</td>\n",
       "    </tr>\n",
       "    <tr>\n",
       "      <th>Korean Movie,Ballad</th>\n",
       "      <td>0.333333</td>\n",
       "      <td>0.666667</td>\n",
       "    </tr>\n",
       "    <tr>\n",
       "      <th>Pop</th>\n",
       "      <td>0.187500</td>\n",
       "      <td>0.812500</td>\n",
       "    </tr>\n",
       "    <tr>\n",
       "      <th>R&amp;B / Soul</th>\n",
       "      <td>0.231481</td>\n",
       "      <td>0.768519</td>\n",
       "    </tr>\n",
       "    <tr>\n",
       "      <th>Rap / Hip-hop</th>\n",
       "      <td>0.091787</td>\n",
       "      <td>0.908213</td>\n",
       "    </tr>\n",
       "    <tr>\n",
       "      <th>Rock</th>\n",
       "      <td>0.045908</td>\n",
       "      <td>0.954092</td>\n",
       "    </tr>\n",
       "    <tr>\n",
       "      <th>기타</th>\n",
       "      <td>0.380952</td>\n",
       "      <td>0.619048</td>\n",
       "    </tr>\n",
       "  </tbody>\n",
       "</table>\n",
       "</div>"
      ],
      "text/plain": [
       "gender                      여         남\n",
       "song_genre                             \n",
       "Adult Contemporary   0.500000  0.500000\n",
       "Animation            0.625000  0.375000\n",
       "Animation,Dance      0.500000  0.500000\n",
       "Ballad               0.319746  0.620924\n",
       "Dance                0.420190  0.538275\n",
       "Drama                0.504762  0.490476\n",
       "Drama,Ballad         0.347826  0.652174\n",
       "Drama,Dance          0.388889  0.611111\n",
       "Electronica          0.564103  0.435897\n",
       "Folk                 0.200000  0.700000\n",
       "Korean Movie         0.285714  0.714286\n",
       "Korean Movie,Ballad  0.333333  0.666667\n",
       "Pop                  0.187500  0.812500\n",
       "R&B / Soul           0.231481  0.768519\n",
       "Rap / Hip-hop        0.091787  0.908213\n",
       "Rock                 0.045908  0.954092\n",
       "기타                   0.380952  0.619048"
      ]
     },
     "execution_count": 163,
     "metadata": {},
     "output_type": "execute_result"
    }
   ],
   "source": [
    "genre_result = genre_result[order]\n",
    "genre_result"
   ]
  },
  {
   "cell_type": "code",
   "execution_count": 168,
   "metadata": {},
   "outputs": [
    {
     "data": {
      "text/plain": [
       "<matplotlib.axes._subplots.AxesSubplot at 0x110501c88>"
      ]
     },
     "execution_count": 168,
     "metadata": {},
     "output_type": "execute_result"
    },
    {
     "data": {
      "image/png": "[encoded data removed]",
      "text/plain": [
       "<Figure size 432x288 with 1 Axes>"
      ]
     },
     "metadata": {},
     "output_type": "display_data"
    }
   ],
   "source": [
    "# result_df.plot.bar(title=\"Titanic\")           # 특정kwargs O, X\n",
    "ax = genre_result.plot(kind=\"barh\", title=\"장르\", stacked=True,color=[\"#7A37F5\", \"#20C2AA\",\"coral\",\"green\",\"yellow\",\"indigo\",\"pink\",\"brown\",\"lightblue\",\"darkorchid\"])\n",
    "ax"
   ]
  },
  {
   "cell_type": "code",
   "execution_count": 238,
   "metadata": {},
   "outputs": [],
   "source": [
    "genre = song.groupby([\"gender\", \"song_genre\"]).size().unstack(0)"
   ]
  },
  {
   "cell_type": "code",
   "execution_count": 239,
   "metadata": {},
   "outputs": [],
   "source": [
    "genre = genre.drop(columns=['혼'])"
   ]
  },
  {
   "cell_type": "code",
   "execution_count": 181,
   "metadata": {},
   "outputs": [
    {
     "data": {
      "text/html": [
       "<div>\n",
       "<style scoped>\n",
       "    .dataframe tbody tr th:only-of-type {\n",
       "        vertical-align: middle;\n",
       "    }\n",
       "\n",
       "    .dataframe tbody tr th {\n",
       "        vertical-align: top;\n",
       "    }\n",
       "\n",
       "    .dataframe thead th {\n",
       "        text-align: right;\n",
       "    }\n",
       "</style>\n",
       "<table border=\"1\" class=\"dataframe\">\n",
       "  <thead>\n",
       "    <tr style=\"text-align: right;\">\n",
       "      <th>gender</th>\n",
       "      <th>남</th>\n",
       "      <th>여</th>\n",
       "    </tr>\n",
       "    <tr>\n",
       "      <th>song_genre</th>\n",
       "      <th></th>\n",
       "      <th></th>\n",
       "    </tr>\n",
       "  </thead>\n",
       "  <tbody>\n",
       "    <tr>\n",
       "      <th>Adult Contemporary</th>\n",
       "      <td>1.0</td>\n",
       "      <td>1.0</td>\n",
       "    </tr>\n",
       "    <tr>\n",
       "      <th>Animation</th>\n",
       "      <td>9.0</td>\n",
       "      <td>15.0</td>\n",
       "    </tr>\n",
       "    <tr>\n",
       "      <th>Animation,Dance</th>\n",
       "      <td>1.0</td>\n",
       "      <td>1.0</td>\n",
       "    </tr>\n",
       "    <tr>\n",
       "      <th>Ballad</th>\n",
       "      <td>1371.0</td>\n",
       "      <td>706.0</td>\n",
       "    </tr>\n",
       "    <tr>\n",
       "      <th>Dance</th>\n",
       "      <td>2890.0</td>\n",
       "      <td>2256.0</td>\n",
       "    </tr>\n",
       "    <tr>\n",
       "      <th>Drama</th>\n",
       "      <td>103.0</td>\n",
       "      <td>106.0</td>\n",
       "    </tr>\n",
       "    <tr>\n",
       "      <th>Drama,Ballad</th>\n",
       "      <td>15.0</td>\n",
       "      <td>8.0</td>\n",
       "    </tr>\n",
       "    <tr>\n",
       "      <th>Drama,Dance</th>\n",
       "      <td>11.0</td>\n",
       "      <td>7.0</td>\n",
       "    </tr>\n",
       "    <tr>\n",
       "      <th>Electronica</th>\n",
       "      <td>17.0</td>\n",
       "      <td>22.0</td>\n",
       "    </tr>\n",
       "    <tr>\n",
       "      <th>Folk</th>\n",
       "      <td>7.0</td>\n",
       "      <td>2.0</td>\n",
       "    </tr>\n",
       "    <tr>\n",
       "      <th>Korean Movie</th>\n",
       "      <td>10.0</td>\n",
       "      <td>4.0</td>\n",
       "    </tr>\n",
       "    <tr>\n",
       "      <th>Korean Movie,Ballad</th>\n",
       "      <td>2.0</td>\n",
       "      <td>1.0</td>\n",
       "    </tr>\n",
       "    <tr>\n",
       "      <th>Pop</th>\n",
       "      <td>13.0</td>\n",
       "      <td>3.0</td>\n",
       "    </tr>\n",
       "    <tr>\n",
       "      <th>R&amp;B / Soul</th>\n",
       "      <td>332.0</td>\n",
       "      <td>100.0</td>\n",
       "    </tr>\n",
       "    <tr>\n",
       "      <th>Rap / Hip-hop</th>\n",
       "      <td>564.0</td>\n",
       "      <td>57.0</td>\n",
       "    </tr>\n",
       "    <tr>\n",
       "      <th>Rock</th>\n",
       "      <td>478.0</td>\n",
       "      <td>23.0</td>\n",
       "    </tr>\n",
       "    <tr>\n",
       "      <th>기타</th>\n",
       "      <td>26.0</td>\n",
       "      <td>16.0</td>\n",
       "    </tr>\n",
       "  </tbody>\n",
       "</table>\n",
       "</div>"
      ],
      "text/plain": [
       "gender                    남       여\n",
       "song_genre                         \n",
       "Adult Contemporary      1.0     1.0\n",
       "Animation               9.0    15.0\n",
       "Animation,Dance         1.0     1.0\n",
       "Ballad               1371.0   706.0\n",
       "Dance                2890.0  2256.0\n",
       "Drama                 103.0   106.0\n",
       "Drama,Ballad           15.0     8.0\n",
       "Drama,Dance            11.0     7.0\n",
       "Electronica            17.0    22.0\n",
       "Folk                    7.0     2.0\n",
       "Korean Movie           10.0     4.0\n",
       "Korean Movie,Ballad     2.0     1.0\n",
       "Pop                    13.0     3.0\n",
       "R&B / Soul            332.0   100.0\n",
       "Rap / Hip-hop         564.0    57.0\n",
       "Rock                  478.0    23.0\n",
       "기타                     26.0    16.0"
      ]
     },
     "execution_count": 181,
     "metadata": {},
     "output_type": "execute_result"
    }
   ],
   "source": [
    "# genre = genre.dropna()\n",
    "# genre"
   ]
  },
  {
   "cell_type": "code",
   "execution_count": 240,
   "metadata": {},
   "outputs": [
    {
     "data": {
      "text/plain": [
       "(33, 2)"
      ]
     },
     "execution_count": 240,
     "metadata": {},
     "output_type": "execute_result"
    }
   ],
   "source": [
    "genre = genre.sort_values(by='여', ascending=False)\n",
    "genre.shape"
   ]
  },
  {
   "cell_type": "code",
   "execution_count": 241,
   "metadata": {},
   "outputs": [
    {
     "data": {
      "text/html": [
       "<div>\n",
       "<style scoped>\n",
       "    .dataframe tbody tr th:only-of-type {\n",
       "        vertical-align: middle;\n",
       "    }\n",
       "\n",
       "    .dataframe tbody tr th {\n",
       "        vertical-align: top;\n",
       "    }\n",
       "\n",
       "    .dataframe thead th {\n",
       "        text-align: right;\n",
       "    }\n",
       "</style>\n",
       "<table border=\"1\" class=\"dataframe\">\n",
       "  <thead>\n",
       "    <tr style=\"text-align: right;\">\n",
       "      <th>gender</th>\n",
       "      <th>남</th>\n",
       "      <th>여</th>\n",
       "    </tr>\n",
       "    <tr>\n",
       "      <th>song_genre</th>\n",
       "      <th></th>\n",
       "      <th></th>\n",
       "    </tr>\n",
       "  </thead>\n",
       "  <tbody>\n",
       "    <tr>\n",
       "      <th>Dance</th>\n",
       "      <td>2890.0</td>\n",
       "      <td>2256.0</td>\n",
       "    </tr>\n",
       "    <tr>\n",
       "      <th>Ballad</th>\n",
       "      <td>1371.0</td>\n",
       "      <td>706.0</td>\n",
       "    </tr>\n",
       "    <tr>\n",
       "      <th>Drama</th>\n",
       "      <td>103.0</td>\n",
       "      <td>106.0</td>\n",
       "    </tr>\n",
       "    <tr>\n",
       "      <th>R&amp;B / Soul</th>\n",
       "      <td>332.0</td>\n",
       "      <td>100.0</td>\n",
       "    </tr>\n",
       "    <tr>\n",
       "      <th>Rap / Hip-hop</th>\n",
       "      <td>564.0</td>\n",
       "      <td>57.0</td>\n",
       "    </tr>\n",
       "    <tr>\n",
       "      <th>Rock</th>\n",
       "      <td>478.0</td>\n",
       "      <td>23.0</td>\n",
       "    </tr>\n",
       "    <tr>\n",
       "      <th>Electronica</th>\n",
       "      <td>17.0</td>\n",
       "      <td>22.0</td>\n",
       "    </tr>\n",
       "    <tr>\n",
       "      <th>기타</th>\n",
       "      <td>26.0</td>\n",
       "      <td>16.0</td>\n",
       "    </tr>\n",
       "    <tr>\n",
       "      <th>Animation</th>\n",
       "      <td>9.0</td>\n",
       "      <td>15.0</td>\n",
       "    </tr>\n",
       "    <tr>\n",
       "      <th>Drama,Ballad</th>\n",
       "      <td>15.0</td>\n",
       "      <td>8.0</td>\n",
       "    </tr>\n",
       "    <tr>\n",
       "      <th>Drama,Dance</th>\n",
       "      <td>11.0</td>\n",
       "      <td>7.0</td>\n",
       "    </tr>\n",
       "    <tr>\n",
       "      <th>Game</th>\n",
       "      <td>NaN</td>\n",
       "      <td>4.0</td>\n",
       "    </tr>\n",
       "    <tr>\n",
       "      <th>Korean Movie</th>\n",
       "      <td>10.0</td>\n",
       "      <td>4.0</td>\n",
       "    </tr>\n",
       "    <tr>\n",
       "      <th>Pop</th>\n",
       "      <td>13.0</td>\n",
       "      <td>3.0</td>\n",
       "    </tr>\n",
       "    <tr>\n",
       "      <th>Folk</th>\n",
       "      <td>7.0</td>\n",
       "      <td>2.0</td>\n",
       "    </tr>\n",
       "    <tr>\n",
       "      <th>Korean Traditional</th>\n",
       "      <td>NaN</td>\n",
       "      <td>1.0</td>\n",
       "    </tr>\n",
       "    <tr>\n",
       "      <th>Adult Contemporary</th>\n",
       "      <td>1.0</td>\n",
       "      <td>1.0</td>\n",
       "    </tr>\n",
       "    <tr>\n",
       "      <th>Korean Movie,Ballad</th>\n",
       "      <td>2.0</td>\n",
       "      <td>1.0</td>\n",
       "    </tr>\n",
       "    <tr>\n",
       "      <th>Jazz</th>\n",
       "      <td>NaN</td>\n",
       "      <td>1.0</td>\n",
       "    </tr>\n",
       "    <tr>\n",
       "      <th>Electronica,Dance</th>\n",
       "      <td>NaN</td>\n",
       "      <td>1.0</td>\n",
       "    </tr>\n",
       "    <tr>\n",
       "      <th>Blues</th>\n",
       "      <td>NaN</td>\n",
       "      <td>1.0</td>\n",
       "    </tr>\n",
       "    <tr>\n",
       "      <th>Ballad,Rap / Hip-hop</th>\n",
       "      <td>NaN</td>\n",
       "      <td>1.0</td>\n",
       "    </tr>\n",
       "    <tr>\n",
       "      <th>Animation,Dance</th>\n",
       "      <td>1.0</td>\n",
       "      <td>1.0</td>\n",
       "    </tr>\n",
       "    <tr>\n",
       "      <th>동요</th>\n",
       "      <td>NaN</td>\n",
       "      <td>1.0</td>\n",
       "    </tr>\n",
       "    <tr>\n",
       "      <th>Animation,Rock</th>\n",
       "      <td>1.0</td>\n",
       "      <td>NaN</td>\n",
       "    </tr>\n",
       "    <tr>\n",
       "      <th>Dance,Electronica</th>\n",
       "      <td>1.0</td>\n",
       "      <td>NaN</td>\n",
       "    </tr>\n",
       "    <tr>\n",
       "      <th>Drama,Folk</th>\n",
       "      <td>1.0</td>\n",
       "      <td>NaN</td>\n",
       "    </tr>\n",
       "    <tr>\n",
       "      <th>Drama,Rap / Hip-hop</th>\n",
       "      <td>1.0</td>\n",
       "      <td>NaN</td>\n",
       "    </tr>\n",
       "    <tr>\n",
       "      <th>Drama,Rock</th>\n",
       "      <td>5.0</td>\n",
       "      <td>NaN</td>\n",
       "    </tr>\n",
       "    <tr>\n",
       "      <th>Korean Movie,Rock</th>\n",
       "      <td>1.0</td>\n",
       "      <td>NaN</td>\n",
       "    </tr>\n",
       "    <tr>\n",
       "      <th>Musical</th>\n",
       "      <td>8.0</td>\n",
       "      <td>NaN</td>\n",
       "    </tr>\n",
       "    <tr>\n",
       "      <th>Rap / Hip-hop,Dance</th>\n",
       "      <td>1.0</td>\n",
       "      <td>NaN</td>\n",
       "    </tr>\n",
       "    <tr>\n",
       "      <th>국내CCM</th>\n",
       "      <td>NaN</td>\n",
       "      <td>NaN</td>\n",
       "    </tr>\n",
       "  </tbody>\n",
       "</table>\n",
       "</div>"
      ],
      "text/plain": [
       "gender                     남       여\n",
       "song_genre                          \n",
       "Dance                 2890.0  2256.0\n",
       "Ballad                1371.0   706.0\n",
       "Drama                  103.0   106.0\n",
       "R&B / Soul             332.0   100.0\n",
       "Rap / Hip-hop          564.0    57.0\n",
       "Rock                   478.0    23.0\n",
       "Electronica             17.0    22.0\n",
       "기타                      26.0    16.0\n",
       "Animation                9.0    15.0\n",
       "Drama,Ballad            15.0     8.0\n",
       "Drama,Dance             11.0     7.0\n",
       "Game                     NaN     4.0\n",
       "Korean Movie            10.0     4.0\n",
       "Pop                     13.0     3.0\n",
       "Folk                     7.0     2.0\n",
       "Korean Traditional       NaN     1.0\n",
       "Adult Contemporary       1.0     1.0\n",
       "Korean Movie,Ballad      2.0     1.0\n",
       "Jazz                     NaN     1.0\n",
       "Electronica,Dance        NaN     1.0\n",
       "Blues                    NaN     1.0\n",
       "Ballad,Rap / Hip-hop     NaN     1.0\n",
       "Animation,Dance          1.0     1.0\n",
       "동요                       NaN     1.0\n",
       "Animation,Rock           1.0     NaN\n",
       "Dance,Electronica        1.0     NaN\n",
       "Drama,Folk               1.0     NaN\n",
       "Drama,Rap / Hip-hop      1.0     NaN\n",
       "Drama,Rock               5.0     NaN\n",
       "Korean Movie,Rock        1.0     NaN\n",
       "Musical                  8.0     NaN\n",
       "Rap / Hip-hop,Dance      1.0     NaN\n",
       "국내CCM                    NaN     NaN"
      ]
     },
     "execution_count": 241,
     "metadata": {},
     "output_type": "execute_result"
    }
   ],
   "source": [
    "genre"
   ]
  },
  {
   "cell_type": "code",
   "execution_count": 206,
   "metadata": {},
   "outputs": [
    {
     "data": {
      "text/plain": [
       "gender\n",
       "남    26.0\n",
       "여    16.0\n",
       "Name: 기타, dtype: float64"
      ]
     },
     "execution_count": 206,
     "metadata": {},
     "output_type": "execute_result"
    }
   ],
   "source": [
    "genre.loc['기타'] = "
   ]
  },
  {
   "cell_type": "code",
   "execution_count": 222,
   "metadata": {},
   "outputs": [],
   "source": [
    "etc = genre.index[8:33]"
   ]
  },
  {
   "cell_type": "code",
   "execution_count": 225,
   "metadata": {},
   "outputs": [
    {
     "ename": "TypeError",
     "evalue": "unhashable type: 'Index'",
     "output_type": "error",
     "traceback": [
      "\u001b[0;31m---------------------------------------------------------------------------\u001b[0m",
      "\u001b[0;31mTypeError\u001b[0m                                 Traceback (most recent call last)",
      "\u001b[0;32m<ipython-input-225-0d68aa25a87f>\u001b[0m in \u001b[0;36m<module>\u001b[0;34m()\u001b[0m\n\u001b[0;32m----> 1\u001b[0;31m \u001b[0mgenre\u001b[0m \u001b[0;34m=\u001b[0m \u001b[0mgenre\u001b[0m\u001b[0;34m.\u001b[0m\u001b[0mrename\u001b[0m\u001b[0;34m(\u001b[0m\u001b[0mindex\u001b[0m\u001b[0;34m=\u001b[0m\u001b[0;34m{\u001b[0m\u001b[0metc\u001b[0m\u001b[0;34m:\u001b[0m \u001b[0;34m'기타'\u001b[0m\u001b[0;34m}\u001b[0m\u001b[0;34m)\u001b[0m\u001b[0;34m\u001b[0m\u001b[0m\n\u001b[0m",
      "\u001b[0;32m~/anaconda3/lib/python3.6/site-packages/pandas/core/indexes/base.py\u001b[0m in \u001b[0;36m__hash__\u001b[0;34m(self)\u001b[0m\n\u001b[1;32m   2045\u001b[0m \u001b[0;34m\u001b[0m\u001b[0m\n\u001b[1;32m   2046\u001b[0m     \u001b[0;32mdef\u001b[0m \u001b[0m__hash__\u001b[0m\u001b[0;34m(\u001b[0m\u001b[0mself\u001b[0m\u001b[0;34m)\u001b[0m\u001b[0;34m:\u001b[0m\u001b[0;34m\u001b[0m\u001b[0m\n\u001b[0;32m-> 2047\u001b[0;31m         \u001b[0;32mraise\u001b[0m \u001b[0mTypeError\u001b[0m\u001b[0;34m(\u001b[0m\u001b[0;34m\"unhashable type: %r\"\u001b[0m \u001b[0;34m%\u001b[0m \u001b[0mtype\u001b[0m\u001b[0;34m(\u001b[0m\u001b[0mself\u001b[0m\u001b[0;34m)\u001b[0m\u001b[0;34m.\u001b[0m\u001b[0m__name__\u001b[0m\u001b[0;34m)\u001b[0m\u001b[0;34m\u001b[0m\u001b[0m\n\u001b[0m\u001b[1;32m   2048\u001b[0m \u001b[0;34m\u001b[0m\u001b[0m\n\u001b[1;32m   2049\u001b[0m     \u001b[0;32mdef\u001b[0m \u001b[0m__setitem__\u001b[0m\u001b[0;34m(\u001b[0m\u001b[0mself\u001b[0m\u001b[0;34m,\u001b[0m \u001b[0mkey\u001b[0m\u001b[0;34m,\u001b[0m \u001b[0mvalue\u001b[0m\u001b[0;34m)\u001b[0m\u001b[0;34m:\u001b[0m\u001b[0;34m\u001b[0m\u001b[0m\n",
      "\u001b[0;31mTypeError\u001b[0m: unhashable type: 'Index'"
     ]
    }
   ],
   "source": [
    "genre = genre.rename(index={etc: '기타'})"
   ]
  },
  {
   "cell_type": "code",
   "execution_count": 229,
   "metadata": {},
   "outputs": [],
   "source": [
    "a = genre.index[8:33].append(pd.Index(['기타']))"
   ]
  },
  {
   "cell_type": "code",
   "execution_count": 230,
   "metadata": {},
   "outputs": [
    {
     "data": {
      "text/plain": [
       "Index(['Animation', 'Drama,Ballad', 'Drama,Dance', 'Game', 'Korean Movie',\n",
       "       'Pop', 'Folk', 'Korean Traditional', 'Adult Contemporary',\n",
       "       'Korean Movie,Ballad', 'Jazz', 'Electronica,Dance', 'Blues',\n",
       "       'Ballad,Rap / Hip-hop', 'Animation,Dance', '동요', 'Animation,Rock',\n",
       "       'Dance,Electronica', 'Drama,Folk', 'Drama,Rap / Hip-hop', 'Drama,Rock',\n",
       "       'Korean Movie,Rock', 'Musical', 'Rap / Hip-hop,Dance', '국내CCM', '기타'],\n",
       "      dtype='object')"
      ]
     },
     "execution_count": 230,
     "metadata": {},
     "output_type": "execute_result"
    }
   ],
   "source": [
    "a"
   ]
  },
  {
   "cell_type": "code",
   "execution_count": null,
   "metadata": {},
   "outputs": [],
   "source": [
    "genre.iloc[8:33] = "
   ]
  },
  {
   "cell_type": "code",
   "execution_count": null,
   "metadata": {},
   "outputs": [],
   "source": [
    "df.groupby([‘Column_1’, ‘Column_2’], as_index=false).agg(‘sum’)"
   ]
  },
  {
   "cell_type": "code",
   "execution_count": 207,
   "metadata": {},
   "outputs": [
    {
     "data": {
      "text/plain": [
       "gender\n",
       "남    88.0\n",
       "여    52.0\n",
       "Name: 기타, dtype: float64"
      ]
     },
     "execution_count": 207,
     "metadata": {},
     "output_type": "execute_result"
    }
   ],
   "source": [
    "genre.loc['기타'] = genre.iloc[8:33, [0,1]].sum()\n",
    "\n",
    "genre.loc['기타']"
   ]
  },
  {
   "cell_type": "code",
   "execution_count": 249,
   "metadata": {},
   "outputs": [],
   "source": [
    "genre = genre.rename({'Animation':'기타', 'Drama,Ballad':'기타', 'Drama,Dance':'기타', 'Game':'기타', 'Korean Movie':'기타',\n",
    "       'Pop':'기타', 'Folk':'기타', 'Korean Traditional':'기타', 'Adult Contemporary':'기타',\n",
    "       'Korean Movie,Ballad':'기타', 'Jazz':'기타', 'Electronica,Dance':'기타', 'Blues':'기타',\n",
    "       'Ballad,Rap / Hip-hop':'기타', 'Animation,Dance':'기타', '동요':'기타', 'Animation,Rock':'기타',\n",
    "       'Dance,Electronica':'기타', 'Drama,Folk':'기타', 'Drama,Rap / Hip-hop':'기타', 'Drama,Rock':'기타',\n",
    "       'Korean Movie,Rock':'기타', 'Musical':'기타', 'Rap / Hip-hop,Dance':'기타', '국내CCM':'기타',}, axis='index')"
   ]
  },
  {
   "cell_type": "code",
   "execution_count": 250,
   "metadata": {},
   "outputs": [
    {
     "data": {
      "text/html": [
       "<div>\n",
       "<style scoped>\n",
       "    .dataframe tbody tr th:only-of-type {\n",
       "        vertical-align: middle;\n",
       "    }\n",
       "\n",
       "    .dataframe tbody tr th {\n",
       "        vertical-align: top;\n",
       "    }\n",
       "\n",
       "    .dataframe thead th {\n",
       "        text-align: right;\n",
       "    }\n",
       "</style>\n",
       "<table border=\"1\" class=\"dataframe\">\n",
       "  <thead>\n",
       "    <tr style=\"text-align: right;\">\n",
       "      <th>gender</th>\n",
       "      <th>남</th>\n",
       "      <th>여</th>\n",
       "    </tr>\n",
       "    <tr>\n",
       "      <th>song_genre</th>\n",
       "      <th></th>\n",
       "      <th></th>\n",
       "    </tr>\n",
       "  </thead>\n",
       "  <tbody>\n",
       "    <tr>\n",
       "      <th>Dance</th>\n",
       "      <td>2890.0</td>\n",
       "      <td>2256.0</td>\n",
       "    </tr>\n",
       "    <tr>\n",
       "      <th>Ballad</th>\n",
       "      <td>1371.0</td>\n",
       "      <td>706.0</td>\n",
       "    </tr>\n",
       "    <tr>\n",
       "      <th>Drama</th>\n",
       "      <td>103.0</td>\n",
       "      <td>106.0</td>\n",
       "    </tr>\n",
       "    <tr>\n",
       "      <th>R&amp;B / Soul</th>\n",
       "      <td>332.0</td>\n",
       "      <td>100.0</td>\n",
       "    </tr>\n",
       "    <tr>\n",
       "      <th>Rap / Hip-hop</th>\n",
       "      <td>564.0</td>\n",
       "      <td>57.0</td>\n",
       "    </tr>\n",
       "    <tr>\n",
       "      <th>Rock</th>\n",
       "      <td>478.0</td>\n",
       "      <td>23.0</td>\n",
       "    </tr>\n",
       "    <tr>\n",
       "      <th>Electronica</th>\n",
       "      <td>17.0</td>\n",
       "      <td>22.0</td>\n",
       "    </tr>\n",
       "    <tr>\n",
       "      <th>기타</th>\n",
       "      <td>26.0</td>\n",
       "      <td>16.0</td>\n",
       "    </tr>\n",
       "    <tr>\n",
       "      <th>기타</th>\n",
       "      <td>9.0</td>\n",
       "      <td>15.0</td>\n",
       "    </tr>\n",
       "    <tr>\n",
       "      <th>기타</th>\n",
       "      <td>15.0</td>\n",
       "      <td>8.0</td>\n",
       "    </tr>\n",
       "    <tr>\n",
       "      <th>기타</th>\n",
       "      <td>11.0</td>\n",
       "      <td>7.0</td>\n",
       "    </tr>\n",
       "    <tr>\n",
       "      <th>기타</th>\n",
       "      <td>NaN</td>\n",
       "      <td>4.0</td>\n",
       "    </tr>\n",
       "    <tr>\n",
       "      <th>기타</th>\n",
       "      <td>10.0</td>\n",
       "      <td>4.0</td>\n",
       "    </tr>\n",
       "    <tr>\n",
       "      <th>기타</th>\n",
       "      <td>13.0</td>\n",
       "      <td>3.0</td>\n",
       "    </tr>\n",
       "    <tr>\n",
       "      <th>기타</th>\n",
       "      <td>7.0</td>\n",
       "      <td>2.0</td>\n",
       "    </tr>\n",
       "    <tr>\n",
       "      <th>기타</th>\n",
       "      <td>NaN</td>\n",
       "      <td>1.0</td>\n",
       "    </tr>\n",
       "    <tr>\n",
       "      <th>기타</th>\n",
       "      <td>1.0</td>\n",
       "      <td>1.0</td>\n",
       "    </tr>\n",
       "    <tr>\n",
       "      <th>기타</th>\n",
       "      <td>2.0</td>\n",
       "      <td>1.0</td>\n",
       "    </tr>\n",
       "    <tr>\n",
       "      <th>기타</th>\n",
       "      <td>NaN</td>\n",
       "      <td>1.0</td>\n",
       "    </tr>\n",
       "    <tr>\n",
       "      <th>기타</th>\n",
       "      <td>NaN</td>\n",
       "      <td>1.0</td>\n",
       "    </tr>\n",
       "    <tr>\n",
       "      <th>기타</th>\n",
       "      <td>NaN</td>\n",
       "      <td>1.0</td>\n",
       "    </tr>\n",
       "    <tr>\n",
       "      <th>기타</th>\n",
       "      <td>NaN</td>\n",
       "      <td>1.0</td>\n",
       "    </tr>\n",
       "    <tr>\n",
       "      <th>기타</th>\n",
       "      <td>1.0</td>\n",
       "      <td>1.0</td>\n",
       "    </tr>\n",
       "    <tr>\n",
       "      <th>기타</th>\n",
       "      <td>NaN</td>\n",
       "      <td>1.0</td>\n",
       "    </tr>\n",
       "    <tr>\n",
       "      <th>기타</th>\n",
       "      <td>1.0</td>\n",
       "      <td>NaN</td>\n",
       "    </tr>\n",
       "    <tr>\n",
       "      <th>기타</th>\n",
       "      <td>1.0</td>\n",
       "      <td>NaN</td>\n",
       "    </tr>\n",
       "    <tr>\n",
       "      <th>기타</th>\n",
       "      <td>1.0</td>\n",
       "      <td>NaN</td>\n",
       "    </tr>\n",
       "    <tr>\n",
       "      <th>기타</th>\n",
       "      <td>1.0</td>\n",
       "      <td>NaN</td>\n",
       "    </tr>\n",
       "    <tr>\n",
       "      <th>기타</th>\n",
       "      <td>5.0</td>\n",
       "      <td>NaN</td>\n",
       "    </tr>\n",
       "    <tr>\n",
       "      <th>기타</th>\n",
       "      <td>1.0</td>\n",
       "      <td>NaN</td>\n",
       "    </tr>\n",
       "    <tr>\n",
       "      <th>기타</th>\n",
       "      <td>8.0</td>\n",
       "      <td>NaN</td>\n",
       "    </tr>\n",
       "    <tr>\n",
       "      <th>기타</th>\n",
       "      <td>1.0</td>\n",
       "      <td>NaN</td>\n",
       "    </tr>\n",
       "    <tr>\n",
       "      <th>기타</th>\n",
       "      <td>NaN</td>\n",
       "      <td>NaN</td>\n",
       "    </tr>\n",
       "  </tbody>\n",
       "</table>\n",
       "</div>"
      ],
      "text/plain": [
       "gender              남       여\n",
       "song_genre                   \n",
       "Dance          2890.0  2256.0\n",
       "Ballad         1371.0   706.0\n",
       "Drama           103.0   106.0\n",
       "R&B / Soul      332.0   100.0\n",
       "Rap / Hip-hop   564.0    57.0\n",
       "Rock            478.0    23.0\n",
       "Electronica      17.0    22.0\n",
       "기타               26.0    16.0\n",
       "기타                9.0    15.0\n",
       "기타               15.0     8.0\n",
       "기타               11.0     7.0\n",
       "기타                NaN     4.0\n",
       "기타               10.0     4.0\n",
       "기타               13.0     3.0\n",
       "기타                7.0     2.0\n",
       "기타                NaN     1.0\n",
       "기타                1.0     1.0\n",
       "기타                2.0     1.0\n",
       "기타                NaN     1.0\n",
       "기타                NaN     1.0\n",
       "기타                NaN     1.0\n",
       "기타                NaN     1.0\n",
       "기타                1.0     1.0\n",
       "기타                NaN     1.0\n",
       "기타                1.0     NaN\n",
       "기타                1.0     NaN\n",
       "기타                1.0     NaN\n",
       "기타                1.0     NaN\n",
       "기타                5.0     NaN\n",
       "기타                1.0     NaN\n",
       "기타                8.0     NaN\n",
       "기타                1.0     NaN\n",
       "기타                NaN     NaN"
      ]
     },
     "execution_count": 250,
     "metadata": {},
     "output_type": "execute_result"
    }
   ],
   "source": [
    "genre"
   ]
  },
  {
   "cell_type": "code",
   "execution_count": 252,
   "metadata": {},
   "outputs": [],
   "source": [
    "# genre.groupby(['song_genre'], as_index=False).agg('sum')\n",
    "genre = genre.groupby(['song_genre']).sum()"
   ]
  },
  {
   "cell_type": "code",
   "execution_count": 257,
   "metadata": {},
   "outputs": [
    {
     "data": {
      "text/plain": [
       "['남', '여']"
      ]
     },
     "execution_count": 257,
     "metadata": {},
     "output_type": "execute_result"
    }
   ],
   "source": [
    "order = genre.columns.tolist()\n",
    "order"
   ]
  },
  {
   "cell_type": "code",
   "execution_count": 258,
   "metadata": {},
   "outputs": [
    {
     "data": {
      "text/plain": [
       "['여', '남']"
      ]
     },
     "execution_count": 258,
     "metadata": {},
     "output_type": "execute_result"
    }
   ],
   "source": [
    "order = order[-1:] + order[:-1]\n",
    "order"
   ]
  },
  {
   "cell_type": "code",
   "execution_count": 260,
   "metadata": {},
   "outputs": [],
   "source": [
    "genre = genre[order]"
   ]
  },
  {
   "cell_type": "code",
   "execution_count": 278,
   "metadata": {},
   "outputs": [],
   "source": [
    "genre = genre.sort_values(by='여', ascending=False)"
   ]
  },
  {
   "cell_type": "code",
   "execution_count": 279,
   "metadata": {},
   "outputs": [
    {
     "data": {
      "text/html": [
       "<div>\n",
       "<style scoped>\n",
       "    .dataframe tbody tr th:only-of-type {\n",
       "        vertical-align: middle;\n",
       "    }\n",
       "\n",
       "    .dataframe tbody tr th {\n",
       "        vertical-align: top;\n",
       "    }\n",
       "\n",
       "    .dataframe thead th {\n",
       "        text-align: right;\n",
       "    }\n",
       "</style>\n",
       "<table border=\"1\" class=\"dataframe\">\n",
       "  <thead>\n",
       "    <tr style=\"text-align: right;\">\n",
       "      <th>song_genre</th>\n",
       "      <th>Dance</th>\n",
       "      <th>Ballad</th>\n",
       "      <th>Drama</th>\n",
       "      <th>R&amp;B / Soul</th>\n",
       "      <th>기타</th>\n",
       "      <th>Rap / Hip-hop</th>\n",
       "      <th>Rock</th>\n",
       "      <th>Electronica</th>\n",
       "    </tr>\n",
       "    <tr>\n",
       "      <th>gender</th>\n",
       "      <th></th>\n",
       "      <th></th>\n",
       "      <th></th>\n",
       "      <th></th>\n",
       "      <th></th>\n",
       "      <th></th>\n",
       "      <th></th>\n",
       "      <th></th>\n",
       "    </tr>\n",
       "  </thead>\n",
       "  <tbody>\n",
       "    <tr>\n",
       "      <th>여</th>\n",
       "      <td>2256.0</td>\n",
       "      <td>706.0</td>\n",
       "      <td>106.0</td>\n",
       "      <td>100.0</td>\n",
       "      <td>68.0</td>\n",
       "      <td>57.0</td>\n",
       "      <td>23.0</td>\n",
       "      <td>22.0</td>\n",
       "    </tr>\n",
       "    <tr>\n",
       "      <th>남</th>\n",
       "      <td>2890.0</td>\n",
       "      <td>1371.0</td>\n",
       "      <td>103.0</td>\n",
       "      <td>332.0</td>\n",
       "      <td>114.0</td>\n",
       "      <td>564.0</td>\n",
       "      <td>478.0</td>\n",
       "      <td>17.0</td>\n",
       "    </tr>\n",
       "  </tbody>\n",
       "</table>\n",
       "</div>"
      ],
      "text/plain": [
       "song_genre   Dance  Ballad  Drama  R&B / Soul     기타  Rap / Hip-hop   Rock  \\\n",
       "gender                                                                       \n",
       "여           2256.0   706.0  106.0       100.0   68.0           57.0   23.0   \n",
       "남           2890.0  1371.0  103.0       332.0  114.0          564.0  478.0   \n",
       "\n",
       "song_genre  Electronica  \n",
       "gender                   \n",
       "여                  22.0  \n",
       "남                  17.0  "
      ]
     },
     "execution_count": 279,
     "metadata": {},
     "output_type": "execute_result"
    }
   ],
   "source": [
    "genre_transposed = genre.T\n",
    "genre_transposed"
   ]
  },
  {
   "cell_type": "code",
   "execution_count": 280,
   "metadata": {},
   "outputs": [
    {
     "data": {
      "text/plain": [
       "<matplotlib.axes._subplots.AxesSubplot at 0x11eea2898>"
      ]
     },
     "execution_count": 280,
     "metadata": {},
     "output_type": "execute_result"
    },
    {
     "data": {
      "image/png": "[encoded data removed]",
      "text/plain": [
       "<Figure size 432x288 with 1 Axes>"
      ]
     },
     "metadata": {},
     "output_type": "display_data"
    }
   ],
   "source": [
    "# result_df.plot.bar(title=\"Titanic\")           # 특정kwargs O, X\n",
    "genre_transposed.plot(kind=\"barh\", title=\"장르\", stacked=True,color=[\"red\", \"cornflowerblue\",\"coral\",\"green\",\"yellow\",\"indigo\",\"pink\",\"brown\",\"lightblue\",\"darkorchid\"])"
   ]
  },
  {
   "cell_type": "code",
   "execution_count": 288,
   "metadata": {},
   "outputs": [
    {
     "data": {
      "text/plain": [
       "<matplotlib.axes._subplots.AxesSubplot at 0x11e8c2438>"
      ]
     },
     "execution_count": 288,
     "metadata": {},
     "output_type": "execute_result"
    },
    {
     "data": {
      "image/png": "[encoded data removed]",
      "text/plain": [
       "<Figure size 432x288 with 1 Axes>"
      ]
     },
     "metadata": {},
     "output_type": "display_data"
    }
   ],
   "source": [
    "# result_df.plot.bar(title=\"Titanic\")           # 특정kwargs O, X\n",
    "ax = genre.plot(kind=\"barh\", title=\"장르\", stacked=True,\n",
    "                color=[\"#7A37F5\", \"#20C2AA\",\"coral\",\"green\",\"yellow\",\"indigo\",\"pink\",\"brown\",\"lightblue\",\"darkorchid\"])\n",
    "ax"
   ]
  },
  {
   "cell_type": "code",
   "execution_count": 59,
   "metadata": {},
   "outputs": [
    {
     "data": {
      "image/png": "[encoded data removed]",
      "text/plain": [
       "<Figure size 1152x576 with 1 Axes>"
      ]
     },
     "metadata": {},
     "output_type": "display_data"
    }
   ],
   "source": [
    "import numpy as np\n",
    "import matplotlib.pyplot as plt\n",
    "\n",
    "fig, ax = plt.subplots(figsize=(16, 8), subplot_kw=dict(aspect=\"equal\"))\n",
    "\n",
    "genre = [\"2195 Dance\",\n",
    "          \"704 Ballad\",\n",
    "          \"96 R&B / Soul\",\n",
    "          \"91 Drama\",\n",
    "          \"55 Rap / Hip-hop\",\n",
    "          \"23 Electronica\",\n",
    "          \"22 Rock\",\n",
    "          \"17 기타\"]\n",
    "\n",
    "data = [float(x.split()[0]) for x in recipe]\n",
    "Genre = [x.split()[-1] for x in recipe]\n",
    "\n",
    "\n",
    "def func(pct, allvals):\n",
    "    absolute = int(pct/100.*np.sum(allvals))\n",
    "    return \"{:.1f}%\\n({:d})\".format(pct, absolute)\n",
    "\n",
    "\n",
    "cmap = plt.cm.prism\n",
    "colors = cmap(np.linspace(0., 1., len(genre)))\n",
    "wedges, texts, autotexts = ax.pie(data, autopct=lambda pct: func(pct, data),\n",
    "                                  textprops=dict(color=\"w\"))\n",
    "# ax.pie(colors=colors)\n",
    "\n",
    "ax.legend(wedges, ingredients,\n",
    "          title=\"Genre\",\n",
    "          loc=\"center left\",\n",
    "          bbox_to_anchor=(1, 0, 0.5, 1))\n",
    "\n",
    "plt.setp(autotexts, size=8, weight=\"bold\")\n",
    "\n",
    "ax.set_title(\"Matplotlib bakery: A pie\")\n",
    "\n",
    "plt.show()"
   ]
  },
  {
   "cell_type": "code",
   "execution_count": 89,
   "metadata": {},
   "outputs": [
    {
     "data": {
      "image/png": "[encoded data removed]",
      "text/plain": [
       "<Figure size 504x504 with 1 Axes>"
      ]
     },
     "metadata": {},
     "output_type": "display_data"
    }
   ],
   "source": [
    "female['song_genre'].value_counts()[:8].plot(kind='pie')\n",
    "# plt.axis(\"image\")\n",
    "plt.axis('equal')\n",
    "plt.rcParams.update({'font.size': 10})\n",
    "fig = plt.gcf()\n",
    "fig.set_size_inches(7,7)"
   ]
  },
  {
   "cell_type": "code",
   "execution_count": null,
   "metadata": {},
   "outputs": [],
   "source": []
  },
  {
   "cell_type": "code",
   "execution_count": 88,
   "metadata": {},
   "outputs": [
    {
     "data": {
      "image/png": "[encoded data removed]",
      "text/plain": [
       "<Figure size 504x504 with 1 Axes>"
      ]
     },
     "metadata": {},
     "output_type": "display_data"
    }
   ],
   "source": [
    "male['song_genre'].value_counts()[:8].plot(kind='pie')\n",
    "# plt.axis(\"image\")\n",
    "plt.axis('equal')\n",
    "plt.rcParams.update({'font.size': 10})\n",
    "fig = plt.gcf()\n",
    "fig.set_size_inches(7,7)"
   ]
  },
  {
   "cell_type": "code",
   "execution_count": null,
   "metadata": {},
   "outputs": [],
   "source": [
    "import pandas\n",
    "import matplotlib.pyplot as plt\n",
    "import numpy as np\n",
    "\n",
    "df = pandas.DataFrame(dict(graph=['Item one', 'Item two', 'Item three'],\n",
    "                           n=[3, 5, 2], m=[6, 1, 3])) \n",
    "\n",
    "ind = np.arange(len(df))\n",
    "width = 0.4\n",
    "\n",
    "fig, ax = plt.subplots()\n",
    "ax.barh(ind, df.n, width, color='red', label='N')\n",
    "ax.barh(ind + width, df.m, width, color='green', label='M')\n",
    "\n",
    "ax.set(yticks=ind + width, yticklabels=df.graph, ylim=[2*width - 1, len(df)])\n",
    "ax.legend()\n",
    "\n",
    "plt.show()"
   ]
  }
 ],
 "metadata": {
  "kernelspec": {
   "display_name": "Python 3",
   "language": "python",
   "name": "python3"
  },
  "language_info": {
   "codemirror_mode": {
    "name": "ipython",
    "version": 3
   },
   "file_extension": ".py",
   "mimetype": "text/x-python",
   "name": "python",
   "nbconvert_exporter": "python",
   "pygments_lexer": "ipython3",
   "version": "3.6.5"
  }
 },
 "nbformat": 4,
 "nbformat_minor": 2
}
