{
 "cells": [
  {
   "cell_type": "code",
   "execution_count": 1,
   "metadata": {},
   "outputs": [],
   "source": [
    "import pandas as pd"
   ]
  },
  {
   "cell_type": "code",
   "execution_count": 2,
   "metadata": {},
   "outputs": [],
   "source": [
    "# 곡 정보 파일 불러오기\n",
    "df = pd.read_csv('../SongTidy/FinalTidy/tidydata/song_tidy03.csv')"
   ]
  },
  {
   "cell_type": "code",
   "execution_count": 3,
   "metadata": {},
   "outputs": [],
   "source": [
    "df2 = pd.read_csv('../Data/Data20180921/artist_info_combined_ver04.csv', encoding='euc-kr')"
   ]
  },
  {
   "cell_type": "code",
   "execution_count": 4,
   "metadata": {},
   "outputs": [
    {
     "data": {
      "text/plain": [
       "(9566, 20)"
      ]
     },
     "execution_count": 4,
     "metadata": {},
     "output_type": "execute_result"
    }
   ],
   "source": [
    "# 곡 정보와 가수 정보를 머지해준다.\n",
    "song = pd.merge(df, df2, on='artist')\n",
    "song.shape"
   ]
  },
  {
   "cell_type": "code",
   "execution_count": 5,
   "metadata": {},
   "outputs": [
    {
     "data": {
      "text/plain": [
       "<soynlp.tokenizer._tokenizer.RegexTokenizer at 0x11399cac8>"
      ]
     },
     "execution_count": 5,
     "metadata": {},
     "output_type": "execute_result"
    }
   ],
   "source": [
    "import numpy as np\n",
    "import re\n",
    "from soynlp.tokenizer import RegexTokenizer\n",
    "import gensim\n",
    "from gensim.models import Phrases\n",
    "from gensim.models.word2vec import LineSentence\n",
    "from gensim import corpora, models\n",
    "from gensim.models import LdaMulticore\n",
    "from gensim.models import Word2Vec\n",
    "from gensim.corpora import Dictionary, MmCorpus\n",
    "\n",
    "\n",
    "tokenizer = RegexTokenizer()\n",
    "tokenizer"
   ]
  },
  {
   "cell_type": "code",
   "execution_count": 6,
   "metadata": {},
   "outputs": [],
   "source": [
    "# 가사 분석에 용이하도록 <br>을 공백으로 바꿔준다.\n",
    "song['lyrics'] = song['lyrics'].str.replace(r'<br>', ' ')"
   ]
  },
  {
   "cell_type": "code",
   "execution_count": 7,
   "metadata": {},
   "outputs": [],
   "source": [
    "# 0세대~3세대로 구분\n",
    "song0 = song[song[\"release_date\"].str.contains('1992|1993|1994|1995', na=False)]\n",
    "song1 = song[song[\"release_date\"].str.contains('1996|1997|1998|1999|2000|2001|2002|2003', na=False)]\n",
    "song2 = song[song[\"release_date\"].str.contains('2004|2005|2006|2007|2008|2009|2010|2011', na=False)]\n",
    "song3 = song[song[\"release_date\"].str.contains('2012|2013|2014|2015|2016|2017|2018', na=False)]"
   ]
  },
  {
   "cell_type": "code",
   "execution_count": 8,
   "metadata": {},
   "outputs": [
    {
     "name": "stdout",
     "output_type": "stream",
     "text": [
      "Requirement already satisfied: soynlp in /Users/yunkim/anaconda3/lib/python3.6/site-packages (0.0.46)\n",
      "Requirement already satisfied: psutil>=5.0.1 in /Users/yunkim/anaconda3/lib/python3.6/site-packages (from soynlp) (5.4.5)\n",
      "Requirement already satisfied: numpy>=1.12.1 in /Users/yunkim/anaconda3/lib/python3.6/site-packages (from soynlp) (1.14.3)\n",
      "Name: soynlp\n",
      "Version: 0.0.46\n",
      "Summary: Unsupervised Korean Natural Language Processing Toolkits\n",
      "Home-page: https://github.com/lovit/soynlp\n",
      "Author: Lovit\n",
      "Author-email: soy.lovit@gmail.com\n",
      "License: UNKNOWN\n",
      "Location: /Users/yunkim/anaconda3/lib/python3.6/site-packages\n",
      "Requires: psutil, numpy\n",
      "Required-by: \n"
     ]
    }
   ],
   "source": [
    "!pip install soynlp\n",
    "!pip show soynlp"
   ]
  },
  {
   "cell_type": "code",
   "execution_count": 9,
   "metadata": {},
   "outputs": [
    {
     "name": "stdout",
     "output_type": "stream",
     "text": [
      "Requirement already satisfied: gensim in /Users/yunkim/anaconda3/lib/python3.6/site-packages (3.5.0)\n",
      "Requirement already satisfied: six>=1.5.0 in /Users/yunkim/anaconda3/lib/python3.6/site-packages (from gensim) (1.11.0)\n",
      "Requirement already satisfied: scipy>=0.18.1 in /Users/yunkim/anaconda3/lib/python3.6/site-packages (from gensim) (1.1.0)\n",
      "Requirement already satisfied: numpy>=1.11.3 in /Users/yunkim/anaconda3/lib/python3.6/site-packages (from gensim) (1.14.3)\n",
      "Requirement already satisfied: smart-open>=1.2.1 in /Users/yunkim/anaconda3/lib/python3.6/site-packages (from gensim) (1.6.0)\n",
      "Requirement already satisfied: boto>=2.32 in /Users/yunkim/anaconda3/lib/python3.6/site-packages (from smart-open>=1.2.1->gensim) (2.48.0)\n",
      "Requirement already satisfied: bz2file in /Users/yunkim/anaconda3/lib/python3.6/site-packages (from smart-open>=1.2.1->gensim) (0.98)\n",
      "Requirement already satisfied: requests in /Users/yunkim/anaconda3/lib/python3.6/site-packages (from smart-open>=1.2.1->gensim) (2.18.4)\n",
      "Requirement already satisfied: boto3 in /Users/yunkim/anaconda3/lib/python3.6/site-packages (from smart-open>=1.2.1->gensim) (1.9.0)\n",
      "Requirement already satisfied: chardet<3.1.0,>=3.0.2 in /Users/yunkim/anaconda3/lib/python3.6/site-packages (from requests->smart-open>=1.2.1->gensim) (3.0.4)\n",
      "Requirement already satisfied: idna<2.7,>=2.5 in /Users/yunkim/anaconda3/lib/python3.6/site-packages (from requests->smart-open>=1.2.1->gensim) (2.6)\n",
      "Requirement already satisfied: urllib3<1.23,>=1.21.1 in /Users/yunkim/anaconda3/lib/python3.6/site-packages (from requests->smart-open>=1.2.1->gensim) (1.22)\n",
      "Requirement already satisfied: certifi>=2017.4.17 in /Users/yunkim/anaconda3/lib/python3.6/site-packages (from requests->smart-open>=1.2.1->gensim) (2018.4.16)\n",
      "Requirement already satisfied: botocore<1.13.0,>=1.12.0 in /Users/yunkim/anaconda3/lib/python3.6/site-packages (from boto3->smart-open>=1.2.1->gensim) (1.12.1)\n",
      "Requirement already satisfied: jmespath<1.0.0,>=0.7.1 in /Users/yunkim/anaconda3/lib/python3.6/site-packages (from boto3->smart-open>=1.2.1->gensim) (0.9.3)\n",
      "Requirement already satisfied: s3transfer<0.2.0,>=0.1.10 in /Users/yunkim/anaconda3/lib/python3.6/site-packages (from boto3->smart-open>=1.2.1->gensim) (0.1.13)\n",
      "Requirement already satisfied: docutils>=0.10 in /Users/yunkim/anaconda3/lib/python3.6/site-packages (from botocore<1.13.0,>=1.12.0->boto3->smart-open>=1.2.1->gensim) (0.14)\n",
      "Requirement already satisfied: python-dateutil<3.0.0,>=2.1 in /Users/yunkim/anaconda3/lib/python3.6/site-packages (from botocore<1.13.0,>=1.12.0->boto3->smart-open>=1.2.1->gensim) (2.7.3)\n",
      "Name: gensim\n",
      "Version: 3.5.0\n",
      "Summary: Python framework for fast Vector Space Modelling\n",
      "Home-page: http://radimrehurek.com/gensim\n",
      "Author: Radim Rehurek\n",
      "Author-email: me@radimrehurek.com\n",
      "License: LGPLv2.1\n",
      "Location: /Users/yunkim/anaconda3/lib/python3.6/site-packages\n",
      "Requires: smart-open, numpy, six, scipy\n",
      "Required-by: \n"
     ]
    }
   ],
   "source": [
    "!pip install gensim\n",
    "!pip show gensim"
   ]
  },
  {
   "cell_type": "code",
   "execution_count": 10,
   "metadata": {},
   "outputs": [
    {
     "data": {
      "text/plain": [
       "(10, 20)"
      ]
     },
     "execution_count": 10,
     "metadata": {},
     "output_type": "execute_result"
    }
   ],
   "source": [
    "female0 = song0[song0['gender'] == '여']\n",
    "female0.shape"
   ]
  },
  {
   "cell_type": "code",
   "execution_count": 11,
   "metadata": {},
   "outputs": [
    {
     "data": {
      "text/plain": [
       "(617, 20)"
      ]
     },
     "execution_count": 11,
     "metadata": {},
     "output_type": "execute_result"
    }
   ],
   "source": [
    "female1 = song1[song1['gender'] == '여']\n",
    "female1.shape"
   ]
  },
  {
   "cell_type": "code",
   "execution_count": 12,
   "metadata": {},
   "outputs": [
    {
     "data": {
      "text/plain": [
       "(737, 20)"
      ]
     },
     "execution_count": 12,
     "metadata": {},
     "output_type": "execute_result"
    }
   ],
   "source": [
    "female2 = song2[song2['gender'] == '여']\n",
    "female2.shape"
   ]
  },
  {
   "cell_type": "code",
   "execution_count": 13,
   "metadata": {},
   "outputs": [
    {
     "data": {
      "text/plain": [
       "(1974, 20)"
      ]
     },
     "execution_count": 13,
     "metadata": {},
     "output_type": "execute_result"
    }
   ],
   "source": [
    "female3 = song3[song3['gender'] == '여']\n",
    "female3.shape"
   ]
  },
  {
   "cell_type": "code",
   "execution_count": 14,
   "metadata": {},
   "outputs": [
    {
     "data": {
      "text/plain": [
       "(171, 20)"
      ]
     },
     "execution_count": 14,
     "metadata": {},
     "output_type": "execute_result"
    }
   ],
   "source": [
    "male0 = song0[song0['gender'] == '남']\n",
    "male0.shape"
   ]
  },
  {
   "cell_type": "code",
   "execution_count": 15,
   "metadata": {},
   "outputs": [
    {
     "data": {
      "text/plain": [
       "(1360, 20)"
      ]
     },
     "execution_count": 15,
     "metadata": {},
     "output_type": "execute_result"
    }
   ],
   "source": [
    "male1 = song1[song1['gender'] == '남']\n",
    "male1.shape"
   ]
  },
  {
   "cell_type": "code",
   "execution_count": 16,
   "metadata": {},
   "outputs": [
    {
     "data": {
      "text/plain": [
       "(1387, 20)"
      ]
     },
     "execution_count": 16,
     "metadata": {},
     "output_type": "execute_result"
    }
   ],
   "source": [
    "male2 = song2[song2['gender'] == '남']\n",
    "male2.shape"
   ]
  },
  {
   "cell_type": "code",
   "execution_count": 17,
   "metadata": {},
   "outputs": [
    {
     "data": {
      "text/plain": [
       "(2951, 20)"
      ]
     },
     "execution_count": 17,
     "metadata": {},
     "output_type": "execute_result"
    }
   ],
   "source": [
    "male3 = song3[song3['gender'] == '남']\n",
    "male3.shape"
   ]
  },
  {
   "cell_type": "code",
   "execution_count": 18,
   "metadata": {},
   "outputs": [
    {
     "name": "stderr",
     "output_type": "stream",
     "text": [
      "/Users/yunkim/anaconda3/lib/python3.6/site-packages/ipykernel_launcher.py:2: UserWarning: This pattern has match groups. To actually get the groups, use str.extract.\n",
      "  \n"
     ]
    },
    {
     "data": {
      "text/plain": [
       "(4, 20)"
      ]
     },
     "execution_count": 18,
     "metadata": {},
     "output_type": "execute_result"
    }
   ],
   "source": [
    "# 여자아이돌 곡 중 제목에 '오빠' (혹은 오빤)가 등장하는 곡 수는?\n",
    "female_o = female3[female3['title'].str.contains(r\"(오빠|오빤)\")]\n",
    "female_o.shape"
   ]
  },
  {
   "cell_type": "code",
   "execution_count": 19,
   "metadata": {},
   "outputs": [
    {
     "name": "stderr",
     "output_type": "stream",
     "text": [
      "/Users/yunkim/anaconda3/lib/python3.6/site-packages/ipykernel_launcher.py:2: UserWarning: This pattern has match groups. To actually get the groups, use str.extract.\n",
      "  \n"
     ]
    },
    {
     "data": {
      "text/plain": [
       "(1, 20)"
      ]
     },
     "execution_count": 19,
     "metadata": {},
     "output_type": "execute_result"
    }
   ],
   "source": [
    "# 남자아이돌 곡 중 제목에 '오빠' (혹은 오빤)가 등장하는 곡 수는?\n",
    "male_o = male3[male3['title'].str.contains(r\"(오빠|오빤)\")]\n",
    "male_o.shape"
   ]
  },
  {
   "cell_type": "code",
   "execution_count": 20,
   "metadata": {},
   "outputs": [
    {
     "name": "stderr",
     "output_type": "stream",
     "text": [
      "/Users/yunkim/anaconda3/lib/python3.6/site-packages/ipykernel_launcher.py:1: UserWarning: This pattern has match groups. To actually get the groups, use str.extract.\n",
      "  \"\"\"Entry point for launching an IPython kernel.\n"
     ]
    },
    {
     "data": {
      "text/html": [
       "<div>\n",
       "<style scoped>\n",
       "    .dataframe tbody tr th:only-of-type {\n",
       "        vertical-align: middle;\n",
       "    }\n",
       "\n",
       "    .dataframe tbody tr th {\n",
       "        vertical-align: top;\n",
       "    }\n",
       "\n",
       "    .dataframe thead th {\n",
       "        text-align: right;\n",
       "    }\n",
       "</style>\n",
       "<table border=\"1\" class=\"dataframe\">\n",
       "  <thead>\n",
       "    <tr style=\"text-align: right;\">\n",
       "      <th></th>\n",
       "      <th>title</th>\n",
       "      <th>artist</th>\n",
       "      <th>album</th>\n",
       "      <th>release_date</th>\n",
       "      <th>song_genre</th>\n",
       "      <th>is_title</th>\n",
       "      <th>like</th>\n",
       "      <th>creator</th>\n",
       "      <th>lyrics</th>\n",
       "      <th>lyricist</th>\n",
       "      <th>composer</th>\n",
       "      <th>arranger</th>\n",
       "      <th>artist_m</th>\n",
       "      <th>gender</th>\n",
       "      <th>idol_id</th>\n",
       "      <th>agency_old</th>\n",
       "      <th>agency_new</th>\n",
       "      <th>debut_y</th>\n",
       "      <th>debut_t</th>\n",
       "      <th>fan</th>\n",
       "    </tr>\n",
       "  </thead>\n",
       "  <tbody>\n",
       "    <tr>\n",
       "      <th>4390</th>\n",
       "      <td>나쁜남자</td>\n",
       "      <td>써니힐</td>\n",
       "      <td>The Grasshoppers</td>\n",
       "      <td>2012.01.13</td>\n",
       "      <td>Dance</td>\n",
       "      <td>수록곡</td>\n",
       "      <td>919</td>\n",
       "      <td>미성   작사   코타   작사   전자맨   작곡   미성   작곡   코타   ...</td>\n",
       "      <td>내가 예전에는 말이야 오빤 말이 많아 오빤 말이 많아 내가 다 해봐서 아는데 오빤 ...</td>\n",
       "      <td>미성, 코타</td>\n",
       "      <td>전자맨, 미성, 코타</td>\n",
       "      <td>전자맨</td>\n",
       "      <td>주비, 승아, 미성, 코타</td>\n",
       "      <td>여</td>\n",
       "      <td>229494</td>\n",
       "      <td>NaN</td>\n",
       "      <td>로엔</td>\n",
       "      <td>2007.0</td>\n",
       "      <td>통화 연결음</td>\n",
       "      <td>14283</td>\n",
       "    </tr>\n",
       "    <tr>\n",
       "      <th>4505</th>\n",
       "      <td>leadme</td>\n",
       "      <td>씨스타</td>\n",
       "      <td>ALONE</td>\n",
       "      <td>2012.04.12</td>\n",
       "      <td>Ballad</td>\n",
       "      <td>수록곡</td>\n",
       "      <td>10,254</td>\n",
       "      <td>이단옆차기   작사   이단옆차기   작곡   이단옆차기   편곡</td>\n",
       "      <td>s.i.s.t.t.a.r my love is going to far I know y...</td>\n",
       "      <td>이단옆차기</td>\n",
       "      <td>이단옆차기</td>\n",
       "      <td>이단옆차기</td>\n",
       "      <td>효린, 소유 (SOYOU), 다솜 (씨스타), 보라 (씨스타)</td>\n",
       "      <td>여</td>\n",
       "      <td>473181</td>\n",
       "      <td>NaN</td>\n",
       "      <td>스타쉽</td>\n",
       "      <td>2010.0</td>\n",
       "      <td>Push Push (푸시 푸시)</td>\n",
       "      <td>75079</td>\n",
       "    </tr>\n",
       "    <tr>\n",
       "      <th>234</th>\n",
       "      <td>oh!mygod</td>\n",
       "      <td>걸스데이</td>\n",
       "      <td>Everyday II</td>\n",
       "      <td>2012.04.18</td>\n",
       "      <td>Dance</td>\n",
       "      <td>타이틀 곡</td>\n",
       "      <td>8,075</td>\n",
       "      <td>강지원   작사   김기범   작사   강지원   작곡   김기범   작곡   강지...</td>\n",
       "      <td>OH OH OH MA MA MA 어우워우 어 어 우워우 OH OH OH MA MA ...</td>\n",
       "      <td>강지원, 김기범</td>\n",
       "      <td>강지원, 김기범</td>\n",
       "      <td>강지원</td>\n",
       "      <td>소진 (걸스데이), 민아 (걸스데이), 유라 (걸스데이), 혜리 (걸스데이)</td>\n",
       "      <td>여</td>\n",
       "      <td>482762</td>\n",
       "      <td>NaN</td>\n",
       "      <td>드림티</td>\n",
       "      <td>2010.0</td>\n",
       "      <td>갸우뚱</td>\n",
       "      <td>59218</td>\n",
       "    </tr>\n",
       "    <tr>\n",
       "      <th>4508</th>\n",
       "      <td>lovingu(러빙유)</td>\n",
       "      <td>씨스타</td>\n",
       "      <td>Summer Special `Loving U`</td>\n",
       "      <td>2012.06.28</td>\n",
       "      <td>Dance</td>\n",
       "      <td>타이틀 곡</td>\n",
       "      <td>77,931</td>\n",
       "      <td>이단옆차기   작사   이단옆차기   작곡   이단옆차기   편곡</td>\n",
       "      <td>Hey 참 이상해 정말 strange 이런 적 없었는데 널 볼때마다 나 두근두근 떨...</td>\n",
       "      <td>이단옆차기</td>\n",
       "      <td>이단옆차기</td>\n",
       "      <td>이단옆차기</td>\n",
       "      <td>효린, 소유 (SOYOU), 다솜 (씨스타), 보라 (씨스타)</td>\n",
       "      <td>여</td>\n",
       "      <td>473181</td>\n",
       "      <td>NaN</td>\n",
       "      <td>스타쉽</td>\n",
       "      <td>2010.0</td>\n",
       "      <td>Push Push (푸시 푸시)</td>\n",
       "      <td>75079</td>\n",
       "    </tr>\n",
       "    <tr>\n",
       "      <th>4129</th>\n",
       "      <td>1,2,3</td>\n",
       "      <td>시크릿</td>\n",
       "      <td>POISON</td>\n",
       "      <td>2012.09.13</td>\n",
       "      <td>Dance</td>\n",
       "      <td>수록곡</td>\n",
       "      <td>1,059</td>\n",
       "      <td>2Story   작사   Javier Solis   작사   정하나   작사   2...</td>\n",
       "      <td>1 2 3 do you wanna love with me 늘 똑같은 everyday...</td>\n",
       "      <td>2Story, Javier Solis, 정하나</td>\n",
       "      <td>2Story, Javier Solis</td>\n",
       "      <td>NaN</td>\n",
       "      <td>송지은, 전효성, 정하나, 한선화</td>\n",
       "      <td>여</td>\n",
       "      <td>435121</td>\n",
       "      <td>NaN</td>\n",
       "      <td>TS</td>\n",
       "      <td>2009.0</td>\n",
       "      <td>I Want You Back</td>\n",
       "      <td>10626</td>\n",
       "    </tr>\n",
       "    <tr>\n",
       "      <th>3529</th>\n",
       "      <td>igotaboy</td>\n",
       "      <td>소녀시대</td>\n",
       "      <td>I Got A Boy</td>\n",
       "      <td>2013.01.01</td>\n",
       "      <td>Dance</td>\n",
       "      <td>타이틀 곡</td>\n",
       "      <td>52,032</td>\n",
       "      <td>유영진   작사   유영진   작곡   Will Simms   작곡   Anne J...</td>\n",
       "      <td>Ayo GG Yeah Yeah 시작해 볼까 어머 얘 좀 봐라 얘 무슨 일이 있었길래...</td>\n",
       "      <td>유영진</td>\n",
       "      <td>유영진, Will Simms, Anne Judith Wik, Sarah Lundback</td>\n",
       "      <td>유영진, Will Simms, Anne Judith Wik, Sarah Lundback</td>\n",
       "      <td>태연 (TAEYEON), 써니 (SUNNY), 유리 (YURI), 수영 (SOOYO...</td>\n",
       "      <td>여</td>\n",
       "      <td>228069</td>\n",
       "      <td>NaN</td>\n",
       "      <td>SM</td>\n",
       "      <td>2007.0</td>\n",
       "      <td>다시 만난 세계 (Into The New World)</td>\n",
       "      <td>105431</td>\n",
       "    </tr>\n",
       "    <tr>\n",
       "      <th>248</th>\n",
       "      <td>oh!mygod!</td>\n",
       "      <td>걸스데이</td>\n",
       "      <td>기대</td>\n",
       "      <td>2013.03.14</td>\n",
       "      <td>Dance</td>\n",
       "      <td>수록곡</td>\n",
       "      <td>2,405</td>\n",
       "      <td>강지원   작사   김기범   작사   강지원   작곡   김기범   작곡   강지...</td>\n",
       "      <td>OH OH OH MA MA MA 어우워우 어 어 우워우 OH OH OH MA MA ...</td>\n",
       "      <td>강지원, 김기범</td>\n",
       "      <td>강지원, 김기범</td>\n",
       "      <td>강지원</td>\n",
       "      <td>소진 (걸스데이), 민아 (걸스데이), 유라 (걸스데이), 혜리 (걸스데이)</td>\n",
       "      <td>여</td>\n",
       "      <td>482762</td>\n",
       "      <td>NaN</td>\n",
       "      <td>드림티</td>\n",
       "      <td>2010.0</td>\n",
       "      <td>갸우뚱</td>\n",
       "      <td>59218</td>\n",
       "    </tr>\n",
       "    <tr>\n",
       "      <th>4013</th>\n",
       "      <td>sunnyday</td>\n",
       "      <td>스카프</td>\n",
       "      <td>러브 바이러스 (Luv Virus)</td>\n",
       "      <td>2013.05.31</td>\n",
       "      <td>Ballad</td>\n",
       "      <td>수록곡</td>\n",
       "      <td>54</td>\n",
       "      <td>서정모   작사   서정모   작곡   서정모   편곡</td>\n",
       "      <td>Uh I will love you 햇살 좋은 날 그대와 떠나는 여행 밤새 잠을 못 ...</td>\n",
       "      <td>서정모</td>\n",
       "      <td>서정모</td>\n",
       "      <td>서정모</td>\n",
       "      <td>페린, 타샤, 제니, 주아, 하나</td>\n",
       "      <td>여</td>\n",
       "      <td>687891</td>\n",
       "      <td>NaN</td>\n",
       "      <td>알파</td>\n",
       "      <td>2012.0</td>\n",
       "      <td>NaN</td>\n",
       "      <td>108</td>\n",
       "    </tr>\n",
       "    <tr>\n",
       "      <th>4404</th>\n",
       "      <td>만인의연인(feat.하림)</td>\n",
       "      <td>써니힐</td>\n",
       "      <td>Young Folk</td>\n",
       "      <td>2013.06.19</td>\n",
       "      <td>Dance</td>\n",
       "      <td>타이틀 곡</td>\n",
       "      <td>16,562</td>\n",
       "      <td>김이나   작사   KZ   작곡   KZ   편곡</td>\n",
       "      <td>Oh 내가 그 유명한 만인의 연인 다 내게 와서 털어 놓곤 해 고민거리들 근데 이게...</td>\n",
       "      <td>김이나</td>\n",
       "      <td>KZ</td>\n",
       "      <td>KZ</td>\n",
       "      <td>주비, 승아, 미성, 코타</td>\n",
       "      <td>여</td>\n",
       "      <td>229494</td>\n",
       "      <td>NaN</td>\n",
       "      <td>로엔</td>\n",
       "      <td>2007.0</td>\n",
       "      <td>통화 연결음</td>\n",
       "      <td>14283</td>\n",
       "    </tr>\n",
       "    <tr>\n",
       "      <th>637</th>\n",
       "      <td>어쩜(narr.안재현)</td>\n",
       "      <td>달샤벳</td>\n",
       "      <td>Be Ambitious</td>\n",
       "      <td>2013.06.20</td>\n",
       "      <td>Ballad</td>\n",
       "      <td>수록곡</td>\n",
       "      <td>1,318</td>\n",
       "      <td>우희 (달샤벳)   작사   우희 (달샤벳)   작곡   BULL$EYE   편곡</td>\n",
       "      <td>오빠 응 오빠 내가 어디가 좋아 음 힘 어깨 뭐야 아니야 예뻐 예쁘대 너가 내 눈 ...</td>\n",
       "      <td>우희 (달샤벳)</td>\n",
       "      <td>우희 (달샤벳)</td>\n",
       "      <td>BULL$EYE</td>\n",
       "      <td>수빈, 세리 (달샤벳), 아영 (달샤벳), 우희 (달샤벳)</td>\n",
       "      <td>여</td>\n",
       "      <td>514619</td>\n",
       "      <td>NaN</td>\n",
       "      <td>해피페이스</td>\n",
       "      <td>2011.0</td>\n",
       "      <td>Supa Dupa Diva</td>\n",
       "      <td>6022</td>\n",
       "    </tr>\n",
       "    <tr>\n",
       "      <th>5495</th>\n",
       "      <td>난니가필요해</td>\n",
       "      <td>에이핑크</td>\n",
       "      <td>Secret Garden</td>\n",
       "      <td>2013.07.05</td>\n",
       "      <td>Dance</td>\n",
       "      <td>수록곡</td>\n",
       "      <td>13,503</td>\n",
       "      <td>KZ   작사   D`DAY   작사   KZ   작곡   곰돌군   작곡   KZ...</td>\n",
       "      <td>그대는 모르죠 딴 사람은 몰라 이쁜척 오오 딴데선 안 웃어요 정말 나름은 굳센척 혼...</td>\n",
       "      <td>KZ, D`DAY</td>\n",
       "      <td>KZ, 곰돌군</td>\n",
       "      <td>KZ, 곰돌군</td>\n",
       "      <td>정은지, 손나은 (에이핑크), 박초롱 (에이핑크), 오하영 (에이핑크), 김남주 (...</td>\n",
       "      <td>여</td>\n",
       "      <td>534360</td>\n",
       "      <td>NaN</td>\n",
       "      <td>플랜에이</td>\n",
       "      <td>2011.0</td>\n",
       "      <td>몰라요</td>\n",
       "      <td>138929</td>\n",
       "    </tr>\n",
       "    <tr>\n",
       "      <th>5264</th>\n",
       "      <td>moya(모야)</td>\n",
       "      <td>에이오에이</td>\n",
       "      <td>MOYA</td>\n",
       "      <td>2013.07.26</td>\n",
       "      <td>Dance</td>\n",
       "      <td>타이틀 곡</td>\n",
       "      <td>19,492</td>\n",
       "      <td>한성호   작사   지민 (AOA)   작사   김도훈 (RBW)   작곡   김도...</td>\n",
       "      <td>A to the O to the huh uh AA Yeah How could you...</td>\n",
       "      <td>한성호, 지민 (AOA)</td>\n",
       "      <td>김도훈 (RBW)</td>\n",
       "      <td>김도훈 (RBW), 최용찬</td>\n",
       "      <td>설현 (AOA), 혜정 (AOA), 찬미 (AOA), 유나 (AOA), 민아 (AO...</td>\n",
       "      <td>여</td>\n",
       "      <td>686920</td>\n",
       "      <td>NaN</td>\n",
       "      <td>FNC</td>\n",
       "      <td>2012.0</td>\n",
       "      <td>ELVIS</td>\n",
       "      <td>57240</td>\n",
       "    </tr>\n",
       "    <tr>\n",
       "      <th>5590</th>\n",
       "      <td>여우같은내친구(nomore)</td>\n",
       "      <td>에프엑스</td>\n",
       "      <td>`Pink Tape` f(x) The 2nd Album</td>\n",
       "      <td>2013.07.29</td>\n",
       "      <td>Dance</td>\n",
       "      <td>수록곡</td>\n",
       "      <td>15,535</td>\n",
       "      <td>다나 (DANA)   작사   Alex Cantrall   작곡   Jeff Hoe...</td>\n",
       "      <td>아이고 제발 좀 그만해 이번에는 또 어떤 남자길래 관심도 없던 교회를 가고 블로그엔...</td>\n",
       "      <td>다나 (DANA)</td>\n",
       "      <td>Alex Cantrall, Jeff Hoeppner, Dwight Watson</td>\n",
       "      <td>Alex Cantrall, Jeff Hoeppner, Dwight Watson</td>\n",
       "      <td>크리스탈 (KRYSTAL), 루나 (LUNA), 빅토리아 (VICTORIA), 엠버...</td>\n",
       "      <td>여</td>\n",
       "      <td>428501</td>\n",
       "      <td>NaN</td>\n",
       "      <td>SM</td>\n",
       "      <td>2009.0</td>\n",
       "      <td>라차타 (LA chA TA)</td>\n",
       "      <td>66583</td>\n",
       "    </tr>\n",
       "    <tr>\n",
       "      <th>9096</th>\n",
       "      <td>알탕</td>\n",
       "      <td>풍뎅이</td>\n",
       "      <td>풍뎅이 풍뎅이 Go Single.1 알탕</td>\n",
       "      <td>2013.12.12</td>\n",
       "      <td>Dance</td>\n",
       "      <td>타이틀 곡</td>\n",
       "      <td>289</td>\n",
       "      <td>NaN</td>\n",
       "      <td>ayo 풍뎅이가 떳심데이 야들아 준비됐나 준비됐다 진짜 준비됐나 준비됐다 OK 여기...</td>\n",
       "      <td>NaN</td>\n",
       "      <td>NaN</td>\n",
       "      <td>NaN</td>\n",
       "      <td>빨강 (Red), 파랑 (Blue), 노랑 (Yellow)</td>\n",
       "      <td>여</td>\n",
       "      <td>747339</td>\n",
       "      <td>NaN</td>\n",
       "      <td>DoMA</td>\n",
       "      <td>2013.0</td>\n",
       "      <td>알탕</td>\n",
       "      <td>607</td>\n",
       "    </tr>\n",
       "    <tr>\n",
       "      <th>7466</th>\n",
       "      <td>오빠바이러스</td>\n",
       "      <td>칠학년일반</td>\n",
       "      <td>오빠 바이러스</td>\n",
       "      <td>2014.01.24</td>\n",
       "      <td>Dance</td>\n",
       "      <td>타이틀 곡</td>\n",
       "      <td>633</td>\n",
       "      <td>안형석   작사   안형석   작곡   장영수   작곡   장영수   편곡</td>\n",
       "      <td>달아 달아 밝은 달아 오빠 전화 받게 해줘 배터리가 다 된 건지 뺀 건지 아냐 아냐...</td>\n",
       "      <td>안형석</td>\n",
       "      <td>안형석, 장영수</td>\n",
       "      <td>장영수</td>\n",
       "      <td>백세희, 강민주, 신이랑, 고은실, 권소정, 유화, 한빛나</td>\n",
       "      <td>여</td>\n",
       "      <td>753271</td>\n",
       "      <td>NaN</td>\n",
       "      <td>다른별</td>\n",
       "      <td>2014.0</td>\n",
       "      <td>오빠 바이러스</td>\n",
       "      <td>1035</td>\n",
       "    </tr>\n",
       "    <tr>\n",
       "      <th>7909</th>\n",
       "      <td>어이(uh-ee)</td>\n",
       "      <td>크레용팝</td>\n",
       "      <td>어이 (Uh-ee)</td>\n",
       "      <td>2014.04.01</td>\n",
       "      <td>Dance</td>\n",
       "      <td>타이틀 곡</td>\n",
       "      <td>16,122</td>\n",
       "      <td>JIN   작사   JIN   작곡   JIN   편곡</td>\n",
       "      <td>어쨌거나 한 번뿐인 나의 인생 뭐라고 간섭하지 마라 한 번 죽지 두 번 죽냐 내 멋...</td>\n",
       "      <td>JIN</td>\n",
       "      <td>JIN</td>\n",
       "      <td>JIN</td>\n",
       "      <td>엘린, 소율, 금미 (크레용팝), 초아 (크레용팝), 웨이 (크레용팝)</td>\n",
       "      <td>여</td>\n",
       "      <td>685904</td>\n",
       "      <td>NaN</td>\n",
       "      <td>크롬</td>\n",
       "      <td>2012.0</td>\n",
       "      <td>Saturday Night</td>\n",
       "      <td>6501</td>\n",
       "    </tr>\n",
       "    <tr>\n",
       "      <th>8104</th>\n",
       "      <td>오빤내꺼</td>\n",
       "      <td>타히티</td>\n",
       "      <td>오빤내꺼</td>\n",
       "      <td>2014.06.12</td>\n",
       "      <td>Dance</td>\n",
       "      <td>타이틀 곡</td>\n",
       "      <td>2,218</td>\n",
       "      <td>NaN</td>\n",
       "      <td>오빤내꺼 오빤내꺼 완전내꺼 오빤내꺼 완전내꺼 질투가 많아도 밉지가 않는 그런남자 조...</td>\n",
       "      <td>NaN</td>\n",
       "      <td>NaN</td>\n",
       "      <td>NaN</td>\n",
       "      <td>아리, 미소, 지수, 민재, 제리</td>\n",
       "      <td>여</td>\n",
       "      <td>685746</td>\n",
       "      <td>NaN</td>\n",
       "      <td>드림스타</td>\n",
       "      <td>2012.0</td>\n",
       "      <td>Tonight</td>\n",
       "      <td>1600</td>\n",
       "    </tr>\n",
       "    <tr>\n",
       "      <th>259</th>\n",
       "      <td>lookatme</td>\n",
       "      <td>걸스데이</td>\n",
       "      <td>GIRL`S DAY EVERYDAY #4</td>\n",
       "      <td>2014.07.14</td>\n",
       "      <td>Ballad</td>\n",
       "      <td>수록곡</td>\n",
       "      <td>5,576</td>\n",
       "      <td>NaN</td>\n",
       "      <td>푹 빠졌어 꾹 참았던 내 맘을 그렇게 넌 왜 그리 몰라줘 내가 어려서 알면서 모른 ...</td>\n",
       "      <td>NaN</td>\n",
       "      <td>NaN</td>\n",
       "      <td>NaN</td>\n",
       "      <td>소진 (걸스데이), 민아 (걸스데이), 유라 (걸스데이), 혜리 (걸스데이)</td>\n",
       "      <td>여</td>\n",
       "      <td>482762</td>\n",
       "      <td>NaN</td>\n",
       "      <td>드림티</td>\n",
       "      <td>2010.0</td>\n",
       "      <td>갸우뚱</td>\n",
       "      <td>59218</td>\n",
       "    </tr>\n",
       "    <tr>\n",
       "      <th>1279</th>\n",
       "      <td>kisskiss</td>\n",
       "      <td>레이디스 코드</td>\n",
       "      <td>KISS KISS</td>\n",
       "      <td>2014.08.07</td>\n",
       "      <td>Dance</td>\n",
       "      <td>타이틀 곡</td>\n",
       "      <td>10,912</td>\n",
       "      <td>슈퍼창따이   작사   슈퍼창따이   작곡   슈퍼창따이   편곡</td>\n",
       "      <td>말해봤자 표현 안 되는걸 OH GIRL 마치 달콤한 BERRY 같은걸 그럴 걸 내 ...</td>\n",
       "      <td>슈퍼창따이</td>\n",
       "      <td>슈퍼창따이</td>\n",
       "      <td>슈퍼창따이</td>\n",
       "      <td>소정 (레이디스 코드), 애슐리, 주니</td>\n",
       "      <td>여</td>\n",
       "      <td>718807</td>\n",
       "      <td>NaN</td>\n",
       "      <td>일광폴라리스</td>\n",
       "      <td>2013.0</td>\n",
       "      <td>나쁜여자</td>\n",
       "      <td>30033</td>\n",
       "    </tr>\n",
       "    <tr>\n",
       "      <th>9100</th>\n",
       "      <td>배추보쌈</td>\n",
       "      <td>풍뎅이</td>\n",
       "      <td>액션 - 풍뎅이 Go</td>\n",
       "      <td>2014.11.13</td>\n",
       "      <td>Dance</td>\n",
       "      <td>타이틀 곡</td>\n",
       "      <td>793</td>\n",
       "      <td>도마현   작사   실버벨   작사   도마현   작곡   실버벨   작곡   도마...</td>\n",
       "      <td>얌 얌얌 얌얌 얌 얌얌얌얌 사랑이란 멋진 스포츠카 아름다운 꽃다발 아닐까 쌈 싸 묵...</td>\n",
       "      <td>도마현, 실버벨</td>\n",
       "      <td>도마현, 실버벨</td>\n",
       "      <td>도마현, 실버벨</td>\n",
       "      <td>빨강 (Red), 파랑 (Blue), 노랑 (Yellow)</td>\n",
       "      <td>여</td>\n",
       "      <td>747339</td>\n",
       "      <td>NaN</td>\n",
       "      <td>DoMA</td>\n",
       "      <td>2013.0</td>\n",
       "      <td>알탕</td>\n",
       "      <td>607</td>\n",
       "    </tr>\n",
       "    <tr>\n",
       "      <th>3431</th>\n",
       "      <td>국민여동생</td>\n",
       "      <td>소나무</td>\n",
       "      <td>Deja Vu</td>\n",
       "      <td>2014.12.29</td>\n",
       "      <td>Rap / Hip-hop</td>\n",
       "      <td>수록곡</td>\n",
       "      <td>1,205</td>\n",
       "      <td>스타트랙   작사   마르코   작사   스타트랙   작곡   마르코   작곡</td>\n",
       "      <td>TS New Generation 소나무 Whooo Yeah Come To My Wo...</td>\n",
       "      <td>스타트랙, 마르코</td>\n",
       "      <td>스타트랙, 마르코</td>\n",
       "      <td>NaN</td>\n",
       "      <td>NEW SUN(뉴썬), High.D (하이디), 의진, D.ana(디애나), 나현,...</td>\n",
       "      <td>여</td>\n",
       "      <td>792822</td>\n",
       "      <td>NaN</td>\n",
       "      <td>TS</td>\n",
       "      <td>2014.0</td>\n",
       "      <td>Deja Vu</td>\n",
       "      <td>5647</td>\n",
       "    </tr>\n",
       "    <tr>\n",
       "      <th>1137</th>\n",
       "      <td>lonelyfriday(feat.진실ofmadsoulchild)</td>\n",
       "      <td>러버소울</td>\n",
       "      <td>Life</td>\n",
       "      <td>2015.02.13</td>\n",
       "      <td>Rap / Hip-hop</td>\n",
       "      <td>수록곡</td>\n",
       "      <td>707</td>\n",
       "      <td>러버소울 (Rubber Soul)   작사   러버소울 (Rubber Soul)  ...</td>\n",
       "      <td>Lonely Friday Lonely Friday Lonely Friday Lone...</td>\n",
       "      <td>러버소울 (Rubber Soul)</td>\n",
       "      <td>러버소울 (Rubber Soul), Mad Soul Child</td>\n",
       "      <td>Mad Soul Child</td>\n",
       "      <td>최초아, 킴</td>\n",
       "      <td>여</td>\n",
       "      <td>837535</td>\n",
       "      <td>NaN</td>\n",
       "      <td>해피트라이브위드에이치씨</td>\n",
       "      <td>2015.0</td>\n",
       "      <td>Life (Feat. 매드클라운)</td>\n",
       "      <td>928</td>\n",
       "    </tr>\n",
       "    <tr>\n",
       "      <th>1116</th>\n",
       "      <td>장난햅</td>\n",
       "      <td>라붐</td>\n",
       "      <td>Sugar Sugar</td>\n",
       "      <td>2015.03.26</td>\n",
       "      <td>Dance</td>\n",
       "      <td>수록곡</td>\n",
       "      <td>781</td>\n",
       "      <td>1월 8일   작사   어벤전승   작곡   어벤전승   편곡</td>\n",
       "      <td>One Two Three Four 하루에도 열두 번쯤 오락가락해 내 맘이 뭐하냐는 ...</td>\n",
       "      <td>1월 8일</td>\n",
       "      <td>어벤전승</td>\n",
       "      <td>어벤전승</td>\n",
       "      <td>솔빈 (LABOUM), 소연 (LABOUM), ZN (LABOUM), 해인 (LAB...</td>\n",
       "      <td>여</td>\n",
       "      <td>783462</td>\n",
       "      <td>내가네트워크</td>\n",
       "      <td>NH미디어</td>\n",
       "      <td>2014.0</td>\n",
       "      <td>두근두근</td>\n",
       "      <td>9319</td>\n",
       "    </tr>\n",
       "    <tr>\n",
       "      <th>1818</th>\n",
       "      <td>다른남자말고너</td>\n",
       "      <td>미쓰에이</td>\n",
       "      <td>Colors</td>\n",
       "      <td>2015.03.30</td>\n",
       "      <td>Dance</td>\n",
       "      <td>타이틀 곡</td>\n",
       "      <td>73,531</td>\n",
       "      <td>블랙아이드 필승   작사   Sam Lewis   작사   블랙아이드 필승   작곡...</td>\n",
       "      <td>다른 남자 말고 너 다른 남자 말고 너너너너 너 장난해 장난해 하는데 나는 절대로 ...</td>\n",
       "      <td>블랙아이드 필승, Sam Lewis</td>\n",
       "      <td>블랙아이드 필승</td>\n",
       "      <td>블랙아이드 필승</td>\n",
       "      <td>수지 (SUZY), 민, 페이, 지아</td>\n",
       "      <td>여</td>\n",
       "      <td>481481</td>\n",
       "      <td>NaN</td>\n",
       "      <td>JYP</td>\n",
       "      <td>2010.0</td>\n",
       "      <td>Bad Girl Good Girl</td>\n",
       "      <td>22207</td>\n",
       "    </tr>\n",
       "    <tr>\n",
       "      <th>1493</th>\n",
       "      <td>ahhoop!(아훕!)</td>\n",
       "      <td>마마무</td>\n",
       "      <td>AHH OOP!</td>\n",
       "      <td>2015.04.02</td>\n",
       "      <td>Dance</td>\n",
       "      <td>타이틀 곡</td>\n",
       "      <td>16,444</td>\n",
       "      <td>에스나 (eSNa)   작사   에스나 (eSNa)   작곡   최용찬   편곡</td>\n",
       "      <td>Look at my eyes Look at my lips Look at my nec...</td>\n",
       "      <td>에스나 (eSNa)</td>\n",
       "      <td>에스나 (eSNa)</td>\n",
       "      <td>최용찬</td>\n",
       "      <td>솔라 (마마무), 문별 (마마무), 휘인 (마마무), 화사 (마마무)</td>\n",
       "      <td>여</td>\n",
       "      <td>750053</td>\n",
       "      <td>NaN</td>\n",
       "      <td>RBW</td>\n",
       "      <td>2014.0</td>\n",
       "      <td>Mr.애매모호</td>\n",
       "      <td>190765</td>\n",
       "    </tr>\n",
       "    <tr>\n",
       "      <th>4631</th>\n",
       "      <td>eighteen</td>\n",
       "      <td>씨엘씨</td>\n",
       "      <td>Eighteen</td>\n",
       "      <td>2015.04.16</td>\n",
       "      <td>Dance</td>\n",
       "      <td>타이틀 곡</td>\n",
       "      <td>2,610</td>\n",
       "      <td>김건우   작사   김건우   작곡   김건우   편곡   송기홍   편곡</td>\n",
       "      <td>Hey we're CLC CLC Uh uh uh uh uh uh uh uh 머리에서...</td>\n",
       "      <td>김건우</td>\n",
       "      <td>김건우</td>\n",
       "      <td>김건우, 송기홍</td>\n",
       "      <td>장예은, 손, 오승희, 장승연, 최유진, 권은빈, 엘키</td>\n",
       "      <td>여</td>\n",
       "      <td>839579</td>\n",
       "      <td>NaN</td>\n",
       "      <td>큐브</td>\n",
       "      <td>2015.0</td>\n",
       "      <td>Pepe</td>\n",
       "      <td>8095</td>\n",
       "    </tr>\n",
       "    <tr>\n",
       "      <th>6560</th>\n",
       "      <td>oppa(오빠)</td>\n",
       "      <td>원더걸스</td>\n",
       "      <td>REBOOT</td>\n",
       "      <td>2015.08.03</td>\n",
       "      <td>Dance</td>\n",
       "      <td>수록곡</td>\n",
       "      <td>4,873</td>\n",
       "      <td>혜림 (원더걸스)   작사   FRANTS   작사   혜림 (원더걸스)   작곡 ...</td>\n",
       "      <td>여보세요 오빠 나 오늘 밤에 놀러 갈 거니까 나 찾지 마 아 또 시작이네 안 돼 안...</td>\n",
       "      <td>혜림 (원더걸스), FRANTS</td>\n",
       "      <td>혜림 (원더걸스), FRANTS</td>\n",
       "      <td>혜림 (원더걸스), FRANTS</td>\n",
       "      <td>유빈 (Yubin), 핫펠트 (예은), 선미, 혜림 (원더걸스)</td>\n",
       "      <td>여</td>\n",
       "      <td>217764</td>\n",
       "      <td>NaN</td>\n",
       "      <td>JYP</td>\n",
       "      <td>2007.0</td>\n",
       "      <td>Irony (아이러니)</td>\n",
       "      <td>34083</td>\n",
       "    </tr>\n",
       "    <tr>\n",
       "      <th>8582</th>\n",
       "      <td>다시해줘</td>\n",
       "      <td>트와이스</td>\n",
       "      <td>THE STORY BEGINS</td>\n",
       "      <td>2015.10.20</td>\n",
       "      <td>Dance</td>\n",
       "      <td>수록곡</td>\n",
       "      <td>33,338</td>\n",
       "      <td>박진영   작사   Glen Choi   작곡   Fingazz   작곡   Fin...</td>\n",
       "      <td>You ready girls DJ Drop it Wow 지금 혹시 내게 좋다고 말했...</td>\n",
       "      <td>박진영</td>\n",
       "      <td>Glen Choi, Fingazz</td>\n",
       "      <td>Fingazz</td>\n",
       "      <td>나연, 정연, 모모, 사나, 지효, 미나, 다현, 채영, 쯔위</td>\n",
       "      <td>여</td>\n",
       "      <td>905701</td>\n",
       "      <td>NaN</td>\n",
       "      <td>JYP</td>\n",
       "      <td>2015.0</td>\n",
       "      <td>OOH-AHH하게</td>\n",
       "      <td>179443</td>\n",
       "    </tr>\n",
       "    <tr>\n",
       "      <th>4641</th>\n",
       "      <td>오빠친구</td>\n",
       "      <td>씨엘씨</td>\n",
       "      <td>REFRESH</td>\n",
       "      <td>2016.02.29</td>\n",
       "      <td>Dance</td>\n",
       "      <td>수록곡</td>\n",
       "      <td>1,022</td>\n",
       "      <td>정일훈   작사   Ferdy (MosPick)   작곡   Adam Kulling...</td>\n",
       "      <td>예뻐지고 싶어 지금보다 더 잘난 너의 눈에 들고 싶어서 Don't you don't...</td>\n",
       "      <td>정일훈</td>\n",
       "      <td>Ferdy (MosPick), Adam Kulling, Alice Gernandt</td>\n",
       "      <td>Ferdy (MosPick), Adam Kulling</td>\n",
       "      <td>장예은, 손, 오승희, 장승연, 최유진, 권은빈, 엘키</td>\n",
       "      <td>여</td>\n",
       "      <td>839579</td>\n",
       "      <td>NaN</td>\n",
       "      <td>큐브</td>\n",
       "      <td>2015.0</td>\n",
       "      <td>Pepe</td>\n",
       "      <td>8095</td>\n",
       "    </tr>\n",
       "    <tr>\n",
       "      <th>2375</th>\n",
       "      <td>하이힐</td>\n",
       "      <td>브레이브걸스</td>\n",
       "      <td>HIGH HEELS</td>\n",
       "      <td>2016.06.27</td>\n",
       "      <td>Dance</td>\n",
       "      <td>타이틀 곡</td>\n",
       "      <td>4,131</td>\n",
       "      <td>용감한 형제   작사   차쿤 (일렉트로보이즈)   작사   용감한 형제   작곡 ...</td>\n",
       "      <td>Im a Sassy girl Im a sassy girl Im a Tough gir...</td>\n",
       "      <td>용감한 형제, 차쿤 (일렉트로보이즈)</td>\n",
       "      <td>용감한 형제, 차쿤 (일렉트로보이즈), js</td>\n",
       "      <td>js, 용감한 형제</td>\n",
       "      <td>민영 (Brave Girls), 유정, 은지, 유나, 하윤</td>\n",
       "      <td>여</td>\n",
       "      <td>531700</td>\n",
       "      <td>NaN</td>\n",
       "      <td>브레이브</td>\n",
       "      <td>2011.0</td>\n",
       "      <td>아나요</td>\n",
       "      <td>2801</td>\n",
       "    </tr>\n",
       "    <tr>\n",
       "      <th>2478</th>\n",
       "      <td>붐바야</td>\n",
       "      <td>블랙핑크</td>\n",
       "      <td>SQUARE ONE</td>\n",
       "      <td>2016.08.08</td>\n",
       "      <td>Rap / Hip-hop</td>\n",
       "      <td>타이틀 곡</td>\n",
       "      <td>72,596</td>\n",
       "      <td>TEDDY   작사   Bekuh BOOM   작사   TEDDY   작곡   Be...</td>\n",
       "      <td>BLACKPINK in your area BLACKPINK in your area ...</td>\n",
       "      <td>TEDDY, Bekuh BOOM</td>\n",
       "      <td>TEDDY, Bekuh BOOM</td>\n",
       "      <td>TEDDY</td>\n",
       "      <td>지수, 제니, 로제, 리사</td>\n",
       "      <td>여</td>\n",
       "      <td>995169</td>\n",
       "      <td>NaN</td>\n",
       "      <td>YG</td>\n",
       "      <td>2016.0</td>\n",
       "      <td>NaN</td>\n",
       "      <td>115037</td>\n",
       "    </tr>\n",
       "    <tr>\n",
       "      <th>6461</th>\n",
       "      <td>짠!(prince)</td>\n",
       "      <td>우주소녀</td>\n",
       "      <td>THE SECRET</td>\n",
       "      <td>2016.08.17</td>\n",
       "      <td>Dance</td>\n",
       "      <td>수록곡</td>\n",
       "      <td>2,327</td>\n",
       "      <td>e.one   작사   엑시   작사   e.one   작곡   e.one   편곡</td>\n",
       "      <td>오늘 좀 이상해 두근 두근 두근대 오빠 앞에 서면 난 순진한 소녀 아무 느낌 없었는...</td>\n",
       "      <td>e.one, 엑시</td>\n",
       "      <td>e.one</td>\n",
       "      <td>e.one</td>\n",
       "      <td>설아 (우주소녀), 엑시, 보나, 성소, 은서, 다영, 다원 (우주소녀), 수빈 (...</td>\n",
       "      <td>여</td>\n",
       "      <td>943959</td>\n",
       "      <td>위에화</td>\n",
       "      <td>스타쉽</td>\n",
       "      <td>2016.0</td>\n",
       "      <td>MoMoMo (모모모)</td>\n",
       "      <td>19535</td>\n",
       "    </tr>\n",
       "    <tr>\n",
       "      <th>6467</th>\n",
       "      <td>최애(最愛)(perfect!)</td>\n",
       "      <td>우주소녀</td>\n",
       "      <td>From. 우주소녀</td>\n",
       "      <td>2017.01.04</td>\n",
       "      <td>Dance</td>\n",
       "      <td>수록곡</td>\n",
       "      <td>3,158</td>\n",
       "      <td>로빈   작사   로빈   작곡   Bronze   작곡   로빈   편곡   Br...</td>\n",
       "      <td>이렇게 예쁜 날 두고 한눈 팔지 마요 맘에 안 들어 눈길도 마주 치지 마요 내 눈엔...</td>\n",
       "      <td>로빈</td>\n",
       "      <td>로빈, Bronze</td>\n",
       "      <td>로빈, Bronze</td>\n",
       "      <td>설아 (우주소녀), 엑시, 보나, 성소, 은서, 다영, 다원 (우주소녀), 수빈 (...</td>\n",
       "      <td>여</td>\n",
       "      <td>943959</td>\n",
       "      <td>위에화</td>\n",
       "      <td>스타쉽</td>\n",
       "      <td>2016.0</td>\n",
       "      <td>MoMoMo (모모모)</td>\n",
       "      <td>19535</td>\n",
       "    </tr>\n",
       "    <tr>\n",
       "      <th>6411</th>\n",
       "      <td>dominantwoman</td>\n",
       "      <td>와썹</td>\n",
       "      <td>Dominant Woman</td>\n",
       "      <td>2017.03.30</td>\n",
       "      <td>Rap / Hip-hop</td>\n",
       "      <td>타이틀 곡</td>\n",
       "      <td>325</td>\n",
       "      <td>쿤타   작사   낯선   작사   나다 (NADA)   작사   Kevon   작...</td>\n",
       "      <td>you can't control me 날 받들어 어딜 가든지 dj drop bass...</td>\n",
       "      <td>쿤타, 낯선, 나다 (NADA)</td>\n",
       "      <td>Kevon, 쿤타, 이제이 쇼</td>\n",
       "      <td>NaN</td>\n",
       "      <td>나리, 수진, 우주, 지애</td>\n",
       "      <td>여</td>\n",
       "      <td>729885</td>\n",
       "      <td>NaN</td>\n",
       "      <td>마피아레코드</td>\n",
       "      <td>2013.0</td>\n",
       "      <td>Wa$$up</td>\n",
       "      <td>1165</td>\n",
       "    </tr>\n",
       "    <tr>\n",
       "      <th>2077</th>\n",
       "      <td>비비디바비디부</td>\n",
       "      <td>베리굿</td>\n",
       "      <td>비비디바비디부</td>\n",
       "      <td>2017.04.16</td>\n",
       "      <td>Dance</td>\n",
       "      <td>타이틀 곡</td>\n",
       "      <td>2,346</td>\n",
       "      <td>김수정   작사   별나라 언니   작사   별나라 언니   작곡   별나라 언니 ...</td>\n",
       "      <td>아 몰라요 무슨 때가 있다나 아 몰라요 늦으면 좀 안 되나 난 달라요 모두 판박이 ...</td>\n",
       "      <td>김수정, 별나라 언니</td>\n",
       "      <td>별나라 언니</td>\n",
       "      <td>별나라 언니</td>\n",
       "      <td>태하, 고운, 서율, 다예, 세형, 조현</td>\n",
       "      <td>여</td>\n",
       "      <td>773603</td>\n",
       "      <td>NaN</td>\n",
       "      <td>아시아브릿지</td>\n",
       "      <td>2014.0</td>\n",
       "      <td>NaN</td>\n",
       "      <td>2509</td>\n",
       "    </tr>\n",
       "    <tr>\n",
       "      <th>2189</th>\n",
       "      <td>어른이된다면</td>\n",
       "      <td>보너스베이비</td>\n",
       "      <td>어른이 된다면</td>\n",
       "      <td>2017.04.20</td>\n",
       "      <td>Dance</td>\n",
       "      <td>타이틀 곡</td>\n",
       "      <td>871</td>\n",
       "      <td>한준   작사   Gold Dragon   작곡   한길   편곡</td>\n",
       "      <td>어제 오늘 내일 온종일 고민고민 해봐도 도통 알 수 없는 내 맘을 그 누가 알아줄까...</td>\n",
       "      <td>한준</td>\n",
       "      <td>Gold Dragon</td>\n",
       "      <td>한길</td>\n",
       "      <td>문희, 하윤, 가온, 공유, 다윤, 채현</td>\n",
       "      <td>여</td>\n",
       "      <td>1285468</td>\n",
       "      <td>NaN</td>\n",
       "      <td>마루기획</td>\n",
       "      <td>2017.0</td>\n",
       "      <td>우리끼리</td>\n",
       "      <td>516</td>\n",
       "    </tr>\n",
       "    <tr>\n",
       "      <th>6474</th>\n",
       "      <td>퐁당퐁당(plopplop)</td>\n",
       "      <td>우주소녀</td>\n",
       "      <td>HAPPY MOMENT</td>\n",
       "      <td>2017.06.07</td>\n",
       "      <td>Dance</td>\n",
       "      <td>수록곡</td>\n",
       "      <td>2,193</td>\n",
       "      <td>고동균   작사   빨간머리앤   작사   엑시   작사   고동균   작곡   빨...</td>\n",
       "      <td>퐁당 퐁당퐁당 파란하늘에 이불 펴고 퐁당퐁당 구름 덮고 자고 싶어 퐁당퐁당 핫핑크 ...</td>\n",
       "      <td>고동균, 빨간머리앤, 엑시</td>\n",
       "      <td>고동균, 빨간머리앤</td>\n",
       "      <td>고동균</td>\n",
       "      <td>설아 (우주소녀), 엑시, 보나, 성소, 은서, 다영, 다원 (우주소녀), 수빈 (...</td>\n",
       "      <td>여</td>\n",
       "      <td>943959</td>\n",
       "      <td>위에화</td>\n",
       "      <td>스타쉽</td>\n",
       "      <td>2016.0</td>\n",
       "      <td>MoMoMo (모모모)</td>\n",
       "      <td>19535</td>\n",
       "    </tr>\n",
       "    <tr>\n",
       "      <th>4657</th>\n",
       "      <td>즐겨(ilikeit)</td>\n",
       "      <td>씨엘씨</td>\n",
       "      <td>FREE`SM</td>\n",
       "      <td>2017.08.03</td>\n",
       "      <td>Dance</td>\n",
       "      <td>수록곡</td>\n",
       "      <td>1,052</td>\n",
       "      <td>서재우 (TENTEN)   작사   빅싼초 (Yummy Tone)   작사   장예...</td>\n",
       "      <td>즐겨 미친 듯이 춤춰 Ok I like it I like it 그저 우리끼리 더 즐...</td>\n",
       "      <td>서재우 (TENTEN), 빅싼초 (Yummy Tone), 장예은</td>\n",
       "      <td>서재우 (TENTEN), 빅싼초 (Yummy Tone), Nick Holiday, ...</td>\n",
       "      <td>서재우 (TENTEN), 빅싼초 (Yummy Tone), Nick Holiday</td>\n",
       "      <td>장예은, 손, 오승희, 장승연, 최유진, 권은빈, 엘키</td>\n",
       "      <td>여</td>\n",
       "      <td>839579</td>\n",
       "      <td>NaN</td>\n",
       "      <td>큐브</td>\n",
       "      <td>2015.0</td>\n",
       "      <td>Pepe</td>\n",
       "      <td>8095</td>\n",
       "    </tr>\n",
       "    <tr>\n",
       "      <th>1250</th>\n",
       "      <td>환생(rebirth)</td>\n",
       "      <td>레드벨벳</td>\n",
       "      <td>환생 (Rebirth) - SM STATION</td>\n",
       "      <td>2017.08.18</td>\n",
       "      <td>Dance</td>\n",
       "      <td>타이틀 곡</td>\n",
       "      <td>25,975</td>\n",
       "      <td>윤종신   작사   윤종신   작곡   유희열   작곡   진바이진   편곡</td>\n",
       "      <td>다시 태어난 것 같아요 내 모든 게 다 달라졌어요 그대 만난 후로 난 새사람이 됐어...</td>\n",
       "      <td>윤종신</td>\n",
       "      <td>윤종신, 유희열</td>\n",
       "      <td>진바이진</td>\n",
       "      <td>웬디 (WENDY), 아이린 (IRENE), 슬기 (SEULGI), 조이 (JOY)...</td>\n",
       "      <td>여</td>\n",
       "      <td>780066</td>\n",
       "      <td>NaN</td>\n",
       "      <td>SM</td>\n",
       "      <td>2014.0</td>\n",
       "      <td>행복 (Happiness)</td>\n",
       "      <td>224402</td>\n",
       "    </tr>\n",
       "    <tr>\n",
       "      <th>5467</th>\n",
       "      <td>찌릿찌릿</td>\n",
       "      <td>에이프릴</td>\n",
       "      <td>에이프릴 (APRIL) 4th Mini Album `eternity`</td>\n",
       "      <td>2017.09.20</td>\n",
       "      <td>Dance</td>\n",
       "      <td>수록곡</td>\n",
       "      <td>1,342</td>\n",
       "      <td>ZigZag Note   작사   노는어린이   작사   ZigZag Note   ...</td>\n",
       "      <td>너무나 멋져 보여 오빠란 사람 내 가슴을 뛰게 하잖아 내 눈빛은 너만 봐 나를 여자...</td>\n",
       "      <td>ZigZag Note, 노는어린이</td>\n",
       "      <td>ZigZag Note, 노는어린이</td>\n",
       "      <td>ZigZag Note</td>\n",
       "      <td>윤채경 (에이프릴), 김채원 (에이프릴), 이나은 (에이프릴), 양예나 (에이프릴)...</td>\n",
       "      <td>여</td>\n",
       "      <td>882818</td>\n",
       "      <td>NaN</td>\n",
       "      <td>DSP미디어</td>\n",
       "      <td>2015.0</td>\n",
       "      <td>꿈사탕</td>\n",
       "      <td>12235</td>\n",
       "    </tr>\n",
       "  </tbody>\n",
       "</table>\n",
       "</div>"
      ],
      "text/plain": [
       "                                    title   artist  \\\n",
       "4390                                 나쁜남자      써니힐   \n",
       "4505                               leadme      씨스타   \n",
       "234                              oh!mygod     걸스데이   \n",
       "4508                         lovingu(러빙유)      씨스타   \n",
       "4129                                1,2,3      시크릿   \n",
       "3529                             igotaboy     소녀시대   \n",
       "248                             oh!mygod!     걸스데이   \n",
       "4013                             sunnyday      스카프   \n",
       "4404                       만인의연인(feat.하림)      써니힐   \n",
       "637                          어쩜(narr.안재현)      달샤벳   \n",
       "5495                               난니가필요해     에이핑크   \n",
       "5264                             moya(모야)    에이오에이   \n",
       "5590                      여우같은내친구(nomore)     에프엑스   \n",
       "9096                                   알탕      풍뎅이   \n",
       "7466                               오빠바이러스    칠학년일반   \n",
       "7909                            어이(uh-ee)     크레용팝   \n",
       "8104                                 오빤내꺼      타히티   \n",
       "259                              lookatme     걸스데이   \n",
       "1279                             kisskiss  레이디스 코드   \n",
       "9100                                 배추보쌈      풍뎅이   \n",
       "3431                                국민여동생      소나무   \n",
       "1137  lonelyfriday(feat.진실ofmadsoulchild)     러버소울   \n",
       "1116                                  장난햅       라붐   \n",
       "1818                              다른남자말고너     미쓰에이   \n",
       "1493                         ahhoop!(아훕!)      마마무   \n",
       "4631                             eighteen      씨엘씨   \n",
       "6560                             oppa(오빠)     원더걸스   \n",
       "8582                                 다시해줘     트와이스   \n",
       "4641                                 오빠친구      씨엘씨   \n",
       "2375                                  하이힐   브레이브걸스   \n",
       "2478                                  붐바야     블랙핑크   \n",
       "6461                           짠!(prince)     우주소녀   \n",
       "6467                     최애(最愛)(perfect!)     우주소녀   \n",
       "6411                        dominantwoman       와썹   \n",
       "2077                              비비디바비디부      베리굿   \n",
       "2189                               어른이된다면   보너스베이비   \n",
       "6474                       퐁당퐁당(plopplop)     우주소녀   \n",
       "4657                          즐겨(ilikeit)      씨엘씨   \n",
       "1250                          환생(rebirth)     레드벨벳   \n",
       "5467                                 찌릿찌릿     에이프릴   \n",
       "\n",
       "                                       album release_date     song_genre  \\\n",
       "4390                        The Grasshoppers   2012.01.13          Dance   \n",
       "4505                                   ALONE   2012.04.12         Ballad   \n",
       "234                              Everyday II   2012.04.18          Dance   \n",
       "4508               Summer Special `Loving U`   2012.06.28          Dance   \n",
       "4129                                  POISON   2012.09.13          Dance   \n",
       "3529                             I Got A Boy   2013.01.01          Dance   \n",
       "248                                       기대   2013.03.14          Dance   \n",
       "4013                     러브 바이러스 (Luv Virus)   2013.05.31         Ballad   \n",
       "4404                              Young Folk   2013.06.19          Dance   \n",
       "637                             Be Ambitious   2013.06.20         Ballad   \n",
       "5495                           Secret Garden   2013.07.05          Dance   \n",
       "5264                                    MOYA   2013.07.26          Dance   \n",
       "5590          `Pink Tape` f(x) The 2nd Album   2013.07.29          Dance   \n",
       "9096                  풍뎅이 풍뎅이 Go Single.1 알탕   2013.12.12          Dance   \n",
       "7466                                 오빠 바이러스   2014.01.24          Dance   \n",
       "7909                              어이 (Uh-ee)   2014.04.01          Dance   \n",
       "8104                                    오빤내꺼   2014.06.12          Dance   \n",
       "259                   GIRL`S DAY EVERYDAY #4   2014.07.14         Ballad   \n",
       "1279                               KISS KISS   2014.08.07          Dance   \n",
       "9100                             액션 - 풍뎅이 Go   2014.11.13          Dance   \n",
       "3431                                 Deja Vu   2014.12.29  Rap / Hip-hop   \n",
       "1137                                    Life   2015.02.13  Rap / Hip-hop   \n",
       "1116                             Sugar Sugar   2015.03.26          Dance   \n",
       "1818                                  Colors   2015.03.30          Dance   \n",
       "1493                                AHH OOP!   2015.04.02          Dance   \n",
       "4631                                Eighteen   2015.04.16          Dance   \n",
       "6560                                  REBOOT   2015.08.03          Dance   \n",
       "8582                        THE STORY BEGINS   2015.10.20          Dance   \n",
       "4641                                 REFRESH   2016.02.29          Dance   \n",
       "2375                              HIGH HEELS   2016.06.27          Dance   \n",
       "2478                              SQUARE ONE   2016.08.08  Rap / Hip-hop   \n",
       "6461                              THE SECRET   2016.08.17          Dance   \n",
       "6467                              From. 우주소녀   2017.01.04          Dance   \n",
       "6411                          Dominant Woman   2017.03.30  Rap / Hip-hop   \n",
       "2077                                 비비디바비디부   2017.04.16          Dance   \n",
       "2189                                 어른이 된다면   2017.04.20          Dance   \n",
       "6474                            HAPPY MOMENT   2017.06.07          Dance   \n",
       "4657                                 FREE`SM   2017.08.03          Dance   \n",
       "1250               환생 (Rebirth) - SM STATION   2017.08.18          Dance   \n",
       "5467  에이프릴 (APRIL) 4th Mini Album `eternity`   2017.09.20          Dance   \n",
       "\n",
       "     is_title    like                                            creator  \\\n",
       "4390      수록곡     919  미성   작사   코타   작사   전자맨   작곡   미성   작곡   코타   ...   \n",
       "4505      수록곡  10,254               이단옆차기   작사   이단옆차기   작곡   이단옆차기   편곡   \n",
       "234     타이틀 곡   8,075  강지원   작사   김기범   작사   강지원   작곡   김기범   작곡   강지...   \n",
       "4508    타이틀 곡  77,931               이단옆차기   작사   이단옆차기   작곡   이단옆차기   편곡   \n",
       "4129      수록곡   1,059  2Story   작사   Javier Solis   작사   정하나   작사   2...   \n",
       "3529    타이틀 곡  52,032  유영진   작사   유영진   작곡   Will Simms   작곡   Anne J...   \n",
       "248       수록곡   2,405  강지원   작사   김기범   작사   강지원   작곡   김기범   작곡   강지...   \n",
       "4013      수록곡      54                     서정모   작사   서정모   작곡   서정모   편곡   \n",
       "4404    타이틀 곡  16,562                       김이나   작사   KZ   작곡   KZ   편곡   \n",
       "637       수록곡   1,318      우희 (달샤벳)   작사   우희 (달샤벳)   작곡   BULL$EYE   편곡   \n",
       "5495      수록곡  13,503  KZ   작사   D`DAY   작사   KZ   작곡   곰돌군   작곡   KZ...   \n",
       "5264    타이틀 곡  19,492  한성호   작사   지민 (AOA)   작사   김도훈 (RBW)   작곡   김도...   \n",
       "5590      수록곡  15,535  다나 (DANA)   작사   Alex Cantrall   작곡   Jeff Hoe...   \n",
       "9096    타이틀 곡     289                                                NaN   \n",
       "7466    타이틀 곡     633          안형석   작사   안형석   작곡   장영수   작곡   장영수   편곡   \n",
       "7909    타이틀 곡  16,122                     JIN   작사   JIN   작곡   JIN   편곡   \n",
       "8104    타이틀 곡   2,218                                                NaN   \n",
       "259       수록곡   5,576                                                NaN   \n",
       "1279    타이틀 곡  10,912               슈퍼창따이   작사   슈퍼창따이   작곡   슈퍼창따이   편곡   \n",
       "9100    타이틀 곡     793  도마현   작사   실버벨   작사   도마현   작곡   실버벨   작곡   도마...   \n",
       "3431      수록곡   1,205        스타트랙   작사   마르코   작사   스타트랙   작곡   마르코   작곡   \n",
       "1137      수록곡     707  러버소울 (Rubber Soul)   작사   러버소울 (Rubber Soul)  ...   \n",
       "1116      수록곡     781                 1월 8일   작사   어벤전승   작곡   어벤전승   편곡   \n",
       "1818    타이틀 곡  73,531  블랙아이드 필승   작사   Sam Lewis   작사   블랙아이드 필승   작곡...   \n",
       "1493    타이틀 곡  16,444       에스나 (eSNa)   작사   에스나 (eSNa)   작곡   최용찬   편곡   \n",
       "4631    타이틀 곡   2,610          김건우   작사   김건우   작곡   김건우   편곡   송기홍   편곡   \n",
       "6560      수록곡   4,873  혜림 (원더걸스)   작사   FRANTS   작사   혜림 (원더걸스)   작곡 ...   \n",
       "8582      수록곡  33,338  박진영   작사   Glen Choi   작곡   Fingazz   작곡   Fin...   \n",
       "4641      수록곡   1,022  정일훈   작사   Ferdy (MosPick)   작곡   Adam Kulling...   \n",
       "2375    타이틀 곡   4,131  용감한 형제   작사   차쿤 (일렉트로보이즈)   작사   용감한 형제   작곡 ...   \n",
       "2478    타이틀 곡  72,596  TEDDY   작사   Bekuh BOOM   작사   TEDDY   작곡   Be...   \n",
       "6461      수록곡   2,327     e.one   작사   엑시   작사   e.one   작곡   e.one   편곡   \n",
       "6467      수록곡   3,158  로빈   작사   로빈   작곡   Bronze   작곡   로빈   편곡   Br...   \n",
       "6411    타이틀 곡     325  쿤타   작사   낯선   작사   나다 (NADA)   작사   Kevon   작...   \n",
       "2077    타이틀 곡   2,346  김수정   작사   별나라 언니   작사   별나라 언니   작곡   별나라 언니 ...   \n",
       "2189    타이틀 곡     871               한준   작사   Gold Dragon   작곡   한길   편곡   \n",
       "6474      수록곡   2,193  고동균   작사   빨간머리앤   작사   엑시   작사   고동균   작곡   빨...   \n",
       "4657      수록곡   1,052  서재우 (TENTEN)   작사   빅싼초 (Yummy Tone)   작사   장예...   \n",
       "1250    타이틀 곡  25,975         윤종신   작사   윤종신   작곡   유희열   작곡   진바이진   편곡   \n",
       "5467      수록곡   1,342  ZigZag Note   작사   노는어린이   작사   ZigZag Note   ...   \n",
       "\n",
       "                                                 lyrics  \\\n",
       "4390  내가 예전에는 말이야 오빤 말이 많아 오빤 말이 많아 내가 다 해봐서 아는데 오빤 ...   \n",
       "4505  s.i.s.t.t.a.r my love is going to far I know y...   \n",
       "234   OH OH OH MA MA MA 어우워우 어 어 우워우 OH OH OH MA MA ...   \n",
       "4508  Hey 참 이상해 정말 strange 이런 적 없었는데 널 볼때마다 나 두근두근 떨...   \n",
       "4129  1 2 3 do you wanna love with me 늘 똑같은 everyday...   \n",
       "3529  Ayo GG Yeah Yeah 시작해 볼까 어머 얘 좀 봐라 얘 무슨 일이 있었길래...   \n",
       "248   OH OH OH MA MA MA 어우워우 어 어 우워우 OH OH OH MA MA ...   \n",
       "4013  Uh I will love you 햇살 좋은 날 그대와 떠나는 여행 밤새 잠을 못 ...   \n",
       "4404  Oh 내가 그 유명한 만인의 연인 다 내게 와서 털어 놓곤 해 고민거리들 근데 이게...   \n",
       "637   오빠 응 오빠 내가 어디가 좋아 음 힘 어깨 뭐야 아니야 예뻐 예쁘대 너가 내 눈 ...   \n",
       "5495  그대는 모르죠 딴 사람은 몰라 이쁜척 오오 딴데선 안 웃어요 정말 나름은 굳센척 혼...   \n",
       "5264  A to the O to the huh uh AA Yeah How could you...   \n",
       "5590  아이고 제발 좀 그만해 이번에는 또 어떤 남자길래 관심도 없던 교회를 가고 블로그엔...   \n",
       "9096  ayo 풍뎅이가 떳심데이 야들아 준비됐나 준비됐다 진짜 준비됐나 준비됐다 OK 여기...   \n",
       "7466  달아 달아 밝은 달아 오빠 전화 받게 해줘 배터리가 다 된 건지 뺀 건지 아냐 아냐...   \n",
       "7909  어쨌거나 한 번뿐인 나의 인생 뭐라고 간섭하지 마라 한 번 죽지 두 번 죽냐 내 멋...   \n",
       "8104  오빤내꺼 오빤내꺼 완전내꺼 오빤내꺼 완전내꺼 질투가 많아도 밉지가 않는 그런남자 조...   \n",
       "259   푹 빠졌어 꾹 참았던 내 맘을 그렇게 넌 왜 그리 몰라줘 내가 어려서 알면서 모른 ...   \n",
       "1279  말해봤자 표현 안 되는걸 OH GIRL 마치 달콤한 BERRY 같은걸 그럴 걸 내 ...   \n",
       "9100  얌 얌얌 얌얌 얌 얌얌얌얌 사랑이란 멋진 스포츠카 아름다운 꽃다발 아닐까 쌈 싸 묵...   \n",
       "3431  TS New Generation 소나무 Whooo Yeah Come To My Wo...   \n",
       "1137  Lonely Friday Lonely Friday Lonely Friday Lone...   \n",
       "1116  One Two Three Four 하루에도 열두 번쯤 오락가락해 내 맘이 뭐하냐는 ...   \n",
       "1818  다른 남자 말고 너 다른 남자 말고 너너너너 너 장난해 장난해 하는데 나는 절대로 ...   \n",
       "1493  Look at my eyes Look at my lips Look at my nec...   \n",
       "4631  Hey we're CLC CLC Uh uh uh uh uh uh uh uh 머리에서...   \n",
       "6560  여보세요 오빠 나 오늘 밤에 놀러 갈 거니까 나 찾지 마 아 또 시작이네 안 돼 안...   \n",
       "8582  You ready girls DJ Drop it Wow 지금 혹시 내게 좋다고 말했...   \n",
       "4641  예뻐지고 싶어 지금보다 더 잘난 너의 눈에 들고 싶어서 Don't you don't...   \n",
       "2375  Im a Sassy girl Im a sassy girl Im a Tough gir...   \n",
       "2478  BLACKPINK in your area BLACKPINK in your area ...   \n",
       "6461  오늘 좀 이상해 두근 두근 두근대 오빠 앞에 서면 난 순진한 소녀 아무 느낌 없었는...   \n",
       "6467  이렇게 예쁜 날 두고 한눈 팔지 마요 맘에 안 들어 눈길도 마주 치지 마요 내 눈엔...   \n",
       "6411  you can't control me 날 받들어 어딜 가든지 dj drop bass...   \n",
       "2077  아 몰라요 무슨 때가 있다나 아 몰라요 늦으면 좀 안 되나 난 달라요 모두 판박이 ...   \n",
       "2189  어제 오늘 내일 온종일 고민고민 해봐도 도통 알 수 없는 내 맘을 그 누가 알아줄까...   \n",
       "6474  퐁당 퐁당퐁당 파란하늘에 이불 펴고 퐁당퐁당 구름 덮고 자고 싶어 퐁당퐁당 핫핑크 ...   \n",
       "4657  즐겨 미친 듯이 춤춰 Ok I like it I like it 그저 우리끼리 더 즐...   \n",
       "1250  다시 태어난 것 같아요 내 모든 게 다 달라졌어요 그대 만난 후로 난 새사람이 됐어...   \n",
       "5467  너무나 멋져 보여 오빠란 사람 내 가슴을 뛰게 하잖아 내 눈빛은 너만 봐 나를 여자...   \n",
       "\n",
       "                                 lyricist  \\\n",
       "4390                               미성, 코타   \n",
       "4505                                이단옆차기   \n",
       "234                              강지원, 김기범   \n",
       "4508                                이단옆차기   \n",
       "4129            2Story, Javier Solis, 정하나   \n",
       "3529                                  유영진   \n",
       "248                              강지원, 김기범   \n",
       "4013                                  서정모   \n",
       "4404                                  김이나   \n",
       "637                              우희 (달샤벳)   \n",
       "5495                            KZ, D`DAY   \n",
       "5264                        한성호, 지민 (AOA)   \n",
       "5590                            다나 (DANA)   \n",
       "9096                                  NaN   \n",
       "7466                                  안형석   \n",
       "7909                                  JIN   \n",
       "8104                                  NaN   \n",
       "259                                   NaN   \n",
       "1279                                슈퍼창따이   \n",
       "9100                             도마현, 실버벨   \n",
       "3431                            스타트랙, 마르코   \n",
       "1137                   러버소울 (Rubber Soul)   \n",
       "1116                                1월 8일   \n",
       "1818                  블랙아이드 필승, Sam Lewis   \n",
       "1493                           에스나 (eSNa)   \n",
       "4631                                  김건우   \n",
       "6560                    혜림 (원더걸스), FRANTS   \n",
       "8582                                  박진영   \n",
       "4641                                  정일훈   \n",
       "2375                 용감한 형제, 차쿤 (일렉트로보이즈)   \n",
       "2478                    TEDDY, Bekuh BOOM   \n",
       "6461                            e.one, 엑시   \n",
       "6467                                   로빈   \n",
       "6411                    쿤타, 낯선, 나다 (NADA)   \n",
       "2077                          김수정, 별나라 언니   \n",
       "2189                                   한준   \n",
       "6474                       고동균, 빨간머리앤, 엑시   \n",
       "4657  서재우 (TENTEN), 빅싼초 (Yummy Tone), 장예은   \n",
       "1250                                  윤종신   \n",
       "5467                   ZigZag Note, 노는어린이   \n",
       "\n",
       "                                               composer  \\\n",
       "4390                                        전자맨, 미성, 코타   \n",
       "4505                                              이단옆차기   \n",
       "234                                            강지원, 김기범   \n",
       "4508                                              이단옆차기   \n",
       "4129                               2Story, Javier Solis   \n",
       "3529   유영진, Will Simms, Anne Judith Wik, Sarah Lundback   \n",
       "248                                            강지원, 김기범   \n",
       "4013                                                서정모   \n",
       "4404                                                 KZ   \n",
       "637                                            우희 (달샤벳)   \n",
       "5495                                            KZ, 곰돌군   \n",
       "5264                                          김도훈 (RBW)   \n",
       "5590        Alex Cantrall, Jeff Hoeppner, Dwight Watson   \n",
       "9096                                                NaN   \n",
       "7466                                           안형석, 장영수   \n",
       "7909                                                JIN   \n",
       "8104                                                NaN   \n",
       "259                                                 NaN   \n",
       "1279                                              슈퍼창따이   \n",
       "9100                                           도마현, 실버벨   \n",
       "3431                                          스타트랙, 마르코   \n",
       "1137                 러버소울 (Rubber Soul), Mad Soul Child   \n",
       "1116                                               어벤전승   \n",
       "1818                                           블랙아이드 필승   \n",
       "1493                                         에스나 (eSNa)   \n",
       "4631                                                김건우   \n",
       "6560                                  혜림 (원더걸스), FRANTS   \n",
       "8582                                 Glen Choi, Fingazz   \n",
       "4641      Ferdy (MosPick), Adam Kulling, Alice Gernandt   \n",
       "2375                           용감한 형제, 차쿤 (일렉트로보이즈), js   \n",
       "2478                                  TEDDY, Bekuh BOOM   \n",
       "6461                                              e.one   \n",
       "6467                                         로빈, Bronze   \n",
       "6411                                   Kevon, 쿤타, 이제이 쇼   \n",
       "2077                                             별나라 언니   \n",
       "2189                                        Gold Dragon   \n",
       "6474                                         고동균, 빨간머리앤   \n",
       "4657  서재우 (TENTEN), 빅싼초 (Yummy Tone), Nick Holiday, ...   \n",
       "1250                                           윤종신, 유희열   \n",
       "5467                                 ZigZag Note, 노는어린이   \n",
       "\n",
       "                                              arranger  \\\n",
       "4390                                               전자맨   \n",
       "4505                                             이단옆차기   \n",
       "234                                                강지원   \n",
       "4508                                             이단옆차기   \n",
       "4129                                               NaN   \n",
       "3529  유영진, Will Simms, Anne Judith Wik, Sarah Lundback   \n",
       "248                                                강지원   \n",
       "4013                                               서정모   \n",
       "4404                                                KZ   \n",
       "637                                           BULL$EYE   \n",
       "5495                                           KZ, 곰돌군   \n",
       "5264                                    김도훈 (RBW), 최용찬   \n",
       "5590       Alex Cantrall, Jeff Hoeppner, Dwight Watson   \n",
       "9096                                               NaN   \n",
       "7466                                               장영수   \n",
       "7909                                               JIN   \n",
       "8104                                               NaN   \n",
       "259                                                NaN   \n",
       "1279                                             슈퍼창따이   \n",
       "9100                                          도마현, 실버벨   \n",
       "3431                                               NaN   \n",
       "1137                                    Mad Soul Child   \n",
       "1116                                              어벤전승   \n",
       "1818                                          블랙아이드 필승   \n",
       "1493                                               최용찬   \n",
       "4631                                          김건우, 송기홍   \n",
       "6560                                 혜림 (원더걸스), FRANTS   \n",
       "8582                                           Fingazz   \n",
       "4641                     Ferdy (MosPick), Adam Kulling   \n",
       "2375                                        js, 용감한 형제   \n",
       "2478                                             TEDDY   \n",
       "6461                                             e.one   \n",
       "6467                                        로빈, Bronze   \n",
       "6411                                               NaN   \n",
       "2077                                            별나라 언니   \n",
       "2189                                                한길   \n",
       "6474                                               고동균   \n",
       "4657      서재우 (TENTEN), 빅싼초 (Yummy Tone), Nick Holiday   \n",
       "1250                                              진바이진   \n",
       "5467                                       ZigZag Note   \n",
       "\n",
       "                                               artist_m gender  idol_id  \\\n",
       "4390                                     주비, 승아, 미성, 코타      여   229494   \n",
       "4505                 효린, 소유 (SOYOU), 다솜 (씨스타), 보라 (씨스타)      여   473181   \n",
       "234          소진 (걸스데이), 민아 (걸스데이), 유라 (걸스데이), 혜리 (걸스데이)      여   482762   \n",
       "4508                 효린, 소유 (SOYOU), 다솜 (씨스타), 보라 (씨스타)      여   473181   \n",
       "4129                                 송지은, 전효성, 정하나, 한선화      여   435121   \n",
       "3529  태연 (TAEYEON), 써니 (SUNNY), 유리 (YURI), 수영 (SOOYO...      여   228069   \n",
       "248          소진 (걸스데이), 민아 (걸스데이), 유라 (걸스데이), 혜리 (걸스데이)      여   482762   \n",
       "4013                                 페린, 타샤, 제니, 주아, 하나      여   687891   \n",
       "4404                                     주비, 승아, 미성, 코타      여   229494   \n",
       "637                    수빈, 세리 (달샤벳), 아영 (달샤벳), 우희 (달샤벳)      여   514619   \n",
       "5495  정은지, 손나은 (에이핑크), 박초롱 (에이핑크), 오하영 (에이핑크), 김남주 (...      여   534360   \n",
       "5264  설현 (AOA), 혜정 (AOA), 찬미 (AOA), 유나 (AOA), 민아 (AO...      여   686920   \n",
       "5590  크리스탈 (KRYSTAL), 루나 (LUNA), 빅토리아 (VICTORIA), 엠버...      여   428501   \n",
       "9096                   빨강 (Red), 파랑 (Blue), 노랑 (Yellow)      여   747339   \n",
       "7466                   백세희, 강민주, 신이랑, 고은실, 권소정, 유화, 한빛나      여   753271   \n",
       "7909            엘린, 소율, 금미 (크레용팝), 초아 (크레용팝), 웨이 (크레용팝)      여   685904   \n",
       "8104                                 아리, 미소, 지수, 민재, 제리      여   685746   \n",
       "259          소진 (걸스데이), 민아 (걸스데이), 유라 (걸스데이), 혜리 (걸스데이)      여   482762   \n",
       "1279                              소정 (레이디스 코드), 애슐리, 주니      여   718807   \n",
       "9100                   빨강 (Red), 파랑 (Blue), 노랑 (Yellow)      여   747339   \n",
       "3431  NEW SUN(뉴썬), High.D (하이디), 의진, D.ana(디애나), 나현,...      여   792822   \n",
       "1137                                             최초아, 킴      여   837535   \n",
       "1116  솔빈 (LABOUM), 소연 (LABOUM), ZN (LABOUM), 해인 (LAB...      여   783462   \n",
       "1818                               수지 (SUZY), 민, 페이, 지아      여   481481   \n",
       "1493             솔라 (마마무), 문별 (마마무), 휘인 (마마무), 화사 (마마무)      여   750053   \n",
       "4631                     장예은, 손, 오승희, 장승연, 최유진, 권은빈, 엘키      여   839579   \n",
       "6560                유빈 (Yubin), 핫펠트 (예은), 선미, 혜림 (원더걸스)      여   217764   \n",
       "8582                 나연, 정연, 모모, 사나, 지효, 미나, 다현, 채영, 쯔위      여   905701   \n",
       "4641                     장예은, 손, 오승희, 장승연, 최유진, 권은빈, 엘키      여   839579   \n",
       "2375                   민영 (Brave Girls), 유정, 은지, 유나, 하윤      여   531700   \n",
       "2478                                     지수, 제니, 로제, 리사      여   995169   \n",
       "6461  설아 (우주소녀), 엑시, 보나, 성소, 은서, 다영, 다원 (우주소녀), 수빈 (...      여   943959   \n",
       "6467  설아 (우주소녀), 엑시, 보나, 성소, 은서, 다영, 다원 (우주소녀), 수빈 (...      여   943959   \n",
       "6411                                     나리, 수진, 우주, 지애      여   729885   \n",
       "2077                             태하, 고운, 서율, 다예, 세형, 조현      여   773603   \n",
       "2189                             문희, 하윤, 가온, 공유, 다윤, 채현      여  1285468   \n",
       "6474  설아 (우주소녀), 엑시, 보나, 성소, 은서, 다영, 다원 (우주소녀), 수빈 (...      여   943959   \n",
       "4657                     장예은, 손, 오승희, 장승연, 최유진, 권은빈, 엘키      여   839579   \n",
       "1250  웬디 (WENDY), 아이린 (IRENE), 슬기 (SEULGI), 조이 (JOY)...      여   780066   \n",
       "5467  윤채경 (에이프릴), 김채원 (에이프릴), 이나은 (에이프릴), 양예나 (에이프릴)...      여   882818   \n",
       "\n",
       "     agency_old    agency_new  debut_y                        debut_t     fan  \n",
       "4390        NaN            로엔   2007.0                         통화 연결음   14283  \n",
       "4505        NaN           스타쉽   2010.0              Push Push (푸시 푸시)   75079  \n",
       "234         NaN           드림티   2010.0                            갸우뚱   59218  \n",
       "4508        NaN           스타쉽   2010.0              Push Push (푸시 푸시)   75079  \n",
       "4129        NaN            TS   2009.0                I Want You Back   10626  \n",
       "3529        NaN            SM   2007.0  다시 만난 세계 (Into The New World)  105431  \n",
       "248         NaN           드림티   2010.0                            갸우뚱   59218  \n",
       "4013        NaN            알파   2012.0                            NaN     108  \n",
       "4404        NaN            로엔   2007.0                         통화 연결음   14283  \n",
       "637         NaN         해피페이스   2011.0                 Supa Dupa Diva    6022  \n",
       "5495        NaN          플랜에이   2011.0                            몰라요  138929  \n",
       "5264        NaN           FNC   2012.0                          ELVIS   57240  \n",
       "5590        NaN            SM   2009.0                라차타 (LA chA TA)   66583  \n",
       "9096        NaN          DoMA   2013.0                             알탕     607  \n",
       "7466        NaN           다른별   2014.0                        오빠 바이러스    1035  \n",
       "7909        NaN            크롬   2012.0                 Saturday Night    6501  \n",
       "8104        NaN          드림스타   2012.0                        Tonight    1600  \n",
       "259         NaN           드림티   2010.0                            갸우뚱   59218  \n",
       "1279        NaN        일광폴라리스   2013.0                           나쁜여자   30033  \n",
       "9100        NaN          DoMA   2013.0                             알탕     607  \n",
       "3431        NaN            TS   2014.0                        Deja Vu    5647  \n",
       "1137        NaN  해피트라이브위드에이치씨   2015.0             Life (Feat. 매드클라운)     928  \n",
       "1116     내가네트워크         NH미디어   2014.0                           두근두근    9319  \n",
       "1818        NaN           JYP   2010.0             Bad Girl Good Girl   22207  \n",
       "1493        NaN           RBW   2014.0                        Mr.애매모호  190765  \n",
       "4631        NaN            큐브   2015.0                           Pepe    8095  \n",
       "6560        NaN           JYP   2007.0                   Irony (아이러니)   34083  \n",
       "8582        NaN           JYP   2015.0                      OOH-AHH하게  179443  \n",
       "4641        NaN            큐브   2015.0                           Pepe    8095  \n",
       "2375        NaN          브레이브   2011.0                            아나요    2801  \n",
       "2478        NaN            YG   2016.0                            NaN  115037  \n",
       "6461        위에화           스타쉽   2016.0                   MoMoMo (모모모)   19535  \n",
       "6467        위에화           스타쉽   2016.0                   MoMoMo (모모모)   19535  \n",
       "6411        NaN        마피아레코드   2013.0                         Wa$$up    1165  \n",
       "2077        NaN        아시아브릿지   2014.0                            NaN    2509  \n",
       "2189        NaN          마루기획   2017.0                           우리끼리     516  \n",
       "6474        위에화           스타쉽   2016.0                   MoMoMo (모모모)   19535  \n",
       "4657        NaN            큐브   2015.0                           Pepe    8095  \n",
       "1250        NaN            SM   2014.0                 행복 (Happiness)  224402  \n",
       "5467        NaN        DSP미디어   2015.0                            꿈사탕   12235  "
      ]
     },
     "execution_count": 20,
     "metadata": {},
     "output_type": "execute_result"
    }
   ],
   "source": [
    "female_o = female3[female3['lyrics'].str.contains(r\"(오빠|오빤)\")]\n",
    "female_o.sort_values(by=['release_date'])"
   ]
  },
  {
   "cell_type": "code",
   "execution_count": 21,
   "metadata": {},
   "outputs": [
    {
     "name": "stderr",
     "output_type": "stream",
     "text": [
      "/Users/yunkim/anaconda3/lib/python3.6/site-packages/ipykernel_launcher.py:1: UserWarning: This pattern has match groups. To actually get the groups, use str.extract.\n",
      "  \"\"\"Entry point for launching an IPython kernel.\n"
     ]
    },
    {
     "data": {
      "text/plain": [
       "(35, 20)"
      ]
     },
     "execution_count": 21,
     "metadata": {},
     "output_type": "execute_result"
    }
   ],
   "source": [
    "male_o = male3[male3['lyrics'].str.contains(r\"(오빠|오빤)\")]\n",
    "male_o.shape"
   ]
  },
  {
   "cell_type": "code",
   "execution_count": 22,
   "metadata": {},
   "outputs": [
    {
     "name": "stderr",
     "output_type": "stream",
     "text": [
      "/Users/yunkim/anaconda3/lib/python3.6/site-packages/ipykernel_launcher.py:1: UserWarning: This pattern has match groups. To actually get the groups, use str.extract.\n",
      "  \"\"\"Entry point for launching an IPython kernel.\n"
     ]
    },
    {
     "data": {
      "text/plain": [
       "(8, 20)"
      ]
     },
     "execution_count": 22,
     "metadata": {},
     "output_type": "execute_result"
    }
   ],
   "source": [
    "female_o = female3[female3['lyrics'].str.contains(r\"(누나|누난)\")]\n",
    "female_o.shape"
   ]
  },
  {
   "cell_type": "code",
   "execution_count": 23,
   "metadata": {},
   "outputs": [
    {
     "name": "stderr",
     "output_type": "stream",
     "text": [
      "/Users/yunkim/anaconda3/lib/python3.6/site-packages/ipykernel_launcher.py:1: UserWarning: This pattern has match groups. To actually get the groups, use str.extract.\n",
      "  \"\"\"Entry point for launching an IPython kernel.\n"
     ]
    },
    {
     "data": {
      "text/plain": [
       "(15, 20)"
      ]
     },
     "execution_count": 23,
     "metadata": {},
     "output_type": "execute_result"
    }
   ],
   "source": [
    "male_o = male3[male3['lyrics'].str.contains(r\"(누나|누난)\")]\n",
    "male_o.shape"
   ]
  },
  {
   "cell_type": "code",
   "execution_count": 24,
   "metadata": {},
   "outputs": [
    {
     "name": "stderr",
     "output_type": "stream",
     "text": [
      "/Users/yunkim/anaconda3/lib/python3.6/site-packages/ipykernel_launcher.py:1: UserWarning: This pattern has match groups. To actually get the groups, use str.extract.\n",
      "  \"\"\"Entry point for launching an IPython kernel.\n"
     ]
    },
    {
     "data": {
      "text/plain": [
       "(6, 20)"
      ]
     },
     "execution_count": 24,
     "metadata": {},
     "output_type": "execute_result"
    }
   ],
   "source": [
    "female_o2 = female2[female2['lyrics'].str.contains(r\"(오빠|오빤)\")]\n",
    "female_o2.shape"
   ]
  },
  {
   "cell_type": "code",
   "execution_count": 25,
   "metadata": {},
   "outputs": [
    {
     "name": "stderr",
     "output_type": "stream",
     "text": [
      "/Users/yunkim/anaconda3/lib/python3.6/site-packages/ipykernel_launcher.py:1: UserWarning: This pattern has match groups. To actually get the groups, use str.extract.\n",
      "  \"\"\"Entry point for launching an IPython kernel.\n"
     ]
    },
    {
     "data": {
      "text/plain": [
       "(10, 20)"
      ]
     },
     "execution_count": 25,
     "metadata": {},
     "output_type": "execute_result"
    }
   ],
   "source": [
    "male_o2 = male2[male2['lyrics'].str.contains(r\"(오빠|오빤)\")]\n",
    "male_o2.shape"
   ]
  },
  {
   "cell_type": "code",
   "execution_count": 26,
   "metadata": {},
   "outputs": [
    {
     "name": "stderr",
     "output_type": "stream",
     "text": [
      "/Users/yunkim/anaconda3/lib/python3.6/site-packages/ipykernel_launcher.py:1: UserWarning: This pattern has match groups. To actually get the groups, use str.extract.\n",
      "  \"\"\"Entry point for launching an IPython kernel.\n"
     ]
    },
    {
     "data": {
      "text/plain": [
       "(2, 20)"
      ]
     },
     "execution_count": 26,
     "metadata": {},
     "output_type": "execute_result"
    }
   ],
   "source": [
    "female_o2 = female2[female2['lyrics'].str.contains(r\"(누나|누난)\")]\n",
    "female_o2.shape"
   ]
  },
  {
   "cell_type": "code",
   "execution_count": 27,
   "metadata": {},
   "outputs": [
    {
     "name": "stderr",
     "output_type": "stream",
     "text": [
      "/Users/yunkim/anaconda3/lib/python3.6/site-packages/ipykernel_launcher.py:1: UserWarning: This pattern has match groups. To actually get the groups, use str.extract.\n",
      "  \"\"\"Entry point for launching an IPython kernel.\n"
     ]
    },
    {
     "data": {
      "text/plain": [
       "(9, 20)"
      ]
     },
     "execution_count": 27,
     "metadata": {},
     "output_type": "execute_result"
    }
   ],
   "source": [
    "male_o2 = male2[male2['lyrics'].str.contains(r\"(누나|누난)\")]\n",
    "male_o2.shape"
   ]
  },
  {
   "cell_type": "code",
   "execution_count": 28,
   "metadata": {},
   "outputs": [
    {
     "name": "stderr",
     "output_type": "stream",
     "text": [
      "/Users/yunkim/anaconda3/lib/python3.6/site-packages/ipykernel_launcher.py:1: UserWarning: This pattern has match groups. To actually get the groups, use str.extract.\n",
      "  \"\"\"Entry point for launching an IPython kernel.\n"
     ]
    },
    {
     "data": {
      "text/plain": [
       "(5, 20)"
      ]
     },
     "execution_count": 28,
     "metadata": {},
     "output_type": "execute_result"
    }
   ],
   "source": [
    "female_o1 = female1[female1['lyrics'].str.contains(r\"(오빠|오빤)\")]\n",
    "female_o1.shape"
   ]
  },
  {
   "cell_type": "code",
   "execution_count": 29,
   "metadata": {},
   "outputs": [
    {
     "name": "stderr",
     "output_type": "stream",
     "text": [
      "/Users/yunkim/anaconda3/lib/python3.6/site-packages/ipykernel_launcher.py:1: UserWarning: This pattern has match groups. To actually get the groups, use str.extract.\n",
      "  \"\"\"Entry point for launching an IPython kernel.\n"
     ]
    },
    {
     "data": {
      "text/plain": [
       "(6, 20)"
      ]
     },
     "execution_count": 29,
     "metadata": {},
     "output_type": "execute_result"
    }
   ],
   "source": [
    "male_o1 = male1[male1['lyrics'].str.contains(r\"(누나|누난)\")]\n",
    "male_o1.shape"
   ]
  },
  {
   "cell_type": "code",
   "execution_count": 30,
   "metadata": {},
   "outputs": [
    {
     "name": "stderr",
     "output_type": "stream",
     "text": [
      "/Users/yunkim/anaconda3/lib/python3.6/site-packages/ipykernel_launcher.py:2: UserWarning: This pattern has match groups. To actually get the groups, use str.extract.\n",
      "  \n"
     ]
    },
    {
     "data": {
      "text/plain": [
       "(0, 20)"
      ]
     },
     "execution_count": 30,
     "metadata": {},
     "output_type": "execute_result"
    }
   ],
   "source": [
    "# 여자아이돌 곡 중 제목에 '오빠' (혹은 오빤)가 등장하는 곡 수는?\n",
    "female_o0 = female0[female0['title'].str.contains(r\"(오빠|오빤)\")]\n",
    "female_o0.shape"
   ]
  },
  {
   "cell_type": "code",
   "execution_count": 31,
   "metadata": {},
   "outputs": [
    {
     "name": "stderr",
     "output_type": "stream",
     "text": [
      "/Users/yunkim/anaconda3/lib/python3.6/site-packages/ipykernel_launcher.py:1: UserWarning: This pattern has match groups. To actually get the groups, use str.extract.\n",
      "  \"\"\"Entry point for launching an IPython kernel.\n"
     ]
    },
    {
     "data": {
      "text/plain": [
       "(0, 20)"
      ]
     },
     "execution_count": 31,
     "metadata": {},
     "output_type": "execute_result"
    }
   ],
   "source": [
    "male_o0 = male0[male0['lyrics'].str.contains(r\"(누나|누난)\")]\n",
    "male_o0.shape"
   ]
  },
  {
   "cell_type": "code",
   "execution_count": 32,
   "metadata": {},
   "outputs": [],
   "source": [
    "def percent(num1, num2):\n",
    "    num1 = float(num1)\n",
    "    num2 = float(num2)\n",
    "    percentage = '{0:.3f}'.format((num1 / num2 * 10))\n",
    "    return percentage"
   ]
  },
  {
   "cell_type": "code",
   "execution_count": 33,
   "metadata": {},
   "outputs": [
    {
     "data": {
      "text/plain": [
       "'0.081'"
      ]
     },
     "execution_count": 33,
     "metadata": {},
     "output_type": "execute_result"
    }
   ],
   "source": [
    "# 1세대 여자아이돌 곡 중 가사에 '오빠' (혹은 오빤)가 등장하는 곡 비율\n",
    "percent(5, 614)"
   ]
  },
  {
   "cell_type": "code",
   "execution_count": 34,
   "metadata": {},
   "outputs": [
    {
     "data": {
      "text/plain": [
       "'0.081'"
      ]
     },
     "execution_count": 34,
     "metadata": {},
     "output_type": "execute_result"
    }
   ],
   "source": [
    "# 2세대 여자아이돌 곡 중 가사에 '오빠' (혹은 오빤)가 등장하는 곡 비율\n",
    "percent(6, 737)"
   ]
  },
  {
   "cell_type": "code",
   "execution_count": 35,
   "metadata": {},
   "outputs": [
    {
     "data": {
      "text/plain": [
       "'0.194'"
      ]
     },
     "execution_count": 35,
     "metadata": {},
     "output_type": "execute_result"
    }
   ],
   "source": [
    "# 3세대 여자아이돌 곡 중 가사에 '오빠' (혹은 오빤)가 등장하는 곡 비율\n",
    "percent(38, 1960)"
   ]
  },
  {
   "cell_type": "code",
   "execution_count": 36,
   "metadata": {},
   "outputs": [
    {
     "data": {
      "text/plain": [
       "'0.037'"
      ]
     },
     "execution_count": 36,
     "metadata": {},
     "output_type": "execute_result"
    }
   ],
   "source": [
    "# 1세대 남자아이돌 곡 중 가사에 '누나' (혹은 누난)가 등장하는 곡 비율\n",
    "percent(5, 1345)"
   ]
  },
  {
   "cell_type": "code",
   "execution_count": 37,
   "metadata": {},
   "outputs": [
    {
     "data": {
      "text/plain": [
       "'0.065'"
      ]
     },
     "execution_count": 37,
     "metadata": {},
     "output_type": "execute_result"
    }
   ],
   "source": [
    "# 2세대 남자아이돌 곡 중 가사에 '누나' (혹은 누난)가 등장하는 곡 비율\n",
    "percent(9, 1387)"
   ]
  },
  {
   "cell_type": "code",
   "execution_count": 38,
   "metadata": {},
   "outputs": [
    {
     "data": {
      "text/plain": [
       "'0.050'"
      ]
     },
     "execution_count": 38,
     "metadata": {},
     "output_type": "execute_result"
    }
   ],
   "source": [
    "# 3세대 남자아이돌 곡 중 가사에 '누나' (혹은 누난)가 등장하는 곡 비율\n",
    "percent(14, 2815)"
   ]
  },
  {
   "cell_type": "code",
   "execution_count": 39,
   "metadata": {},
   "outputs": [],
   "source": [
    "import plotly"
   ]
  },
  {
   "cell_type": "code",
   "execution_count": 40,
   "metadata": {},
   "outputs": [],
   "source": [
    "df = pd.DataFrame({\n",
    "    'female_n': [0.081, 0.081, 0.194],\n",
    "    'male_n': [0.037, 0.065, 0.050]\n",
    "    }, index=[1, 2, 3])\n",
    "lines = df.plot.line()"
   ]
  },
  {
   "cell_type": "code",
   "execution_count": 41,
   "metadata": {},
   "outputs": [
    {
     "ename": "NameError",
     "evalue": "name 'plt' is not defined",
     "output_type": "error",
     "traceback": [
      "\u001b[0;31m---------------------------------------------------------------------------\u001b[0m",
      "\u001b[0;31mNameError\u001b[0m                                 Traceback (most recent call last)",
      "\u001b[0;32m<ipython-input-41-b4e880ab2e11>\u001b[0m in \u001b[0;36m<module>\u001b[0;34m()\u001b[0m\n\u001b[1;32m      2\u001b[0m \u001b[0mfemale_o\u001b[0m \u001b[0;34m=\u001b[0m \u001b[0;34m[\u001b[0m\u001b[0;36m0.081\u001b[0m\u001b[0;34m,\u001b[0m \u001b[0;36m0.081\u001b[0m\u001b[0;34m,\u001b[0m \u001b[0;36m0.194\u001b[0m\u001b[0;34m]\u001b[0m\u001b[0;34m\u001b[0m\u001b[0m\n\u001b[1;32m      3\u001b[0m \u001b[0mmale_n\u001b[0m \u001b[0;34m=\u001b[0m \u001b[0;34m[\u001b[0m\u001b[0;36m0.037\u001b[0m\u001b[0;34m,\u001b[0m \u001b[0;36m0.065\u001b[0m\u001b[0;34m,\u001b[0m \u001b[0;36m0.050\u001b[0m\u001b[0;34m]\u001b[0m\u001b[0;34m\u001b[0m\u001b[0m\n\u001b[0;32m----> 4\u001b[0;31m \u001b[0mplt\u001b[0m\u001b[0;34m.\u001b[0m\u001b[0mplot\u001b[0m\u001b[0;34m(\u001b[0m\u001b[0myear\u001b[0m\u001b[0;34m,\u001b[0m \u001b[0mfemale_o\u001b[0m\u001b[0;34m,\u001b[0m \u001b[0mcolor\u001b[0m\u001b[0;34m=\u001b[0m\u001b[0;34m'g'\u001b[0m\u001b[0;34m)\u001b[0m\u001b[0;34m\u001b[0m\u001b[0m\n\u001b[0m\u001b[1;32m      5\u001b[0m \u001b[0mplt\u001b[0m\u001b[0;34m.\u001b[0m\u001b[0mplot\u001b[0m\u001b[0;34m(\u001b[0m\u001b[0myear\u001b[0m\u001b[0;34m,\u001b[0m \u001b[0mmale_n\u001b[0m\u001b[0;34m,\u001b[0m \u001b[0mcolor\u001b[0m\u001b[0;34m=\u001b[0m\u001b[0;34m'orange'\u001b[0m\u001b[0;34m)\u001b[0m\u001b[0;34m\u001b[0m\u001b[0m\n\u001b[1;32m      6\u001b[0m \u001b[0mplt\u001b[0m\u001b[0;34m.\u001b[0m\u001b[0mxlabel\u001b[0m\u001b[0;34m(\u001b[0m\u001b[0;34m'Countries'\u001b[0m\u001b[0;34m)\u001b[0m\u001b[0;34m\u001b[0m\u001b[0m\n",
      "\u001b[0;31mNameError\u001b[0m: name 'plt' is not defined"
     ]
    }
   ],
   "source": [
    "year = [1, 2, 3]\n",
    "female_o = [0.081, 0.081, 0.194]\n",
    "male_n = [0.037, 0.065, 0.050]\n",
    "plt.plot(year, female_o, color='g')\n",
    "plt.plot(year, male_n, color='orange')\n",
    "plt.xlabel('Countries')\n",
    "plt.ylabel('Population in million')\n",
    "plt.title('Pakistan India Population till 2010')\n",
    "plt.show()"
   ]
  },
  {
   "cell_type": "code",
   "execution_count": 43,
   "metadata": {},
   "outputs": [],
   "source": [
    "category_count3 = pd.Series([0.081, 0.037, 0.081, 0.065, 0.194, 0.050],\n",
    "                    index=['여자아이돌 가사 속 오빠_1', '남자아이돌 가사 속 누나_1', \n",
    "                           '여자아이돌 가사 속 오빠_2', '남자아이돌 가사 속 누나_2',\n",
    "                            '여자아이돌 가사 속 오빠_3', '남자아이돌 가사 속 누나_3'])"
   ]
  },
  {
   "cell_type": "code",
   "execution_count": 44,
   "metadata": {},
   "outputs": [
    {
     "data": {
      "text/plain": [
       "(array([0, 1, 2, 3, 4, 5]), <a list of 6 Text xticklabel objects>)"
      ]
     },
     "execution_count": 44,
     "metadata": {},
     "output_type": "execute_result"
    },
    {
     "data": {
      "image/png": "[encoded data removed]",
      "text/plain": [
       "<Figure size 432x288 with 1 Axes>"
      ]
     },
     "metadata": {},
     "output_type": "display_data"
    }
   ],
   "source": [
    "%matplotlib inline\n",
    "import matplotlib.pyplot as plt\n",
    "\n",
    "\n",
    "plt.rcParams[\"font.family\"] = 'NanumBarunGothic'\n",
    "category_count3.plot(kind='bar', color=['royalblue', 'orange', 'royalblue', 'orange', 'royalblue', 'orange'], title='가사 속 호칭')  #X11 color names 로 검색\n",
    "# plt.bar(y_pos, height, color=['blue', 'orange', 'blue', 'orange',])\n",
    "plt.xticks(rotation=65)"
   ]
  },
  {
   "cell_type": "code",
   "execution_count": 51,
   "metadata": {},
   "outputs": [
    {
     "data": {
      "text/plain": [
       "(3338, 20)"
      ]
     },
     "execution_count": 51,
     "metadata": {},
     "output_type": "execute_result"
    }
   ],
   "source": [
    "female = song[song['gender'] == '여']\n",
    "female.shape"
   ]
  },
  {
   "cell_type": "code",
   "execution_count": 50,
   "metadata": {},
   "outputs": [
    {
     "data": {
      "text/plain": [
       "(5869, 20)"
      ]
     },
     "execution_count": 50,
     "metadata": {},
     "output_type": "execute_result"
    }
   ],
   "source": [
    "male = song[song['gender'] == '남']\n",
    "male.shape"
   ]
  },
  {
   "cell_type": "code",
   "execution_count": 80,
   "metadata": {},
   "outputs": [
    {
     "data": {
      "text/plain": [
       "(208, 20)"
      ]
     },
     "execution_count": 80,
     "metadata": {},
     "output_type": "execute_result"
    }
   ],
   "source": [
    "male_yo = male[male['lyrics'].str.contains(r\".{1,4}요$\")]\n",
    "male_yo.shape"
   ]
  },
  {
   "cell_type": "code",
   "execution_count": 79,
   "metadata": {},
   "outputs": [
    {
     "data": {
      "text/plain": [
       "(168, 20)"
      ]
     },
     "execution_count": 79,
     "metadata": {},
     "output_type": "execute_result"
    }
   ],
   "source": [
    "female_yo = female[female['lyrics'].str.contains(r\".{1,4}요$\")]\n",
    "female_yo.shape"
   ]
  },
  {
   "cell_type": "code",
   "execution_count": 153,
   "metadata": {},
   "outputs": [
    {
     "data": {
      "text/html": [
       "<div>\n",
       "<style scoped>\n",
       "    .dataframe tbody tr th:only-of-type {\n",
       "        vertical-align: middle;\n",
       "    }\n",
       "\n",
       "    .dataframe tbody tr th {\n",
       "        vertical-align: top;\n",
       "    }\n",
       "\n",
       "    .dataframe thead th {\n",
       "        text-align: right;\n",
       "    }\n",
       "</style>\n",
       "<table border=\"1\" class=\"dataframe\">\n",
       "  <thead>\n",
       "    <tr style=\"text-align: right;\">\n",
       "      <th></th>\n",
       "      <th>generation</th>\n",
       "      <th>title</th>\n",
       "      <th>value</th>\n",
       "    </tr>\n",
       "  </thead>\n",
       "  <tbody>\n",
       "    <tr>\n",
       "      <th>0</th>\n",
       "      <td>1</td>\n",
       "      <td>oppa</td>\n",
       "      <td>0.081</td>\n",
       "    </tr>\n",
       "    <tr>\n",
       "      <th>1</th>\n",
       "      <td>1</td>\n",
       "      <td>nuna</td>\n",
       "      <td>0.037</td>\n",
       "    </tr>\n",
       "    <tr>\n",
       "      <th>2</th>\n",
       "      <td>2</td>\n",
       "      <td>oppa</td>\n",
       "      <td>0.081</td>\n",
       "    </tr>\n",
       "    <tr>\n",
       "      <th>3</th>\n",
       "      <td>2</td>\n",
       "      <td>nuna</td>\n",
       "      <td>0.065</td>\n",
       "    </tr>\n",
       "    <tr>\n",
       "      <th>4</th>\n",
       "      <td>3</td>\n",
       "      <td>oppa</td>\n",
       "      <td>0.194</td>\n",
       "    </tr>\n",
       "    <tr>\n",
       "      <th>5</th>\n",
       "      <td>3</td>\n",
       "      <td>nuna</td>\n",
       "      <td>0.050</td>\n",
       "    </tr>\n",
       "  </tbody>\n",
       "</table>\n",
       "</div>"
      ],
      "text/plain": [
       "  generation title  value\n",
       "0          1  oppa  0.081\n",
       "1          1  nuna  0.037\n",
       "2          2  oppa  0.081\n",
       "3          2  nuna  0.065\n",
       "4          3  oppa  0.194\n",
       "5          3  nuna  0.050"
      ]
     },
     "execution_count": 153,
     "metadata": {},
     "output_type": "execute_result"
    }
   ],
   "source": [
    "time_series = pd.DataFrame({\n",
    "    \"generation\" : [\"1\", \"1\", \"2\", \"2\", \"3\", \"3\"],\n",
    "    \"title\" : [\"oppa\", \"nuna\", \"oppa\", \"nuna\", \"oppa\", \"nuna\"],\n",
    "    \"value\" : [0.081, 0.037, 0.081, 0.065, 0.194, 0.050],\n",
    "})\n",
    "time_series"
   ]
  },
  {
   "cell_type": "code",
   "execution_count": 159,
   "metadata": {},
   "outputs": [
    {
     "data": {
      "text/plain": [
       "<matplotlib.axes._subplots.AxesSubplot at 0x1a27332c88>"
      ]
     },
     "execution_count": 159,
     "metadata": {},
     "output_type": "execute_result"
    },
    {
     "data": {
      "image/png": "[encoded data removed]",
      "text/plain": [
       "<Figure size 432x288 with 1 Axes>"
      ]
     },
     "metadata": {},
     "output_type": "display_data"
    }
   ],
   "source": [
    "color = '#20C2AA', '#7A37F5'\n",
    "time_series.pivot(index='generation', columns='title', values='value').plot.bar(color = color, rot=0)"
   ]
  },
  {
   "cell_type": "code",
   "execution_count": 125,
   "metadata": {},
   "outputs": [
    {
     "ename": "NameError",
     "evalue": "name 'key' is not defined",
     "output_type": "error",
     "traceback": [
      "\u001b[0;31m---------------------------------------------------------------------------\u001b[0m",
      "\u001b[0;31mNameError\u001b[0m                                 Traceback (most recent call last)",
      "\u001b[0;32m<ipython-input-125-97c82f6e64c1>\u001b[0m in \u001b[0;36m<module>\u001b[0;34m()\u001b[0m\n\u001b[1;32m      1\u001b[0m \u001b[0;31m#7A37F5\u001b[0m\u001b[0;34m\u001b[0m\u001b[0;34m\u001b[0m\u001b[0m\n\u001b[1;32m      2\u001b[0m \u001b[0;31m#20C2AA\u001b[0m\u001b[0;34m\u001b[0m\u001b[0;34m\u001b[0m\u001b[0m\n\u001b[0;32m----> 3\u001b[0;31m \u001b[0mtime_series\u001b[0m\u001b[0;34m.\u001b[0m\u001b[0miloc\u001b[0m\u001b[0;34m[\u001b[0m\u001b[0mkey\u001b[0m\u001b[0;34m.\u001b[0m\u001b[0margsort\u001b[0m\u001b[0;34m(\u001b[0m\u001b[0;34m)\u001b[0m\u001b[0;34m]\u001b[0m\u001b[0;34m\u001b[0m\u001b[0m\n\u001b[0m",
      "\u001b[0;31mNameError\u001b[0m: name 'key' is not defined"
     ]
    }
   ],
   "source": [
    "#7A37F5\n",
    "#20C2AA"
   ]
  },
  {
   "cell_type": "code",
   "execution_count": 160,
   "metadata": {},
   "outputs": [
    {
     "data": {
      "text/html": [
       "<div>\n",
       "<style scoped>\n",
       "    .dataframe tbody tr th:only-of-type {\n",
       "        vertical-align: middle;\n",
       "    }\n",
       "\n",
       "    .dataframe tbody tr th {\n",
       "        vertical-align: top;\n",
       "    }\n",
       "\n",
       "    .dataframe thead th {\n",
       "        text-align: right;\n",
       "    }\n",
       "</style>\n",
       "<table border=\"1\" class=\"dataframe\">\n",
       "  <thead>\n",
       "    <tr style=\"text-align: right;\">\n",
       "      <th></th>\n",
       "      <th>generation</th>\n",
       "      <th>title</th>\n",
       "      <th>value</th>\n",
       "    </tr>\n",
       "  </thead>\n",
       "  <tbody>\n",
       "    <tr>\n",
       "      <th>0</th>\n",
       "      <td>1</td>\n",
       "      <td>oppa</td>\n",
       "      <td>0.081</td>\n",
       "    </tr>\n",
       "    <tr>\n",
       "      <th>1</th>\n",
       "      <td>1</td>\n",
       "      <td>nuna</td>\n",
       "      <td>0.037</td>\n",
       "    </tr>\n",
       "    <tr>\n",
       "      <th>2</th>\n",
       "      <td>2</td>\n",
       "      <td>oppa</td>\n",
       "      <td>0.081</td>\n",
       "    </tr>\n",
       "    <tr>\n",
       "      <th>3</th>\n",
       "      <td>2</td>\n",
       "      <td>nuna</td>\n",
       "      <td>0.065</td>\n",
       "    </tr>\n",
       "    <tr>\n",
       "      <th>4</th>\n",
       "      <td>3</td>\n",
       "      <td>oppa</td>\n",
       "      <td>0.194</td>\n",
       "    </tr>\n",
       "    <tr>\n",
       "      <th>5</th>\n",
       "      <td>3</td>\n",
       "      <td>nuna</td>\n",
       "      <td>0.050</td>\n",
       "    </tr>\n",
       "  </tbody>\n",
       "</table>\n",
       "</div>"
      ],
      "text/plain": [
       "  generation title  value\n",
       "0          1  oppa  0.081\n",
       "1          1  nuna  0.037\n",
       "2          2  oppa  0.081\n",
       "3          2  nuna  0.065\n",
       "4          3  oppa  0.194\n",
       "5          3  nuna  0.050"
      ]
     },
     "execution_count": 160,
     "metadata": {},
     "output_type": "execute_result"
    }
   ],
   "source": [
    "time_series = pd.DataFrame({\n",
    "    \"generation\" : [\"1\", \"1\", \"2\", \"2\", \"3\", \"3\"],\n",
    "    \"title\" : [\"oppa\", \"nuna\", \"oppa\", \"nuna\", \"oppa\", \"nuna\"],\n",
    "    \"value\" : [0.081, 0.037, 0.081, 0.065, 0.194, 0.050],\n",
    "})\n",
    "time_series"
   ]
  },
  {
   "cell_type": "code",
   "execution_count": null,
   "metadata": {},
   "outputs": [],
   "source": []
  }
 ],
 "metadata": {
  "kernelspec": {
   "display_name": "Python 3",
   "language": "python",
   "name": "python3"
  },
  "language_info": {
   "codemirror_mode": {
    "name": "ipython",
    "version": 3
   },
   "file_extension": ".py",
   "mimetype": "text/x-python",
   "name": "python",
   "nbconvert_exporter": "python",
   "pygments_lexer": "ipython3",
   "version": "3.6.5"
  }
 },
 "nbformat": 4,
 "nbformat_minor": 2
}
